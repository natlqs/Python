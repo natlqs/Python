{
 "cells": [
  {
   "cell_type": "code",
   "execution_count": 4,
   "metadata": {},
   "outputs": [
    {
     "ename": "AttributeError",
     "evalue": "module 'selenium.webdriver' has no attribute 'PhantomJS'",
     "output_type": "error",
     "traceback": [
      "\u001b[1;31m---------------------------------------------------------------------------\u001b[0m",
      "\u001b[1;31mAttributeError\u001b[0m                            Traceback (most recent call last)",
      "\u001b[1;32mc:\\01_Data\\CODE\\Python\\Machine Learning\\微信读书爬取.ipynb Cell 1'\u001b[0m in \u001b[0;36m<cell line: 2>\u001b[1;34m()\u001b[0m\n\u001b[0;32m      <a href='vscode-notebook-cell:/c%3A/01_Data/CODE/Python/Machine%20Learning/%E5%BE%AE%E4%BF%A1%E8%AF%BB%E4%B9%A6%E7%88%AC%E5%8F%96.ipynb#ch0000000?line=0'>1</a>\u001b[0m \u001b[39mfrom\u001b[39;00m \u001b[39mselenium\u001b[39;00m \u001b[39mimport\u001b[39;00m webdriver\n\u001b[1;32m----> <a href='vscode-notebook-cell:/c%3A/01_Data/CODE/Python/Machine%20Learning/%E5%BE%AE%E4%BF%A1%E8%AF%BB%E4%B9%A6%E7%88%AC%E5%8F%96.ipynb#ch0000000?line=1'>2</a>\u001b[0m browser \u001b[39m=\u001b[39m webdriver\u001b[39m.\u001b[39;49mPhantomJS()\n\u001b[0;32m      <a href='vscode-notebook-cell:/c%3A/01_Data/CODE/Python/Machine%20Learning/%E5%BE%AE%E4%BF%A1%E8%AF%BB%E4%B9%A6%E7%88%AC%E5%8F%96.ipynb#ch0000000?line=2'>3</a>\u001b[0m url \u001b[39m=\u001b[39m \u001b[39m'\u001b[39m\u001b[39mhttps://weread.qq.com/web/reader/f4e32d4071e1ec54f4e18f9kd8232f00235d82c8d161fb2\u001b[39m\u001b[39m'\u001b[39m\n\u001b[0;32m      <a href='vscode-notebook-cell:/c%3A/01_Data/CODE/Python/Machine%20Learning/%E5%BE%AE%E4%BF%A1%E8%AF%BB%E4%B9%A6%E7%88%AC%E5%8F%96.ipynb#ch0000000?line=3'>4</a>\u001b[0m browser\u001b[39m.\u001b[39mget(url)\n",
      "\u001b[1;31mAttributeError\u001b[0m: module 'selenium.webdriver' has no attribute 'PhantomJS'"
     ]
    }
   ],
   "source": [
    "from selenium import webdriver\n",
    "browser = webdriver.PhantomJS()\n",
    "url = 'https://weread.qq.com/web/reader/f4e32d4071e1ec54f4e18f9kd8232f00235d82c8d161fb2'\n",
    "browser.get(url)\n",
    "browser.get_screenshot_as_file('b.png')\n",
    "browser.save_screenshot('a.png')\n",
    "browser.close()"
   ]
  },
  {
   "cell_type": "code",
   "execution_count": 11,
   "metadata": {},
   "outputs": [],
   "source": [
    "from selenium import webdriver\n",
    "import time\n",
    "import json, base64\n",
    "\n",
    "\n",
    "def capture_full_screen(driver) :\n",
    "\n",
    "    def send(ctrl, params):\n",
    "        resource = \"/session/%s/chromium/send_command_and_get_result\" % driver.session_id\n",
    "        url = driver.command_executor._url + resource\n",
    "        body = json.dumps({\"cmd\":ctrl, \"params\": params})\n",
    "        response = driver.command_executor._request(\"POST\", url, body)\n",
    "        return response.get(\"value\")\n",
    "\n",
    "    def evaluate(script):\n",
    "        response = send(\"Runtime.evaluate\", {\"returnByValue\": True, \"expression\": script})\n",
    "        return response[\"result\"][\"value\"]\n",
    "\n",
    "    metrics = evaluate(\\\n",
    "    \"({\" + \\\n",
    "      \"width: Math.max(window.innerWidth, document.body.scrollWidth, document.documentElement.scrollWidth)|0,\" + \\\n",
    "      \"height: Math.max(innerHeight, document.body.scrollHeight, document.documentElement.scrollHeight)|0,\" + \\\n",
    "      \"deviceScaleFactor: window.devicePixelRatio || 1,\" + \\\n",
    "      \"mobile: typeof window.orientation !== 'undefined'\" + \\\n",
    "    \"})\")\n",
    "    send(\"Emulation.setDeviceMetricsOverride\", metrics)\n",
    "    screenshot = send(\"Page.captureScreenshot\", {\"format\": \"png\", \"fromSurface\": True})\n",
    "    send(\"Emulation.clearDeviceMetricsOverride\", {})\n",
    "\n",
    "    return base64.b64decode(screenshot[\"data\"])\n",
    "\n",
    "\n",
    "if __name__ == \"__main__\":\n",
    "    driver = webdriver.Edge()\n",
    "    driver.get(\"https://weread.qq.com/web/reader/f4e32d4071e1ec54f4e18f9kc81322c012c81e728d9d180\")\n",
    "    time.sleep(1)\n",
    "    screenshot = capture_full_screen(driver)\n",
    "    with open(\"./full.png\", 'wb') as f:\n",
    "        f.write(screenshot)\n",
    "    driver.quit()"
   ]
  },
  {
   "cell_type": "markdown",
   "metadata": {},
   "source": [
    "## Python大数据分析与机器学习商业案例实战"
   ]
  },
  {
   "cell_type": "code",
   "execution_count": 1,
   "metadata": {},
   "outputs": [
    {
     "name": "stderr",
     "output_type": "stream",
     "text": [
      "C:\\Users\\Natlqs1234\\AppData\\Local\\Temp\\ipykernel_25768\\1014019317.py:38: DeprecationWarning: find_element_by_xpath is deprecated. Please use find_element(by=By.XPATH, value=xpath) instead\n",
      "  driver.find_element_by_xpath('//*[@id=\"routerView\"]/div[2]/button[3]').click()\n"
     ]
    }
   ],
   "source": [
    "from selenium import webdriver\n",
    "from selenium.webdriver.common.by import By\n",
    "import time\n",
    "import json, base64\n",
    "\n",
    "\n",
    "def capture_full_screen(driver) :\n",
    "\n",
    "    def send(ctrl, params):\n",
    "        resource = \"/session/%s/chromium/send_command_and_get_result\" % driver.session_id\n",
    "        url = driver.command_executor._url + resource\n",
    "        body = json.dumps({\"cmd\":ctrl, \"params\": params})\n",
    "        response = driver.command_executor._request(\"POST\", url, body)\n",
    "        return response.get(\"value\")\n",
    "\n",
    "    def evaluate(script):\n",
    "        response = send(\"Runtime.evaluate\", {\"returnByValue\": True, \"expression\": script})\n",
    "        return response[\"result\"][\"value\"]\n",
    "\n",
    "    metrics = evaluate(\\\n",
    "    \"({\" + \\\n",
    "      \"width: Math.max(window.innerWidth, document.body.scrollWidth, document.documentElement.scrollWidth)|0,\" + \\\n",
    "      \"height: Math.max(innerHeight, document.body.scrollHeight, document.documentElement.scrollHeight)|0,\" + \\\n",
    "      \"deviceScaleFactor: window.devicePixelRatio || 1,\" + \\\n",
    "      \"mobile: typeof window.orientation !== 'undefined'\" + \\\n",
    "    \"})\")\n",
    "    send(\"Emulation.setDeviceMetricsOverride\", metrics)\n",
    "    screenshot = send(\"Page.captureScreenshot\", {\"format\": \"png\", \"fromSurface\": True})\n",
    "    send(\"Emulation.clearDeviceMetricsOverride\", {})\n",
    "\n",
    "    return base64.b64decode(screenshot[\"data\"])\n",
    "\n",
    "\n",
    "if __name__ == \"__main__\":\n",
    "    driver = webdriver.Edge()\n",
    "    driver.maximize_window()\n",
    "    driver.get(\"https://weread.qq.com/web/reader/f4e32d4071e1ec54f4e18f9kc81322c012c81e728d9d180\")\n",
    "    driver.find_element_by_xpath('//*[@id=\"routerView\"]/div[2]/button[3]').click()\n",
    "    time.sleep(0.5)\n",
    "    screenshot = capture_full_screen(driver)\n",
    "    with open(\".\\\\Python大数据分析与机器学习商业案例实战\\\\0.png\", 'wb') as f:\n",
    "        f.write(screenshot)\n",
    "    driver.find_element(By.XPATH, '//*[@id=\"routerView\"]/div[1]/div[7]/div/button').click()\n",
    "    # for i in range(1, 3):\n",
    "    i = 1\n",
    "    while True:\n",
    "        try:\n",
    "            time.sleep(3.5)\n",
    "            screenshot = capture_full_screen(driver)\n",
    "            with open(\".\\\\Python大数据分析与机器学习商业案例实战\\\\{}.png\".format(i), 'wb') as f:\n",
    "                f.write(screenshot)\n",
    "            i = i + 1\n",
    "            driver.find_element(By.XPATH, '//*[@id=\"routerView\"]/div[1]/div[5]/div/button').click()\n",
    "        except:\n",
    "            pass\n",
    "    driver.quit()"
   ]
  },
  {
   "cell_type": "markdown",
   "metadata": {},
   "source": [
    "## Python机器学习"
   ]
  },
  {
   "cell_type": "code",
   "execution_count": 3,
   "metadata": {},
   "outputs": [
    {
     "name": "stderr",
     "output_type": "stream",
     "text": [
      "C:\\Users\\Natlqs1234\\AppData\\Local\\Temp\\ipykernel_32932\\164834239.py:38: DeprecationWarning: find_element_by_xpath is deprecated. Please use find_element(by=By.XPATH, value=xpath) instead\n",
      "  driver.find_element_by_xpath('//*[@id=\"routerView\"]/div[2]/button[3]').click()\n"
     ]
    }
   ],
   "source": [
    "from selenium import webdriver\n",
    "from selenium.webdriver.common.by import By\n",
    "import time\n",
    "import json, base64\n",
    "\n",
    "\n",
    "def capture_full_screen(driver) :\n",
    "\n",
    "    def send(ctrl, params):\n",
    "        resource = \"/session/%s/chromium/send_command_and_get_result\" % driver.session_id\n",
    "        url = driver.command_executor._url + resource\n",
    "        body = json.dumps({\"cmd\":ctrl, \"params\": params})\n",
    "        response = driver.command_executor._request(\"POST\", url, body)\n",
    "        return response.get(\"value\")\n",
    "\n",
    "    def evaluate(script):\n",
    "        response = send(\"Runtime.evaluate\", {\"returnByValue\": True, \"expression\": script})\n",
    "        return response[\"result\"][\"value\"]\n",
    "\n",
    "    metrics = evaluate(\\\n",
    "    \"({\" + \\\n",
    "      \"width: Math.max(window.innerWidth, document.body.scrollWidth, document.documentElement.scrollWidth)|0,\" + \\\n",
    "      \"height: Math.max(innerHeight, document.body.scrollHeight, document.documentElement.scrollHeight)|0,\" + \\\n",
    "      \"deviceScaleFactor: window.devicePixelRatio || 1,\" + \\\n",
    "      \"mobile: typeof window.orientation !== 'undefined'\" + \\\n",
    "    \"})\")\n",
    "    send(\"Emulation.setDeviceMetricsOverride\", metrics)\n",
    "    screenshot = send(\"Page.captureScreenshot\", {\"format\": \"png\", \"fromSurface\": True})\n",
    "    send(\"Emulation.clearDeviceMetricsOverride\", {})\n",
    "\n",
    "    return base64.b64decode(screenshot[\"data\"])\n",
    "\n",
    "\n",
    "if __name__ == \"__main__\":\n",
    "    driver = webdriver.Edge()\n",
    "    driver.maximize_window()\n",
    "    driver.get('https://weread.qq.com/web/reader/b5432cc0724ad4a3b5413e1kc81322c012c81e728d9d180')         # Python金融大数据挖掘与分析全流程详解\n",
    "    driver.find_element_by_xpath('//*[@id=\"routerView\"]/div[2]/button[3]').click()\n",
    "    time.sleep(0.5)\n",
    "    screenshot = capture_full_screen(driver)\n",
    "    with open(r\"C:\\01_Data\\CODE\\Python\\Machine Learning\\Python机器学习（第3版）\\0.png\", 'wb') as f:\n",
    "    # with open(r\"C:\\01_Data\\CODE\\Python\\Machine Learning\\Python大数据分析与机器学习商业案例实战\\0.png\", 'wb') as f:\n",
    "        f.write(screenshot)\n",
    "    driver.find_element(By.XPATH, '//*[@id=\"routerView\"]/div[1]/div[7]/div/button').click()\n",
    "    # for i in range(1, 3):\n",
    "    i = 1\n",
    "    while True:\n",
    "        try:\n",
    "            time.sleep(2.5)\n",
    "            screenshot = capture_full_screen(driver)\n",
    "            with open(r\"C:\\01_Data\\CODE\\Python\\Machine Learning\\Python机器学习（第3版）\\{}.png\".format(i), 'wb') as f:\n",
    "                f.write(screenshot)\n",
    "            i = i + 1\n",
    "            driver.find_element(By.XPATH, '//*[@id=\"routerView\"]/div[1]/div[5]/div/button').click()\n",
    "        except:\n",
    "            pass\n",
    "    driver.quit()"
   ]
  }
 ],
 "metadata": {
  "interpreter": {
   "hash": "675868e700a09232ff5f9656c2a8569beabdbea23de5bdd2dccbb6bda2f05741"
  },
  "kernelspec": {
   "display_name": "Python 3.9.12 64-bit (windows store)",
   "language": "python",
   "name": "python3"
  },
  "language_info": {
   "codemirror_mode": {
    "name": "ipython",
    "version": 3
   },
   "file_extension": ".py",
   "mimetype": "text/x-python",
   "name": "python",
   "nbconvert_exporter": "python",
   "pygments_lexer": "ipython3",
   "version": "3.9.12"
  },
  "orig_nbformat": 4
 },
 "nbformat": 4,
 "nbformat_minor": 2
}
