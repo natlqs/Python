{
 "cells": [
  {
   "cell_type": "markdown",
   "metadata": {},
   "source": [
    "## 线性回归模型\n",
    "### 3.1.2 一元线性回归的代码实现"
   ]
  },
  {
   "cell_type": "markdown",
   "metadata": {},
   "source": [
    "#### 1.绘制散点图"
   ]
  },
  {
   "cell_type": "code",
   "execution_count": 7,
   "metadata": {},
   "outputs": [
    {
     "data": {
      "image/png": "[encoded data removed]",
      "text/plain": [
       "<Figure size 432x288 with 1 Axes>"
      ]
     },
     "metadata": {
      "needs_background": "light"
     },
     "output_type": "display_data"
    }
   ],
   "source": [
    "import matplotlib.pyplot as plt\n",
    "x = [[1], [2], [4], [5]]\n",
    "y = [2, 4, 6, 8]\n",
    "plt.scatter(x, y)\n",
    "plt.show()"
   ]
  },
  {
   "cell_type": "markdown",
   "metadata": {},
   "source": [
    "#### 2.引入Scikit-Learn库搭建模型"
   ]
  },
  {
   "cell_type": "code",
   "execution_count": null,
   "metadata": {},
   "outputs": [],
   "source": [
    "from sklearn.linear_model import LinearRegression # 引入线性回归的相关模块LinearRegression\n",
    "regr = LinearRegression()       # 构造一个初始的线性回归模型并命名为regr\n",
    "regr.fit(x, y)      # 用fit()函数完成模型搭建，此时的regr就是一个搭建好的线性回归模型"
   ]
  },
  {
   "cell_type": "markdown",
   "metadata": {},
   "source": [
    "#### 3.模型预测"
   ]
  },
  {
   "cell_type": "code",
   "execution_count": 16,
   "metadata": {},
   "outputs": [
    {
     "name": "stdout",
     "output_type": "stream",
     "text": [
      "[2.9]\n",
      "[2.9 4.3 7.1]\n"
     ]
    }
   ],
   "source": [
    "from sklearn.linear_model import LinearRegression\n",
    "x = [[1], [2], [4], [5]]\n",
    "y  = [2, 4, 6, 8]\n",
    "regr = LinearRegression()\n",
    "regr.fit(x, y)\n",
    "y = regr.predict([[1.5]])   # 假设自变量是1.5，使用predict()函数就能预测对应的因变量y\n",
    "print(y)\n",
    "z = regr.predict([[1.5], [2.5], [4.5]])     # 预测多个自变量\n",
    "print(z)        "
   ]
  },
  {
   "cell_type": "markdown",
   "metadata": {},
   "source": [
    "#### 4.模型可视化"
   ]
  },
  {
   "cell_type": "code",
   "execution_count": 18,
   "metadata": {},
   "outputs": [
    {
     "data": {
      "image/png": "[encoded data removed]",
      "text/plain": [
       "<Figure size 432x288 with 1 Axes>"
      ]
     },
     "metadata": {
      "needs_background": "light"
     },
     "output_type": "display_data"
    }
   ],
   "source": [
    "# 将搭建好的模型以可视化的形似展示出来\n",
    "import matplotlib.pyplot as plt\n",
    "from sklearn.linear_model import LinearRegression\n",
    "\n",
    "x = [[1], [2], [4], [5]]\n",
    "y  = [2, 4, 6, 8]\n",
    "regr = LinearRegression()\n",
    "regr.fit(x, y)\n",
    "plt.scatter(x, y)\n",
    "plt.plot(x, regr.predict(x))\n",
    "plt.show()"
   ]
  },
  {
   "cell_type": "markdown",
   "metadata": {},
   "source": [
    "#### 5.线性回归方程构造"
   ]
  },
  {
   "cell_type": "code",
   "execution_count": 1,
   "metadata": {},
   "outputs": [
    {
     "data": {
      "image/png": "[encoded data removed]",
      "text/plain": [
       "<Figure size 432x288 with 1 Axes>"
      ]
     },
     "metadata": {
      "needs_background": "light"
     },
     "output_type": "display_data"
    },
    {
     "name": "stdout",
     "output_type": "stream",
     "text": [
      "系数a：1.4000000000000004\n",
      "截距b：0.7999999999999989\n"
     ]
    }
   ],
   "source": [
    "# 通过coef_和intercept_属性可以得到此时趋势线的系数和截距\n",
    "import matplotlib.pyplot as plt\n",
    "from sklearn.linear_model import LinearRegression\n",
    "\n",
    "x = [[1], [2], [4], [5]]\n",
    "y  = [2, 4, 6, 8]\n",
    "regr = LinearRegression()\n",
    "regr.fit(x, y)\n",
    "plt.scatter(x, y)\n",
    "plt.plot(x, regr.predict(x))\n",
    "plt.show()\n",
    "print('系数a：' + str(regr.coef_[0])) #因为通过regr.coef_获得的是一个列表，所以要通过regr.coef_[0]选取其中的元素，\n",
    "# 又因为该元素为数字，所以进行字符串拼接时需要利用str()函数将其转换成字符串，运行结果如下。\n",
    "print('截距b：' + str(regr.intercept_))\n"
   ]
  },
  {
   "cell_type": "markdown",
   "metadata": {},
   "source": [
    "因此，拟合得到的一元线性回归方程为y = 1.4x + 0.8"
   ]
  }
 ],
 "metadata": {
  "interpreter": {
   "hash": "675868e700a09232ff5f9656c2a8569beabdbea23de5bdd2dccbb6bda2f05741"
  },
  "kernelspec": {
   "display_name": "Python 3.9.12 64-bit (windows store)",
   "language": "python",
   "name": "python3"
  },
  "language_info": {
   "codemirror_mode": {
    "name": "ipython",
    "version": 3
   },
   "file_extension": ".py",
   "mimetype": "text/x-python",
   "name": "python",
   "nbconvert_exporter": "python",
   "pygments_lexer": "ipython3",
   "version": "3.9.12"
  },
  "orig_nbformat": 4
 },
 "nbformat": 4,
 "nbformat_minor": 2
}
