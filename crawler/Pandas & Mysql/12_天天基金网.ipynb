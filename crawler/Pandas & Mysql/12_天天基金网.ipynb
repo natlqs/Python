{
 "cells": [
  {
   "cell_type": "code",
   "execution_count": null,
   "metadata": {},
   "outputs": [],
   "source": [
    "from selenium import webdriver\n",
    "import re\n",
    "import time\n",
    "import pandas as pd\n",
    "from matplotlib import pyplot as plt\n",
    "\n",
    "\n",
    "url = 'http://fundf10.eastmoney.com/jjjz_000001.html'\n",
    "browser = webdriver.Edge()\n",
    "browser.get(url)\n",
    "time.sleep(2)\n",
    "data = browser.page_source\n",
    "browser.quit()\n",
    "\n",
    "table = pd.read_html(data)\n",
    "df = table[3]"
   ]
  },
  {
   "cell_type": "code",
   "execution_count": 7,
   "metadata": {},
   "outputs": [
    {
     "data": {
      "image/png": "[encoded data removed]",
      "text/plain": [
       "<Figure size 432x288 with 1 Axes>"
      ]
     },
     "metadata": {
      "needs_background": "light"
     },
     "output_type": "display_data"
    }
   ],
   "source": [
    "plt.plot(df['净值日期'],df['单位净值'])\n",
    "plt.show()"
   ]
  },
  {
   "cell_type": "markdown",
   "metadata": {},
   "source": [
    "---"
   ]
  },
  {
   "cell_type": "markdown",
   "metadata": {},
   "source": [
    "---"
   ]
  },
  {
   "cell_type": "markdown",
   "metadata": {},
   "source": [
    "# Selenium start from here\n"
   ]
  },
  {
   "cell_type": "markdown",
   "metadata": {},
   "source": []
  },
  {
   "cell_type": "markdown",
   "metadata": {},
   "source": []
  },
  {
   "cell_type": "code",
   "execution_count": 1,
   "metadata": {},
   "outputs": [],
   "source": [
    "from selenium import webdriver\n",
    "import re\n",
    "import time\n",
    "import pandas as pd\n",
    "from matplotlib import pyplot as plt\n",
    "\n",
    "edge_options = webdriver.EdgeOptions()\n",
    "edge_options.add_argument('headless')   # 无窗口运行\n",
    "# url = 'http://fundf10.eastmoney.com/jjjz_014673.html'\n",
    "# url = 'http://fundf10.eastmoney.com/jjjz_000001.html'\n",
    "browser = webdriver.Edge(options=edge_options)\n"
   ]
  },
  {
   "cell_type": "code",
   "execution_count": 2,
   "metadata": {},
   "outputs": [
    {
     "name": "stderr",
     "output_type": "stream",
     "text": [
      "C:\\Users\\Natlqs1234\\AppData\\Local\\Temp\\ipykernel_22792\\3033605603.py:4: DeprecationWarning: find_element_by_xpath is deprecated. Please use find_element(by=By.XPATH, value=xpath) instead\n",
      "  browser.find_element_by_xpath('//*[@id=\"showall\"]').click()\n"
     ]
    }
   ],
   "source": [
    "def get_fund_list():\n",
    "    '''\n",
    "    获取基金列表，基金名称列表、基金代码列表、基金净值网址列表\n",
    "    '''\n",
    "    url = 'https://fund.eastmoney.com/data/fundranking.html#tgp'\n",
    "    browser.get(url)\n",
    "    browser.find_element_by_xpath('//*[@id=\"showall\"]').click()\n",
    "    time.sleep(4)\n",
    "    data = browser.page_source\n",
    "    table = pd.read_html(data)\n",
    "    df = table[3]\n",
    "    # print(df['基金  代码'])\n",
    "    url_list = []\n",
    "    code_list = []\n",
    "    fund_name=df['基金简称']\n",
    "    for i in range(len(df['基金  代码'])):\n",
    "        x =str(df['基金  代码'][i]).zfill(6)\n",
    "        code_list.append(x)\n",
    "        url0 = 'http://fundf10.eastmoney.com/jjjz_{}.html'.format(x)\n",
    "        url_list.append(url0)\n",
    "    return url_list, fund_name, code_list\n",
    "url_list, fund_name, code_list = get_fund_list()"
   ]
  },
  {
   "cell_type": "code",
   "execution_count": null,
   "metadata": {},
   "outputs": [],
   "source": [
    "def get_one_fund(url, fund_name, code_list):\n",
    "    '''\n",
    "    爬取基金净值，并写入文件\n",
    "    '''\n",
    "    for i in range(len(url)):\n",
    "        browser.get(url[i])\n",
    "        data0 = browser.page_source\n",
    "        title = browser.find_element_by_xpath('//*[@id=\"bodydiv\"]/div[8]/div[3]/div[1]/div[1]/div[1]/h4/a').text\n",
    "        print(title)\n",
    "        a_list = re.findall('<label value=\".*?\">(.*?)</label>', data0)\n",
    "        num = a_list[-2]\n",
    "        df_list = []\n",
    "        for j in range(0, int(num)):\n",
    "            try:\n",
    "                browser.find_element_by_xpath('//*[@id=\"pagebar\"]/div[1]/label[8]').click() # or browser.find_element_by_xpath('//*[@id=\"pagebar\"]/div[1]/label[8]').click()\n",
    "                time.sleep(0.5)\n",
    "                data = browser.page_source\n",
    "                table = pd.read_html(data)\n",
    "                df_list.append(table[3])\n",
    "            except:\n",
    "                pass\n",
    "            try:\n",
    "                browser.find_element_by_xpath('//*[@id=\"pagebar\"]/div[1]/label[6]').click() \n",
    "                time.sleep(0.5)\n",
    "                data = browser.page_source\n",
    "                table = pd.read_html(data)\n",
    "                df_list.append(table[3])\n",
    "            except:\n",
    "                pass\n",
    "        df = pd.concat(df_list)\n",
    "        df.to_csv('.\\\\funds\\\\{}{}.csv'.format(fund_name[i], code_list[i]), encoding='utf_8_sig', index=False)\n",
    "    browser.quit()\n",
    "\n",
    "get_one_fund(url_list[0:30], fund_name[0:30], code_list[0:30]) # 爬取前30个基金"
   ]
  },
  {
   "cell_type": "markdown",
   "metadata": {},
   "source": [
    "---"
   ]
  },
  {
   "cell_type": "markdown",
   "metadata": {},
   "source": [
    "---"
   ]
  },
  {
   "cell_type": "markdown",
   "metadata": {},
   "source": [
    "# Requests starts from here"
   ]
  },
  {
   "cell_type": "markdown",
   "metadata": {},
   "source": []
  },
  {
   "cell_type": "code",
   "execution_count": 32,
   "metadata": {},
   "outputs": [],
   "source": [
    "import requests\n",
    "import json\n",
    "import re\n",
    "import pandas as pd\n",
    "\n",
    "def get_fund_data(name, code, page = 8):\n",
    "    df_list = []\n",
    "    for index in range(1, page):\n",
    "        url = 'http://api.fund.eastmoney.com/f10/lsjz?callback=jQuery183041965288156257285_1651553972295&fundCode={}&pageIndex={}&pageSize=20&startDate=&endDate=&_=1651553987192'.format(code, index)\n",
    "        headers = {\n",
    "            'Referer': 'http://fundf10.eastmoney.com/',# 防盗链，确定访问来源\n",
    "            'User-agent':'Mozilla/5.0 (Windows NT 10.0; Win64; x64) AppleWebKit/537.36 (KHTML, like Gecko) Chrome/101.0.4951.41 Safari/537.36 Edg/101.0.1210.32'\n",
    "            }\n",
    "\n",
    "        resp = requests.get(url, headers=headers)\n",
    "        html = resp.text\n",
    "        res = re.findall('\\((.*?)\\)', html)\n",
    "        # print(res)\n",
    "        datas = json.loads(res[0])['Data']['LSJZList']      # json\n",
    "        df = pd.DataFrame(datas)\n",
    "        df_list.append(df)\n",
    "    df_datas = pd.concat(df_list)\n",
    "    # print(df_datas)\n",
    "    df_datas.to_csv('.\\\\funds\\\\{}{}.csv'.format(name, code), encoding='utf_8_sig', index=False)\n",
    "\n",
    "\n",
    "def get_fund_ranking(num):\n",
    "\n",
    "    headers = {\n",
    "        'Referer': 'http://fundf10.eastmoney.com/data/fundranking.html',# 防盗链，确定访问来源\n",
    "        'User-agent':'Mozilla/5.0 (Windows NT 10.0; Win64; x64) AppleWebKit/537.36 (KHTML, like Gecko) Chrome/101.0.4951.41 Safari/537.36 Edg/101.0.1210.32'\n",
    "        }\n",
    "    base_url = 'http://fund.eastmoney.com/data/rankhandler.aspx?op=ph&dt=kf&ft=gp&rs=&gs=0&sc=6yzf&st=desc&sd=2021-05-03&ed=2022-05-03&qdii=&tabSubtype=,,,,,&pi={}&pn=50&dx=1&v=0.2985985268119471'.format(num)\n",
    "    response = requests.get(base_url, headers=headers)    \n",
    "    # print(response.text)\n",
    "    result = re.findall('\"(.*?)\"', response.text)\n",
    "    # print(result)\n",
    "    # print(len(result))\n",
    "    for i in result:\n",
    "        code = i.split(',')[0]\n",
    "        name = i.split(',')[1]\n",
    "        get_fund_data(name, code )\n",
    "\n",
    "\n",
    "# get_fund_ranking(1)\n",
    "\n"
   ]
  },
  {
   "cell_type": "markdown",
   "metadata": {},
   "source": [
    "## 可视化"
   ]
  },
  {
   "cell_type": "markdown",
   "metadata": {},
   "source": [
    "### pyplot"
   ]
  },
  {
   "cell_type": "code",
   "execution_count": null,
   "metadata": {},
   "outputs": [],
   "source": [
    "import matplotlib.pyplot as plt\n",
    "import mplcyberpunk\n",
    "import pandas as pd\n",
    "\n",
    "df1 = pd.read_csv('.\\\\funds\\\\前海开源中药股票A005505.csv')\n",
    "df2 = pd.read_csv('.\\\\funds\\\\建信沪深300红利ETF联接A012712.csv')\n",
    "\n",
    "plt.style.use(\"cyberpunk\")\n",
    "plt.plot(df1['FSRQ'].tolist()[::-1], df1['DWJZ'].tolist()[::-1], marker = 'o')\n",
    "plt.plot(df2['DWJZ'].tolist()[::-1], marker = 'o')\n",
    "mplcyberpunk.add_glow_effects()\n",
    "plt.show()\n"
   ]
  },
  {
   "cell_type": "markdown",
   "metadata": {},
   "source": [
    "### pyecharts"
   ]
  }
 ],
 "metadata": {
  "interpreter": {
   "hash": "675868e700a09232ff5f9656c2a8569beabdbea23de5bdd2dccbb6bda2f05741"
  },
  "kernelspec": {
   "display_name": "Python 3.9.12 64-bit (windows store)",
   "language": "python",
   "name": "python3"
  },
  "language_info": {
   "codemirror_mode": {
    "name": "ipython",
    "version": 3
   },
   "file_extension": ".py",
   "mimetype": "text/x-python",
   "name": "python",
   "nbconvert_exporter": "python",
   "pygments_lexer": "ipython3",
   "version": "3.9.12"
  },
  "orig_nbformat": 4
 },
 "nbformat": 4,
 "nbformat_minor": 2
}
