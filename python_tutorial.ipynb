{
    "cells": [
        {
            "cell_type": "markdown",
            "source": [
                "### 4.7 函数定义详解"
            ],
            "metadata": {}
        },
        {
            "cell_type": "markdown",
            "source": [
                "#### 4.7.0 必传参数\r\n",
                " 在定义函数的时候，没有默认值且必须在函数执行的时候传递进去的参数，且顺序与参数顺序相同的参数就是必传参数。\r\n",
                " - 函数中定义的参数没有默认值，在调用函数时如果不传入数据则报错。\r\n",
                " - 在定义函数的时候，参数后面没有等号与默认值。"
            ],
            "metadata": {}
        },
        {
            "cell_type": "code",
            "execution_count": 7,
            "source": [
                "def add(a, b):\r\n",
                "    return a + b\r\n",
                "result = add()\r\n",
                "#  会报错，没有传入数据"
            ],
            "outputs": [
                {
                    "output_type": "error",
                    "ename": "TypeError",
                    "evalue": "add() missing 2 required positional arguments: 'a' and 'b'",
                    "traceback": [
                        "\u001b[1;31m---------------------------------------------------------------------------\u001b[0m",
                        "\u001b[1;31mTypeError\u001b[0m                                 Traceback (most recent call last)",
                        "\u001b[1;32m~\\AppData\\Local\\Temp/ipykernel_2708/3661026798.py\u001b[0m in \u001b[0;36m<module>\u001b[1;34m\u001b[0m\n\u001b[0;32m      1\u001b[0m \u001b[1;32mdef\u001b[0m \u001b[0madd\u001b[0m\u001b[1;33m(\u001b[0m\u001b[0ma\u001b[0m\u001b[1;33m,\u001b[0m \u001b[0mb\u001b[0m\u001b[1;33m)\u001b[0m\u001b[1;33m:\u001b[0m\u001b[1;33m\u001b[0m\u001b[1;33m\u001b[0m\u001b[0m\n\u001b[0;32m      2\u001b[0m     \u001b[1;32mreturn\u001b[0m \u001b[0ma\u001b[0m \u001b[1;33m+\u001b[0m \u001b[0mb\u001b[0m\u001b[1;33m\u001b[0m\u001b[1;33m\u001b[0m\u001b[0m\n\u001b[1;32m----> 3\u001b[1;33m \u001b[0mresult\u001b[0m \u001b[1;33m=\u001b[0m \u001b[0madd\u001b[0m\u001b[1;33m(\u001b[0m\u001b[1;33m)\u001b[0m\u001b[1;33m\u001b[0m\u001b[1;33m\u001b[0m\u001b[0m\n\u001b[0m",
                        "\u001b[1;31mTypeError\u001b[0m: add() missing 2 required positional arguments: 'a' and 'b'"
                    ]
                }
            ],
            "metadata": {}
        },
        {
            "cell_type": "markdown",
            "source": [
                "#### 4.7.1 默认值参数\r\n",
                " - 在定义函数的时候，定义的参数含有默认值，同故宫赋值语句给他一个默认的值，这样的参数就是默认参数，也就是非必传参数。\r\n",
                " - 如果默认参数在调用函数的时候被给予了新的值，函数将优先使用后传入的值进行工作。\r\n",
                "为参数指定默认值是非常有用的方式。调用函数时，可以使用比定义时更少的参数，例如："
            ],
            "metadata": {}
        },
        {
            "cell_type": "code",
            "execution_count": 8,
            "source": [
                "def add(a, b = 1):\r\n",
                "    return a +b\r\n",
                "result= add(1)\r\n",
                "result\r\n"
            ],
            "outputs": [
                {
                    "output_type": "execute_result",
                    "data": {
                        "text/plain": [
                            "2"
                        ]
                    },
                    "metadata": {},
                    "execution_count": 8
                }
            ],
            "metadata": {}
        },
        {
            "cell_type": "code",
            "execution_count": 10,
            "source": [
                "# -*- coding: utf-8 -*-\r\n",
                "def add(a, b, c=3):\r\n",
                "    return a +b + c\r\n",
                "result = add(1, 2)\r\n",
                "print(result)       # 没有给默认参数传递新值，将使用默认值\r\n",
                "\r\n",
                "result = add(1, 2, 6)\r\n",
                "print(result)       # 给默认参数传递新值，将使用新值计算"
            ],
            "outputs": [
                {
                    "output_type": "stream",
                    "name": "stdout",
                    "text": [
                        "6\n",
                        "9\n"
                    ]
                }
            ],
            "metadata": {}
        },
        {
            "cell_type": "code",
            "execution_count": null,
            "source": [
                "def ask_ok(prompt, retries = 4, reminder = 'Please try again!'):\r\n",
                "    while True:\r\n",
                "        ok = input(prompt)\r\n",
                "        if ok in ('y', 'ye', 'yes'):\r\n",
                "            return True\r\n",
                "        if ok in ('n', 'no', 'nop', 'nope'):\r\n",
                "            return False\r\n",
                "        retries = retries - 1\r\n",
                "        if retries < 0:\r\n",
                "            raise ValueError('invalid user response')\r\n",
                "        print(reminder)\r\n",
                "\r\n",
                "ask_ok('Do you really want to quit?', 2)"
            ],
            "outputs": [],
            "metadata": {}
        },
        {
            "cell_type": "code",
            "execution_count": 5,
            "source": [
                "def f(a, L=[]):\r\n",
                "    L.append(a)\r\n",
                "    return L\r\n",
                "print(f(1))\r\n",
                "print(f(2))\r\n",
                "print(f(3))"
            ],
            "outputs": [
                {
                    "output_type": "stream",
                    "name": "stdout",
                    "text": [
                        "[1]\n",
                        "[1, 2]\n",
                        "[1, 2, 3]\n"
                    ]
                }
            ],
            "metadata": {}
        },
        {
            "cell_type": "markdown",
            "source": [
                "#### 4.7.2 不确定参数-可变参数\r\n",
                "- 没有固定的参数名和数量（不知道要传的参数名具体是什么）\r\n",
                "```python\r\n",
                " def add(*args, **kwargs):\r\n",
                " add(1, 2, 3, name = 'dewei', age = 33)\r\n",
                " ```\r\n",
                "- *args代表:将无参数的值合并为元组,如(1， 2， 3)\r\n",
                "- **kwargs代表将有参数与默认值的赋值语句合并成字典, 如{name:'dewei', age:33}"
            ],
            "metadata": {}
        },
        {
            "cell_type": "code",
            "execution_count": 14,
            "source": [
                "def test_args(*args, **kwargs):\r\n",
                "    print(args, type(args))\r\n",
                "    print(kwargs, type(kwargs))\r\n",
                "test_args(1, 2, 3, 4, 5, 6, name='dewei', age = 33, top = 174)\r\n",
                "\r\n",
                "def test_args_super(*args, **kwargs):\r\n",
                "    if len(args) >=1:\r\n",
                "        print(args[0])\r\n",
                "    if 'name' in kwargs:\r\n",
                "        print(kwargs['name'])\r\n",
                "    else:\r\n",
                "        print('no name')\r\n",
                "    print(args, len(args))\r\n",
                "    print(kwargs, len(kwargs))\r\n",
                "test_args_super(1, name='dewei')\r\n",
                "\r\n",
                "\r\n",
                "a = ('python', 'django')\r\n",
                "b = {'name': 'dewei'}\r\n",
                "test_args_super(a, b)   # 这样传递，会把a 和 b合并成一个元组。\r\n",
                "test_args_super(*a, **b)    # 这样传递，才会把a变成元组，b变成字典。 "
            ],
            "outputs": [
                {
                    "output_type": "stream",
                    "name": "stdout",
                    "text": [
                        "(1, 2, 3, 4, 5, 6) <class 'tuple'>\n",
                        "{'name': 'dewei', 'age': 33, 'top': 174} <class 'dict'>\n",
                        "1\n",
                        "dewei\n",
                        "(1,) 1\n",
                        "{'name': 'dewei'} 1\n",
                        "('python', 'django')\n",
                        "no name\n",
                        "(('python', 'django'), {'name': 'dewei'}) 2\n",
                        "{} 0\n",
                        "python\n",
                        "dewei\n",
                        "('python', 'django') 2\n",
                        "{'name': 'dewei'} 1\n"
                    ]
                }
            ],
            "metadata": {}
        },
        {
            "cell_type": "markdown",
            "source": [
                "#### 4.7.3 参数规则\r\n",
                " - 参数的定义是从左到右依次是 必传参数，默认参数，可变元组参数（当必传参数，默认参数和可变元组参数一起定义时，需将可变元组参数放在第一位），可变字典参数。\r\n",
                " - 函数的参数传递非常灵活。\r\n",
                " - 必传参数与默认参数的传递方式也是多样化的。"
            ],
            "metadata": {}
        },
        {
            "cell_type": "code",
            "execution_count": 19,
            "source": [
                "def add(a, b = 1):\r\n",
                "    print(a + b)\r\n",
                "\r\n",
                "add(1, 2)   # 必传和默认都给新值\r\n",
                "add(1)      # 必传给新值，默认不变\r\n",
                "add(a = 1, b = 2)   # 用赋值的方式传参\r\n",
                "add(a = 1, b = 1)   # 用赋值的方式，顺序乱了也不要紧\r\n",
                "#add(b = 2)      # 报错\r\n",
                "\r\n",
                "\r\n",
                "def test(a, b=1, *args):\r\n",
                "    print(a, b, args)\r\n",
                "s = (1, 2)\r\n",
                "test(1, 2, *s)\r\n",
                "# test(a=1, b=2, *s)      # 报错， 用赋值方式传递参数的时候，可变元组参数必须在前面定义\r\n",
                "\r\n",
                "def test2(*args, a, b = 1):\r\n",
                "    print(a, b , args)\r\n",
                "test2(a=1, b = 2, *s)\r\n",
                "\r\n",
                "def test3(a, b = 1, **kwargs):\r\n",
                "    print(a, b, kwargs)\r\n",
                "\r\n",
                "test3(1, 2, name='dewei')\r\n",
                "test3(a=1, b=2, name='dewei')\r\n",
                "test3(name='dewei', age=33, a=1, b=2)\r\n",
                "d = {'name':'xiaomu'}\r\n",
                "test3(a=1, b=2, **d)\r\n",
                "test3(**d, a = 1, b = 2)\r\n",
                "\r\n"
            ],
            "outputs": [
                {
                    "output_type": "stream",
                    "name": "stdout",
                    "text": [
                        "3\n",
                        "2\n",
                        "3\n",
                        "2\n",
                        "1 2 (1, 2)\n",
                        "1 2 (1, 2)\n",
                        "1 2 {'name': 'dewei'}\n",
                        "1 2 {'name': 'dewei'}\n",
                        "1 2 {'name': 'dewei', 'age': 33}\n",
                        "1 2 {'name': 'xiaomu'}\n",
                        "1 2 {'name': 'xiaomu'}\n"
                    ]
                }
            ],
            "metadata": {}
        },
        {
            "cell_type": "markdown",
            "source": [
                "#### 4.7.4 函数的参数类型定义\r\n",
                "函数参数定义类型的方法。\r\n",
                "```python\r\n",
                "def person(name:str, age:int=33):\r\n",
                "    print(name, age)\r\n",
                "```\r\n",
                "- 函数定义在python3.7之后才可用；\r\n",
                "- 函数不会对参数类型进行验证，仅仅是为了敲代码时方便程序员确认需要传递的参数类型。"
            ],
            "metadata": {}
        },
        {
            "cell_type": "code",
            "execution_count": 20,
            "source": [
                "def test(a:int, b:int=3, *args:int, **kwargs:str):\r\n",
                "    print(a, b, args, kwargs)\r\n",
                "test(1, 2, 3, '5', name='xiaomu')"
            ],
            "outputs": [
                {
                    "output_type": "stream",
                    "name": "stdout",
                    "text": [
                        "1 2 (3, '5') {'name': 'xiaomu'}\n"
                    ]
                }
            ],
            "metadata": {}
        },
        {
            "cell_type": "code",
            "execution_count": null,
            "source": [],
            "outputs": [],
            "metadata": {}
        }
    ],
    "metadata": {
        "orig_nbformat": 4,
        "language_info": {
            "name": "python",
            "version": "3.9.5",
            "mimetype": "text/x-python",
            "codemirror_mode": {
                "name": "ipython",
                "version": 3
            },
            "pygments_lexer": "ipython3",
            "nbconvert_exporter": "python",
            "file_extension": ".py"
        },
        "kernelspec": {
            "name": "python3",
            "display_name": "Python 3.9.5 64-bit"
        },
        "interpreter": {
            "hash": "495c3e51b7f71f95ca821e9fb4eceb74784cd2e819f82b804711d3c2d40b61b8"
        }
    },
    "nbformat": 4,
    "nbformat_minor": 2
}