{
 "cells": [
  {
   "cell_type": "markdown",
   "source": [
    "# 生成对象\r\n",
    "用值列表生成Series时，Pandas默认自动生成整数索引:"
   ],
   "metadata": {}
  },
  {
   "cell_type": "code",
   "execution_count": 3,
   "source": [
    "import numpy as np\r\n",
    "import pandas as pd\r\n",
    "s = pd.Series([1, 3, 5, np.nan, 6, 8])\r\n",
    "print(s)"
   ],
   "outputs": [
    {
     "output_type": "stream",
     "name": "stdout",
     "text": [
      "0    1.0\n",
      "1    3.0\n",
      "2    5.0\n",
      "3    NaN\n",
      "4    6.0\n",
      "5    8.0\n",
      "dtype: float64\n"
     ]
    }
   ],
   "metadata": {}
  },
  {
   "cell_type": "markdown",
   "source": [
    "用含日期时间索引与标签的Numpy数组生成DataFrame："
   ],
   "metadata": {}
  },
  {
   "cell_type": "code",
   "execution_count": 6,
   "source": [
    "dates = pd.date_range('20140101',periods=6)\r\n",
    "print(dates)"
   ],
   "outputs": [
    {
     "output_type": "stream",
     "name": "stdout",
     "text": [
      "DatetimeIndex(['2014-01-01', '2014-01-02', '2014-01-03', '2014-01-04',\n",
      "               '2014-01-05', '2014-01-06'],\n",
      "              dtype='datetime64[ns]', freq='D')\n"
     ]
    }
   ],
   "metadata": {}
  },
  {
   "cell_type": "code",
   "execution_count": 8,
   "source": [
    "df = pd.DataFrame(np.random.randn(6, 4), index= dates, columns=list('ABCD'))\r\n",
    "print(df)"
   ],
   "outputs": [
    {
     "output_type": "stream",
     "name": "stdout",
     "text": [
      "                   A         B         C         D\n",
      "2014-01-01 -0.195712  0.493234  2.010063  1.552029\n",
      "2014-01-02 -0.737532  0.336149 -1.938388 -0.906630\n",
      "2014-01-03  1.120340 -0.717396 -0.790517 -0.603645\n",
      "2014-01-04 -0.301064 -0.921776 -0.659931 -0.813429\n",
      "2014-01-05  1.823345  1.067379  0.178331 -0.017921\n",
      "2014-01-06 -0.868999  1.193479 -0.556375 -0.409575\n"
     ]
    }
   ],
   "metadata": {}
  },
  {
   "cell_type": "markdown",
   "source": [
    "用Series字典对象生成DataFrame："
   ],
   "metadata": {}
  },
  {
   "cell_type": "code",
   "execution_count": 9,
   "source": [
    "df2=pd.DataFrame({'A':1., 'B':pd.Timestamp('20210907'), 'C':pd.Series(1, index=list(range(4)), dtype='float32'), 'D': np.array([3]*4, dtype='int32'), 'E':pd.Categorical([\"test\", \"train\", \"test\", \"train\"]), 'F': 'foo'})\r\n",
    "print(df2)"
   ],
   "outputs": [
    {
     "output_type": "stream",
     "name": "stdout",
     "text": [
      "     A          B    C  D      E    F\n",
      "0  1.0 2021-09-07  1.0  3   test  foo\n",
      "1  1.0 2021-09-07  1.0  3  train  foo\n",
      "2  1.0 2021-09-07  1.0  3   test  foo\n",
      "3  1.0 2021-09-07  1.0  3  train  foo\n"
     ]
    }
   ],
   "metadata": {}
  },
  {
   "cell_type": "markdown",
   "source": [
    "DataFrame的列有不同数据类型。"
   ],
   "metadata": {}
  },
  {
   "cell_type": "code",
   "execution_count": 10,
   "source": [
    "print(df2.dtypes)"
   ],
   "outputs": [
    {
     "output_type": "stream",
     "name": "stdout",
     "text": [
      "A           float64\n",
      "B    datetime64[ns]\n",
      "C           float32\n",
      "D             int32\n",
      "E          category\n",
      "F            object\n",
      "dtype: object\n"
     ]
    }
   ],
   "metadata": {}
  },
  {
   "cell_type": "markdown",
   "source": [
    "IPython支持tab键自动补全列名与公共属性。下面是部分可自动补全的属性："
   ],
   "metadata": {}
  },
  {
   "cell_type": "code",
   "execution_count": 15,
   "source": [
    "df2.<TAB>   # noqa: E225, E999"
   ],
   "outputs": [
    {
     "output_type": "error",
     "ename": "SyntaxError",
     "evalue": "invalid syntax (<ipython-input-15-8abb59b2ed9b>, line 1)",
     "traceback": [
      "\u001b[1;36m  File \u001b[1;32m\"<ipython-input-15-8abb59b2ed9b>\"\u001b[1;36m, line \u001b[1;32m1\u001b[0m\n\u001b[1;33m    df2.<TAB>   # noqa: E225, E999\u001b[0m\n\u001b[1;37m        ^\u001b[0m\n\u001b[1;31mSyntaxError\u001b[0m\u001b[1;31m:\u001b[0m invalid syntax\n"
     ]
    }
   ],
   "metadata": {}
  }
 ],
 "metadata": {
  "orig_nbformat": 4,
  "language_info": {
   "name": "python",
   "version": "3.9.5",
   "mimetype": "text/x-python",
   "codemirror_mode": {
    "name": "ipython",
    "version": 3
   },
   "pygments_lexer": "ipython3",
   "nbconvert_exporter": "python",
   "file_extension": ".py"
  },
  "kernelspec": {
   "name": "python3",
   "display_name": "Python 3.9.5 64-bit"
  },
  "interpreter": {
   "hash": "4daa0326aea42554d308cebd9c6877fd687b24b2fd4f3f4f49fb4bfbb16d0ec9"
  }
 },
 "nbformat": 4,
 "nbformat_minor": 2
}