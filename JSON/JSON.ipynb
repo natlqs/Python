{
 "cells": [
  {
   "cell_type": "markdown",
   "metadata": {},
   "source": [
    "## JSON"
   ]
  },
  {
   "cell_type": "markdown",
   "metadata": {},
   "source": [
    "JSON是一种数据格式，由美国程序设计师Douglas Crockford创建的，JSON全名是JavaScript Object Notation，由JSON英文全文字义我们可以推敲JSON的缘由，最初是为JavaScript开发的。这种数据格式由于简单好用被大量应用在Web开发与大数据数据库(NoSQL)，现在已成为一种著名数据格式，Python与许多程序语言同时采用与支持。也由此在使用Python设计程序时，可以将数据以JSON格式存储,与其他程序语言的设计师分享。<br>\n",
    "python程序设计时需要使用import json导入json模块。"
   ]
  },
  {
   "cell_type": "markdown",
   "metadata": {},
   "source": [
    "### 1 认识json数据格式"
   ]
  },
  {
   "cell_type": "markdown",
   "metadata": {},
   "source": [
    "json的数据格式有2种，分别是：<br>**对象**(object)：一般用大括号{ }表示。<br>**数组**(array)：一般用中括号[ ]表示。"
   ]
  },
  {
   "cell_type": "markdown",
   "metadata": {},
   "source": [
    "### 1.1 对象（object）"
   ]
  },
  {
   "cell_type": "markdown",
   "metadata": {},
   "source": [
    "在json中对象就是用“键-值(key:value)”方式配对存储，对象内容用左大括号“{”开始，右大括号“}”结束，键(key)和值(value)用“:”区隔，每一组键:值间以逗号“,”隔开，以下是取材自json.org的官方图说明。"
   ]
  },
  {
   "cell_type": "markdown",
   "metadata": {},
   "source": [
    "在json格式中键(key)是一个字符串(string)。值可以是数值(number)、字符串(string)、布尔值(bool)、数组(array)或是null值。   \n",
    "例如：下列是对象的实例。  \n",
    "\n",
    "     {\"Name\":\"Hung\",\"Age\":25}\n",
    "使用json时需留意，键(key)必须是文字，例如下列是错误的实例。\n",
    "  \n",
    "     {\"Name\":\"Hung\", 25:\"Key\"}\n",
    "在json格式中字符串需用双引号，同时在json文件内不可以有批注。"
   ]
  },
  {
   "cell_type": "markdown",
   "metadata": {},
   "source": [
    "### 1.2 数组（array）"
   ]
  },
  {
   "cell_type": "markdown",
   "metadata": {},
   "source": [
    "数组基本上是一系列的值(value)所组成，用左中括号“[”开始，右中括号“]”结束。各值之间用逗号“,”隔开，以下是取材自json.org的官方图说明。   \n",
    "数组的值可以是数值(number)、字符串(string)、布尔值(bool)、数组(array)或是null值。"
   ]
  },
  {
   "cell_type": "markdown",
   "metadata": {},
   "source": [
    "### 1.3 json数据存在方式"
   ]
  },
  {
   "cell_type": "markdown",
   "metadata": {},
   "source": [
    "在python中json数据存在方式是**字符串（string）**   \n",
    "使用json模块执行将Python数据转成json字符串类型数据或json文件使用不同方法，下面24-2和24-3节将分别说明。"
   ]
  },
  {
   "cell_type": "markdown",
   "metadata": {},
   "source": [
    "## 2 将Python应用在json字符串形式数据"
   ]
  },
  {
   "cell_type": "markdown",
   "metadata": {},
   "source": [
    "### 2.1 使用dumps() 将python数据转成json格式"
   ]
  },
  {
   "cell_type": "markdown",
   "metadata": {},
   "source": [
    "| python 格式 | JSON 格式|\n",
    "|---|---|\n",
    "|dict|object|\n",
    "|list, tuple|array|\n",
    "|str, unicode| string|\n",
    "|int, float, long| number|\n",
    "True|true\n",
    "False|false\n",
    "None|null"
   ]
  },
  {
   "cell_type": "code",
   "execution_count": 2,
   "metadata": {},
   "outputs": [
    {
     "name": "stdout",
     "output_type": "stream",
     "text": [
      "列表转成json的数组 [5, 10, 20, 1]\n",
      "元组转成json的数组 [1, 5, 10, 9]\n",
      "json数组在python的数据类型 <class 'str'>\n"
     ]
    }
   ],
   "source": [
    "\n",
    "# 将python的列表与元组数据转成json的数组数据的实例\n",
    "import json\n",
    "listNumbers = [5, 10, 20, 1]        # 列表数据\n",
    "tupleNumbers = (1, 5, 10, 9)        # 元组资料\n",
    "jsonData1 = json.dumps(listNumbers)     # 将列表数据转成json数据\n",
    "jsonData2 = json.dumps(tupleNumbers)        # 将列表数据转成json数据\n",
    "print('列表转成json的数组', jsonData1)\n",
    "print('元组转成json的数组', jsonData2)\n",
    "print('json数组在python的数据类型', type(jsonData1))"
   ]
  },
  {
   "cell_type": "code",
   "execution_count": 1,
   "metadata": {},
   "outputs": [
    {
     "name": "stdout",
     "output_type": "stream",
     "text": [
      "列表转成json的数据 [{\"Name\": \"Peter\", \"Age\": 25, \"Gender\": \"M\"}]\n",
      "json数组在python的数据类型 <class 'str'>\n"
     ]
    }
   ],
   "source": [
    "# 将python由字典元素所组成的列表转成json数组，转换后原先字典元素变为json的对象\n",
    "\n",
    "import json\n",
    "listObj = [{'Name':'Peter', 'Age':25, 'Gender':'M'}]        # 列表数据元素是字典\n",
    "jsonData = json.dumps(listObj)              # 将列表数据转成json数据\n",
    "print('列表转成json的数组', jsonData)\n",
    "print('json数组在python的数据类型', type(jsonData))"
   ]
  },
  {
   "cell_type": "markdown",
   "metadata": {},
   "source": [
    "### 2.2 dumps()的sort keys参数"
   ]
  },
  {
   "cell_type": "markdown",
   "metadata": {},
   "source": [
    "Python的字典是无序的数据，使用dumps( )将Python数据转成json对象时，可以增加使用sort_keys=True，则可以将转成json格式的对象排序。"
   ]
  },
  {
   "cell_type": "code",
   "execution_count": null,
   "metadata": {},
   "outputs": [],
   "source": [
    "# 将字典转成json格式的对象，分别是未使用排序与使用排序。\n",
    "import json\n",
    "from pstats import SortKey\n",
    "dicObj = {'b':88, 'a':25, 'c':165}\n",
    "jsonObj1 = json.dumps(dicObj)\n",
    "jsonObj2 = json.dumps(dicObj, sort_keys= True)\n",
    "print('未用排序将字典转换成json对象', jsonObj1)\n",
    "print('使用排序将字典转换成json对象', jsonObj2)\n",
    "print('有排序与未排序对象是否相同', jsonObj1 == jsonObj2)\n",
    "print('json物件在python的数据类型', type(jsonObj1))"
   ]
  },
  {
   "cell_type": "markdown",
   "metadata": {},
   "source": [
    "### 2.3 dumps()的indent参数"
   ]
  },
  {
   "cell_type": "markdown",
   "metadata": {},
   "source": [
    "从ch24_3.py的执行结果可以看到数据不太容易阅读，特别是资料量如果更多的时候，在将Python的字典数据转成json格式的对象时，可以加上indent设定缩排json对象的键-值，让json对象可以更容易显示。"
   ]
  },
  {
   "cell_type": "code",
   "execution_count": 3,
   "metadata": {},
   "outputs": [
    {
     "name": "stdout",
     "output_type": "stream",
     "text": [
      "{\n",
      "    \"a\": 25,\n",
      "    \"b\": 80,\n",
      "    \"c\": 80\n",
      "}\n"
     ]
    }
   ],
   "source": [
    "# 将python的字典转成json格式对象时，设定缩排4个字符宽度。\n",
    "import json\n",
    "dicObj = {'b':80, 'a':25, 'c':80 }\n",
    "jsonObj = json.dumps(dicObj, sort_keys=True, indent=4)      # 用内缩呈现json对象\n",
    "print(jsonObj)"
   ]
  },
  {
   "cell_type": "markdown",
   "metadata": {},
   "source": [
    "### 2.4 使用load()将json格式数据转成python的数据"
   ]
  },
  {
   "cell_type": "markdown",
   "metadata": {},
   "source": [
    "在json模块内有loads( )，可以将json格式数据转成Python数据，下列是转化对照表。"
   ]
  },
  {
   "cell_type": "markdown",
   "metadata": {},
   "source": [
    "| python 格式 | JSON 格式|\n",
    "|---|---|\n",
    "|dict|object|\n",
    "|list|array|\n",
    "|unicode| string|\n",
    "|int, long| number(int)|\n",
    "True|true\n",
    "False|false\n",
    "None|null"
   ]
  },
  {
   "cell_type": "code",
   "execution_count": 5,
   "metadata": {},
   "outputs": [
    {
     "name": "stdout",
     "output_type": "stream",
     "text": [
      "{'b': 80, 'a': 25, 'c': 160}\n",
      "<class 'dict'>\n"
     ]
    }
   ],
   "source": [
    "# 将json的对象数据转成python数据的实例，留意在建立json数据时，要加上引号，因为json数据在python内是以字符串形式存在\n",
    "import json\n",
    "\n",
    "jsonObj = '{\"b\":80, \"a\":25, \"c\":160}'\n",
    "dicObj = json.loads(jsonObj)    # 转成python对象\n",
    "print(dicObj)\n",
    "print(type(dicObj))"
   ]
  },
  {
   "cell_type": "markdown",
   "metadata": {},
   "source": [
    "## 3 将python应用在json文件"
   ]
  },
  {
   "cell_type": "markdown",
   "metadata": {},
   "source": [
    "### 3.1 使用dump()将python数据转成json文件"
   ]
  },
  {
   "cell_type": "markdown",
   "metadata": {},
   "source": [
    "json模块内有dump( )，可以将Python数据转成json文件格式，这个文件格式的扩展名是json，下列将直接以程序实例解说dump( )的用法。"
   ]
  },
  {
   "cell_type": "code",
   "execution_count": null,
   "metadata": {},
   "outputs": [],
   "source": [
    "# 将一个字典数据，使用json格式存储在07jsonout.json文件内，在这个实例中，dump()方法的第一个参数\n",
    "# 是欲存储成json格式的数据，第二个参数是欲存储的文件对象\n",
    "\n",
    "import json\n",
    "\n",
    "dictObj = {'b':80, 'a':25, 'c':60}\n",
    "fn = '.\\\\python\\\\JSON\\\\07jsonout.json'\n",
    "with open(fn, 'w') as fnObj:\n",
    "    json.dump(dictObj, fnObj)"
   ]
  },
  {
   "cell_type": "markdown",
   "metadata": {},
   "source": [
    "### 3.2 使用load()读取json文件"
   ]
  },
  {
   "cell_type": "markdown",
   "metadata": {},
   "source": [
    "在json模块内有load( )，可以读取json文件，读完后这个json文件将被转换成Python的数据格式，下列将直接以程序实例解说dump( )的用法。"
   ]
  },
  {
   "cell_type": "code",
   "execution_count": null,
   "metadata": {},
   "outputs": [],
   "source": [
    "# 读取json文件07jsonout.json，同时列出结果\n",
    "import json\n",
    "\n",
    "fn = '.\\\\python\\\\JSON\\\\07jsonout.json'\n",
    "with open(fn, 'r') as fnObj:\n",
    "    data = json.load(fnObj)\n",
    "\n",
    "print(data)\n",
    "print(type(data))"
   ]
  },
  {
   "cell_type": "markdown",
   "metadata": {},
   "source": [
    "## 4 简单的json文件应用"
   ]
  },
  {
   "cell_type": "code",
   "execution_count": null,
   "metadata": {},
   "outputs": [],
   "source": [
    "# 程序执行时会要求输入账号，然后列出所输入账号同时打印欢迎使用本系统。\n",
    "\n",
    "import json\n",
    "fn = '.\\\\python\\\\JSON\\\\login.json'\n",
    "login = input('请输入账号:')\n",
    "with open(fn, 'w') as fnObj:\n",
    "    json.dump(login, fnObj)\n",
    "    print('%s! 欢迎使用本系统' % login)"
   ]
  },
  {
   "cell_type": "code",
   "execution_count": null,
   "metadata": {},
   "outputs": [],
   "source": [
    "# 读取login.json的数据，同时输出'欢迎回来使用本系统'\n",
    "\n",
    "import json\n",
    "\n",
    "fn = '.\\\\python\\\\JSON\\\\login.json'\n",
    "with open(fn, 'r') as fnObj:\n",
    "    login = json.load(fnObj)\n",
    "    print('%s 欢迎回来使用本系统！' % login)"
   ]
  },
  {
   "cell_type": "markdown",
   "metadata": {},
   "source": [
    "下列程序基本上是ch24_8.py和ch24_9.py的组合，如果第一次登录会要求输入账号然后将输入账号记录在login24_10.json文件内，如果不是第一次登录，会直接读取已经存在login24_10.json的账号，然后打印“欢迎回来”。这个程序用第7行是否能正常读取login24_10.json方式判断是否是第一次登录，如果这个文件不存在表示是第一次登录，将执行第8行except至12行的内容。如果这个文件已经存在，表示不是第一次登录，将执行第13行else:后面的内容。"
   ]
  },
  {
   "cell_type": "code",
   "execution_count": null,
   "metadata": {},
   "outputs": [],
   "source": [
    "# 第一次登录会要求输入账号然后将输入账号记录在login24_10.json文件内，如果不是第一次登录，会直接读取已经存在login24_10.json的账号，然后打印“欢迎回来”。\n",
    "import json\n",
    "\n",
    "fn = '.\\\\python\\\\JSON\\\\repeatlogin.json'\n",
    "\n",
    "try:\n",
    "    with open(fn) as fnObj:\n",
    "        login = json.load(fnObj)\n",
    "except Exception:\n",
    "    login = input('请输入账号: ')\n",
    "    with open(fn, 'w') as fnObj:\n",
    "        json.dump(login, fnObj)\n",
    "        print('系统已记录你的账号')\n",
    "else:\n",
    "    print(\"%s 欢迎回来\" % login)"
   ]
  },
  {
   "cell_type": "markdown",
   "metadata": {},
   "source": [
    "## 5 世界人口数据的json文件"
   ]
  },
  {
   "cell_type": "markdown",
   "metadata": {},
   "source": [
    "### 5.1 认识人口统计的json文件"
   ]
  },
  {
   "cell_type": "markdown",
   "metadata": {},
   "source": [
    "在网络上任何一个号称是真实统计的json数据，在用记事本打开后，初看一定是复杂的，读者碰上这个问题首先不要慌，同时分析数据的共通性，这样有助于未来程序的规划与设计。从上图基本上我们可以了解它的资料格式，这是一个列表，列表元素是字典，有些国家或地区只有2000年的资料，有些只有2010年的资料，有些则同时有这2个年度的数据，每个字典内有4个键-值，如下所示："
   ]
  },
  {
   "cell_type": "markdown",
   "metadata": {},
   "source": [
    "上述字段分别是国家或地区名称(Country Name)、国家代码(Country Code)、年份(Year)和人口数(numbers)。从上述文件我们应该注意到，人口数在我们日常生活理解应该是整数，可是这个数据是用字符串表达，另外，在非官方的统计数据中，难免会有错误，例如，上述国家或地区（这是全球人口统计）的2010年人口数据资料出现了小数点，这个需要我们用程序处理。"
   ]
  },
  {
   "cell_type": "code",
   "execution_count": null,
   "metadata": {},
   "outputs": [],
   "source": [
    "# 列出population_data.json数据中的人口数据\n",
    "import json\n",
    "fn = '.\\\\python\\\\JSON\\\\population_data.json'\n",
    "with open(fn) as fnObj:\n",
    "    getDatas = json.load(fnObj)\n",
    "\n",
    "for getData in getDatas:\n",
    "    if getData['Year'] == '2000':\n",
    "        countryName = getData['Country Name']\n",
    "        countryCode = getData['Country Code']\n",
    "        population = int(float(getData['Value']))\n",
    "        print('代码 = ', countryCode)\n",
    "        print('名称 = ', countryName)\n",
    "        print('人口数= ', population)\n"
   ]
  },
  {
   "cell_type": "markdown",
   "metadata": {},
   "source": [
    "### 5.2 认识pygal.maps.world的地区代码信息"
   ]
  },
  {
   "cell_type": "markdown",
   "metadata": {},
   "source": [
    "前一节有关populations.json地区代码是3个英文字母，如果我们想要使用这个json数据绘制世界人口地图，需要配合pygal.maps.world模块的方法，这个模块的地区代码是2个英文字母，所以需要将populations.json地区代码转成2个英文字母。这里本节先介绍2个英文字母的信息，pygal.maps.world模块内有COUNTRIES字典，在这个字典中国码是2个英文字母，从这里我们可以列出相关地区与代码的列表。使用pygal.maps.world模块前需先安装此模块，如下所示：\n",
    "\n",
    "     pip install pygal.maps.world   \n",
    "程序实例ch24_12.py：列出pygal.maps.world模块COUNTRIES字典的2个英文字母的地区代码与完整的地区名称列表。"
   ]
  },
  {
   "cell_type": "code",
   "execution_count": null,
   "metadata": {},
   "outputs": [],
   "source": [
    "# 列出pygal.maps.world模块COUNTRIES字典的2个英文字母的地区代码与完整的地区名称列表\n",
    "from pygal.maps.world import COUNTRIES\n",
    "\n",
    "for countryCode in sorted(COUNTRIES.keys()):\n",
    "    print('代码: ', countryCode, '名称', COUNTRIES[countryCode])"
   ]
  },
  {
   "cell_type": "markdown",
   "metadata": {},
   "source": [
    "输出2个字母的地区代码时，同时输出，这个程序相当于是将2个不同来源的数据作配对。\n",
    "\n",
    "从populations.json取每个名称信息，然后将每一个名称放入getCountryCode( )方法中找寻相关代码，如果找到则输出相对应的代码，如果找不到则输出“名称不吻合”。"
   ]
  },
  {
   "cell_type": "code",
   "execution_count": null,
   "metadata": {},
   "outputs": [],
   "source": [
    "# 从populations.json取每个名称信息，然后将每一个名称放入getCountryCode( )方法中找寻相关代码，如果找到则输出相对应的代码，如果找不到则输出“名称不吻合”。\n",
    "import json\n",
    "from pygal.maps.world import COUNTRIES\n",
    "\n",
    "\n",
    "def getCountryCode(countryName):\n",
    "    '''输入名称回传代码'''\n",
    "    for dictCode, dictName in COUNTRIES.items():    # 搜寻代码字典\n",
    "        if dictName == countryName:\n",
    "            return dictCode             # 如果找到就回传代码\n",
    "    return None         \n",
    "\n",
    "fn = '.\\\\python\\\\JSON\\\\population_data.json'\n",
    "with open(fn) as fnObj:\n",
    "    getDatas = json.load(fnObj)     # 读取入门数据json文件\n",
    "\n",
    "for getData in getDatas:\n",
    "    if getData['Year'] == '2000':\n",
    "        countryName = getData['Country Name']\n",
    "        countryCode = getCountryCode(countryName)\n",
    "        population = int(float(getData['Value']))\n",
    "        if countryCode != None:\n",
    "            print(countryCode, ':', population)\n",
    "        else:\n",
    "            print(countryName, '名称不符合')"
   ]
  },
  {
   "cell_type": "markdown",
   "metadata": {},
   "source": [
    "### 5.3制作世界人口地图"
   ]
  },
  {
   "cell_type": "code",
   "execution_count": null,
   "metadata": {},
   "outputs": [],
   "source": [
    "import json \n",
    "from pygal_maps_world.i18n import COUNTRIES\n",
    "import pygal.maps.world\n",
    "\n",
    "fn = '.\\\\python\\\\JSON\\\\population_data.json'\n",
    "\n",
    "with open(fn) as fnObj:\n",
    "    getDatas = json.load(fnObj)\n",
    "\n",
    "def get_country_code(country_name):\n",
    "    '''\n",
    "    pygal中的地图制作工具要求数据为特定的格式：用国别码表示国家，以及用数字表示人口数量\n",
    "    因为pygal使用两个字母的国别码，所以我们要想办法过呢据国家名称获取两个字母的国别码\n",
    "    '''\n",
    "    for code, name in COUNTRIES.items():\n",
    "        if name == country_name:\n",
    "            return code\n",
    "    return None\n",
    "\n",
    "# 打印人口数量\n",
    "ccPopulations = {}\n",
    "for getData in getDatas:\n",
    "    if getData['Year'] == '2000':\n",
    "        countryName = getData['Country Name']\n",
    "        population = getData['Value']\n",
    "        population = int(float(population))     # 将数值转换为整数\n",
    "        code = get_country_code(countryName)\n",
    "        if code:\n",
    "            print(code + ':' + str(population))\n",
    "            ccPopulations[code] = population\n",
    "        else:\n",
    "            print('Error- ' + countryName)\n",
    "\n",
    "# 制作颜色的地图    \n",
    "wm = pygal.maps.world.World()\n",
    "wm.title = 'North, Central, and South America'\n",
    "'''\n",
    "方法add()接受一个标签和一个列表，其中后者包含我们要突出的国家的国别码\n",
    "每次调用add()都将为指定的国家选择一种新的颜色，并在图标左边显示该颜色和指定的标签\n",
    "'''\n",
    "wm.add('North America', ['ca', 'mx', 'us'])     \n",
    "wm.add('Central America', ['bz', 'cr', 'gt', 'hn', 'ni', 'pa', 'sv'])\n",
    "wm.add('South America', ['ar', 'bo', 'br', 'cl', 'co', 'ec', 'gf',\n",
    "    'gy', 'pe', 'py', 'sr', 'uy', 've'])\n",
    "wm.render_to_file('.\\\\python\\\\JSON\\\\americas.svg')      # 制作地图\n",
    "\n",
    "\n",
    "\n",
    "# 绘制完整的世界人口地图\n",
    "wm = pygal.maps.world.World()\n",
    "wm.title = 'World Population in 2000, by Country'\n",
    "wm.add('2000', ccPopulations)\n",
    "wm.render_to_file('.\\\\python\\\\JSON\\\\World_Population.svg')      # 世界人口地图\n",
    "print(ccPopulations)"
   ]
  },
  {
   "cell_type": "markdown",
   "metadata": {},
   "source": [
    "有几个国家没有相关数据，我们将其显示为白色，但对于大多数国家，都根据其人口数量进行了着色。\n",
    "\n",
    "当前地图中，很多国家都是浅色的，只有两个国家是深色的。对大多数国家而言，颜色深浅差别不足以反映其人口数量的差别。\n",
    "\n",
    "为修复这种问题，我们将根据人口数量将国家分组，再分别对每个组着色   \n",
    "我们从模块中导入了样式RotateStyle,创建这个实例时，需要提供一个参数--十六进制的RGB颜色。\n",
    "\n",
    "十六进制格式的RGB颜色是一个以井号（#）打头的字符串，后面跟着6个字符，其中前两个表示红色分量，接下来是绿色和蓝色。\n",
    "\n",
    "这里使用的颜色值（#336699）混合了少量的红色（33）、多一些的绿色（66）和更多一些的蓝色（99），它为RotateStyle提供了一种淡蓝色基色。\n",
    "\n",
    " \n",
    "\n",
    "加亮颜色主题\n",
    "Pygal通常默认使用较暗的颜色主题，为方便印刷，我们使用LightColorizedStyle加亮了地图颜色。\n",
    "\n",
    "这个类修改整个图表的主题，包括背景色、标签以及各个国家的颜色   \n",
    "使用这个类时，不能直接控制使用的颜色，Pygal将选择默认的基色，要设置颜色，可使用RotateStyle,并将LightColorizedStyle作为基本样式。"
   ]
  },
  {
   "cell_type": "code",
   "execution_count": null,
   "metadata": {},
   "outputs": [],
   "source": [
    "import imp\n",
    "import json \n",
    "from pygal_maps_world.i18n import COUNTRIES\n",
    "import pygal.maps.world\n",
    "from pygal.style import RotateStyle, LightColorizedStyle\n",
    "\n",
    "fn = '.\\\\python\\\\JSON\\\\population_data.json'\n",
    "\n",
    "with open(fn) as fnObj:\n",
    "    getDatas = json.load(fnObj)\n",
    "\n",
    "def get_country_code(country_name):\n",
    "    '''\n",
    "    pygal中的地图制作工具要求数据为特定的格式：用国别码表示国家，以及用数字表示人口数量\n",
    "    因为pygal使用两个字母的国别码，所以我们要想办法过呢据国家名称获取两个字母的国别码\n",
    "    '''\n",
    "    for code, name in COUNTRIES.items():\n",
    "        if name == country_name:\n",
    "            return code\n",
    "    return None\n",
    "\n",
    "# 打印人口数量\n",
    "ccPopulations = {}\n",
    "for getData in getDatas:\n",
    "    if getData['Year'] == '2000':\n",
    "        countryName = getData['Country Name']\n",
    "        population = getData['Value']\n",
    "        population = int(float(population))     # 将数值转换为整数\n",
    "        code = get_country_code(countryName)\n",
    "        if code:\n",
    "            print(code + ':' + str(population))\n",
    "            ccPopulations[code] = population\n",
    "        else:\n",
    "            print('Error- ' + countryName)\n",
    "\n",
    "#当前地图中，很多国家都是浅色的，只有两个国家是深色的。对大多数国家而言，颜色深浅差别不足以反映其人口数量的差别。\n",
    "#为修复这种问题，我们将根据人口数量将国家分组，再分别对每个组着色：\n",
    "ccPopulations1 , ccPopulations2, ccPopulations3 = {}, {}, {}\n",
    "for countrynames, populations in ccPopulations.items():\n",
    "    if populations< 10000000:\n",
    "        ccPopulations1[countrynames] = populations\n",
    "    elif populations < 100000000:\n",
    "        ccPopulations2[countrynames] = populations\n",
    "    else:\n",
    "        ccPopulations3[countrynames] = populations\n",
    "\n",
    "print(len(ccPopulations1), len(ccPopulations2), len(ccPopulations3))\n",
    "wm_style = RotateStyle('#336688', base_style=LightColorizedStyle)\n",
    "wm = pygal.maps.world.World(style=wm_style)\n",
    "wm.title='World Population in 2000, by Country'\n",
    "wm.add('0-10m', ccPopulations1)\n",
    "wm.add('10m-1bn', ccPopulations2)\n",
    "wm.add('1b-10bn', ccPopulations3)\n",
    "wm.render_to_file('.\\\\python\\\\JSON\\\\World_pupulation_2000.svg')\n",
    "\n",
    "\n",
    "# # 制作颜色的地图\n",
    "# wm = pygal.maps.world.World()\n",
    "# wm.title = 'North, Central, and South America'\n",
    "# '''\n",
    "# 方法add()接受一个标签和一个列表，其中后者包含我们要突出的国家的国别码\n",
    "# 每次调用add()都将为指定的国家选择一种新的颜色，并在图标左边显示该颜色和指定的标签\n",
    "# '''\n",
    "# wm.add('North America', ['ca', 'mx', 'us'])     \n",
    "# wm.add('Central America', ['bz', 'cr', 'gt', 'hn', 'ni', 'pa', 'sv'])\n",
    "# wm.add('South America', ['ar', 'bo', 'br', 'cl', 'co', 'ec', 'gf',\n",
    "#     'gy', 'pe', 'py', 'sr', 'uy', 've'])\n",
    "# wm.render_to_file('.\\\\python\\\\JSON\\\\americas.svg')      # 制作地图\n",
    "\n",
    "\n",
    "\n",
    "# # 绘制完整的世界人口地图\n",
    "# wm = pygal.maps.world.World()\n",
    "# wm.title = 'World Population in 2000, by Country'\n",
    "# wm.add('2000', ccPopulations)\n",
    "# wm.render_to_file('.\\\\python\\\\JSON\\\\World_Population.svg')      # 世界人口地图\n",
    "# print(ccPopulations)\n"
   ]
  }
 ],
 "metadata": {
  "interpreter": {
   "hash": "4b2b555b887dd72101f83f49af7cb7270cb9cb2c239f001746da5ffd3b5e6d44"
  },
  "kernelspec": {
   "display_name": "Python 3.10.1 64-bit",
   "language": "python",
   "name": "python3"
  },
  "language_info": {
   "codemirror_mode": {
    "name": "ipython",
    "version": 3
   },
   "file_extension": ".py",
   "mimetype": "text/x-python",
   "name": "python",
   "nbconvert_exporter": "python",
   "pygments_lexer": "ipython3",
   "version": "3.9.10"
  },
  "orig_nbformat": 4
 },
 "nbformat": 4,
 "nbformat_minor": 2
}
