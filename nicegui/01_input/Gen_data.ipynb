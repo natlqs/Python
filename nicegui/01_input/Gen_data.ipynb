{
 "cells": [
  {
   "cell_type": "code",
   "execution_count": 1,
   "metadata": {},
   "outputs": [],
   "source": [
    "from nicegui import ui\n",
    "import pandas as pd\n",
    "import numpy as np\n",
    "from ex4nicegui import bi\n",
    "from ex4nicegui.reactive import rxui\n",
    "from ex4nicegui import effect, effect_refreshable\n",
    "from pyecharts.charts import Bar\n"
   ]
  },
  {
   "cell_type": "code",
   "execution_count": null,
   "metadata": {},
   "outputs": [],
   "source": [
    "# data ready\n",
    "def gen_data():\n",
    "    np.random.seed(265)\n",
    "    field1 = [\"a1\", \"a2\", \"a3\", \"a4\"]\n",
    "    field2 = [f\"name{i}\" for i in range(1, 11)]\n",
    "    df = (\n",
    "        pd.MultiIndex.from_product([field1, field2], names=[\"cat\", \"name\"])\n",
    "        .to_frame()\n",
    "        .reset_index(drop=True)\n",
    "    )\n",
    "    print(df)\n",
    "    df[[\"idc1\", \"idc2\"]] = np.random.randint(50, 1000, size=(len(df), 2))\n",
    "    return df\n",
    "\n",
    "\n",
    "df = gen_data()\n",
    "print(df)"
   ]
  }
 ],
 "metadata": {
  "kernelspec": {
   "display_name": "01_nicegui_venv",
   "language": "python",
   "name": "python3"
  },
  "language_info": {
   "codemirror_mode": {
    "name": "ipython",
    "version": 3
   },
   "file_extension": ".py",
   "mimetype": "text/x-python",
   "name": "python",
   "nbconvert_exporter": "python",
   "pygments_lexer": "ipython3",
   "version": "3.12.0"
  }
 },
 "nbformat": 4,
 "nbformat_minor": 2
}
