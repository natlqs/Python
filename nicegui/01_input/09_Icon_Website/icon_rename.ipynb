{
 "cells": [
  {
   "cell_type": "code",
   "execution_count": 1,
   "metadata": {},
   "outputs": [],
   "source": [
    "import os"
   ]
  },
  {
   "cell_type": "code",
   "execution_count": 18,
   "metadata": {},
   "outputs": [
    {
     "name": "stdout",
     "output_type": "stream",
     "text": [
      "10k.svg\n",
      "123.svg\n",
      "360.svg\n",
      "3gMobiledataBadge.svg\n",
      "AddLocationRounded.svg\n",
      "AddReaction.svg\n",
      "AlignFlexEndRounded.svg\n",
      "ArrowCircleDownRounded.svg\n",
      "AutoFix.svg\n",
      "Badge.svg\n",
      "BedOutlineRounded.svg\n",
      "BookmarkRemoveSharp.svg\n",
      "BusinessCenterSharp.svg\n",
      "CampaignOutlineSharp.svg\n",
      "ChangeHistoryOutline.svg\n",
      "ClimateMiniSplitOutline.svg\n",
      "ConciergeOutlineSharp.svg\n",
      "Construction.svg\n",
      "DeleteHistoryOutline.svg\n",
      "DensityMedium.svg\n",
      "DeveloperMode.svg\n",
      "Diversity4Outline.svg\n",
      "DrawCollageOutline.svg\n",
      "EjectOutlineRounded.svg\n",
      "Event.svg\n",
      "Favorite.svg\n",
      "FilterCenterFocusOutlineSharp.svg\n",
      "FloorLampRounded.svg\n",
      "FormatH5Rounded.svg\n",
      "GardenCartOutlineRounded.svg\n",
      "Groups2Outline.svg\n",
      "HealthMetricsOutlineSharp.svg\n",
      "HomeMax.svg\n",
      "Immunology.svg\n",
      "KeyboardAltOutlineRounded.svg\n",
      "Layers.svg\n",
      "Light18UpRating.svg\n",
      "LiveHelpSharp.svg\n",
      "Looks3Sharp.svg\n",
      "MarkdownSharp.svg\n",
      "MindfulnessRounded.svg\n",
      "MotorcycleOutline.svg\n",
      "MoveLocationOutlineRounded.svg\n",
      "NestFarsightWeather.svg\n",
      "NoFood.svg\n",
      "OnHubDeviceOutline.svg\n",
      "PaidRounded.svg\n",
      "PersonAlertOutline.svg\n",
      "PhonelinkOffOutlineRounded.svg\n",
      "PlayForWork.svg\n",
      "PrintOutlineSharp.svg\n",
      "RainyLightSharp.svg\n",
      "RequestPageOutlineSharp.svg\n",
      "RunningWithErrors.svg\n",
      "ScreenshotRegionRounded.svg\n",
      "SetMeal.svg\n",
      "ShieldLockedOutlineRounded.svg\n",
      "Skateboarding.svg\n",
      "SpatialAudioOffOutline.svg\n",
      "StackStarOutlineSharp.svg\n",
      "Subscript.svg\n",
      "SwitchOutlineRounded.svg\n",
      "TapAndPlayOutline.svg\n",
      "Timer10Alt1Rounded.svg\n",
      "TransitionFadeSharp.svg\n",
      "UnknownMed.svg\n"
     ]
    }
   ],
   "source": [
    "path = r'C:\\Users\\natlq\\Downloads\\ICONS'\n",
    "for file in os.listdir(path):\n",
    "    # newfile = file[1:len(file)]\n",
    "    # os.rename(os.path.join(path, file), os.path.join(path, newfile))\n",
    "    print(file)"
   ]
  }
 ],
 "metadata": {
  "kernelspec": {
   "display_name": "01_nicegui_venv",
   "language": "python",
   "name": "python3"
  },
  "language_info": {
   "codemirror_mode": {
    "name": "ipython",
    "version": 3
   },
   "file_extension": ".py",
   "mimetype": "text/x-python",
   "name": "python",
   "nbconvert_exporter": "python",
   "pygments_lexer": "ipython3",
   "version": "3.12.0"
  }
 },
 "nbformat": 4,
 "nbformat_minor": 2
}
