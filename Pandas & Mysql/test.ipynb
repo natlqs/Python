{
 "cells": [
  {
   "cell_type": "code",
   "execution_count": 5,
   "metadata": {},
   "outputs": [],
   "source": [
    "from selenium import webdriver\n",
    "import pandas as pd\n",
    "\n",
    "browser = webdriver.Edge()\n",
    "url = 'https://vip.stock.finance.sina.com.cn/corp/go.php/vFD_BalanceSheet/stockid/600519/ctrl/part/displaytype/4.phtml'\n",
    "browser.get(url)\n",
    "data = browser.page_source\n",
    "\n",
    "table= pd.read_html(data)\n",
    "\n",
    "# for i in range(len(table)):\n",
    "    # print(i)\n",
    "    # print(table[i])\n",
    "df = table[14]\n",
    "df.columns = df.iloc[0] # 设置列索引为原表格的第1行\n",
    "df = df[0:] # 从第2行开始选取数据\n",
    "df = df.dropna()    # 删除含有空值的行，若只想删除全为空值的行，可写成dropna(how='all')\n",
    "df\n",
    "df.to_excel('贵州茅台-资产负债表.xlsx', index=False)    # 设置index = False以忽略行索引"
   ]
  }
 ],
 "metadata": {
  "interpreter": {
   "hash": "675868e700a09232ff5f9656c2a8569beabdbea23de5bdd2dccbb6bda2f05741"
  },
  "kernelspec": {
   "display_name": "Python 3.9.12 64-bit (windows store)",
   "language": "python",
   "name": "python3"
  },
  "language_info": {
   "codemirror_mode": {
    "name": "ipython",
    "version": 3
   },
   "file_extension": ".py",
   "mimetype": "text/x-python",
   "name": "python",
   "nbconvert_exporter": "python",
   "pygments_lexer": "ipython3",
   "version": "3.9.12"
  },
  "orig_nbformat": 4
 },
 "nbformat": 4,
 "nbformat_minor": 2
}
