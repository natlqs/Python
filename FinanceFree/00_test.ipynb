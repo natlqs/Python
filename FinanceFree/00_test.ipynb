{
 "cells": [
  {
   "cell_type": "code",
   "execution_count": 1,
   "metadata": {},
   "outputs": [
    {
     "name": "stdout",
     "output_type": "stream",
     "text": [
      "本接口即将停止更新，请尽快使用Pro版接口：https://tushare.pro/document/2\n"
     ]
    }
   ],
   "source": [
    "# get stock history price \n",
    "# store as file\n",
    "# Draw the K picture\n",
    "import matplotlib\n",
    "from matplotlib.pyplot import ylabel\n",
    "import pandas as pd\n",
    "import numpy as np\n",
    "# import yfinance as yf\n",
    "import datetime as dt\n",
    "import tushare as ts\n",
    "# from pandas_datareader import data as pdr\n",
    "import matplotlib.pyplot as plt\n",
    "import mplfinance as mpf\n",
    "\n",
    "\n",
    "# yf.pdr_override()       # \n",
    "\n",
    "start = dt.datetime(1980, 12, 1)\n",
    "now = dt.datetime.now()\n",
    "\n",
    "stock=input('Input the stock symbol:   ')\n",
    "df = ts.get_hist_data(stock, start= str(start), end = str(now))\n",
    "# print(df)\n"
   ]
  },
  {
   "cell_type": "code",
   "execution_count": 2,
   "metadata": {},
   "outputs": [
    {
     "name": "stdout",
     "output_type": "stream",
     "text": [
      "date\n",
      "2022-05-30    1778.41\n",
      "2022-05-27    1755.16\n",
      "2022-05-26    1742.80\n",
      "2022-05-25    1755.51\n",
      "2022-05-24    1760.00\n",
      "               ...   \n",
      "2019-12-06    1170.00\n",
      "2019-12-05    1129.80\n",
      "2019-12-04    1122.33\n",
      "2019-12-03    1118.00\n",
      "2019-12-02    1133.00\n",
      "Name: close, Length: 603, dtype: float64\n",
      "<class 'pandas.core.series.Series'>\n"
     ]
    }
   ],
   "source": [
    "\n",
    "df2 = df['close']\n",
    "print(df2)\n",
    "print(type(df2))\n",
    "# mpf.plot(df2, type='candle', title='Candlestick', ylabel='price(RMB)')"
   ]
  }
 ],
 "metadata": {
  "kernelspec": {
   "display_name": "Python 3.9.5 64-bit",
   "language": "python",
   "name": "python3"
  },
  "language_info": {
   "codemirror_mode": {
    "name": "ipython",
    "version": 3
   },
   "file_extension": ".py",
   "mimetype": "text/x-python",
   "name": "python",
   "nbconvert_exporter": "python",
   "pygments_lexer": "ipython3",
   "version": "3.9.5"
  },
  "orig_nbformat": 4,
  "vscode": {
   "interpreter": {
    "hash": "6b482c55c05c8143794ff175b943d690cd6a8fcd781d65bd5657607dca1cffc9"
   }
  }
 },
 "nbformat": 4,
 "nbformat_minor": 2
}
