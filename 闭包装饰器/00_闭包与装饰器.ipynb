{
 "cells": [
  {
   "cell_type": "markdown",
   "metadata": {},
   "source": [
    "## 装饰器"
   ]
  },
  {
   "cell_type": "markdown",
   "metadata": {},
   "source": [
    "### Hello 装饰器"
   ]
  },
  {
   "cell_type": "markdown",
   "metadata": {},
   "source": [
    "装饰器本质上是一个Python函数，它可以让其他函数在不需要做任何代码变动的前提下增加额外功能，装饰器的返回值也是一个函数对象。\n",
    "\n",
    "它经常用于有切面需求的场景，比如：插入日志、性能测试、事务处理、缓存、权限校验等场景。\n",
    "\n",
    "装饰器是解决这类问题的绝佳设计，有了装饰器，我们就可以抽离出大量与函数功能本身无关的雷同代码并继续重用。\n",
    "\n",
    "装饰器的使用方法很固定\n",
    "- 先定义一个装饰器（帽子）\n",
    "- 再定义你的业务函数或者类（人）\n",
    "- 最后把这装饰器（帽子）扣在这个函数（人）头上\n",
    "\n",
    "就像下面这样子\n"
   ]
  },
  {
   "cell_type": "code",
   "execution_count": null,
   "metadata": {},
   "outputs": [],
   "source": [
    "def decorator(func):\n",
    "\n",
    "    def wrapper(*args, **kw):\n",
    "        return func()\n",
    "    return wrapper\n",
    "\n",
    "# 定义业务函数并进行装饰\n",
    "@decorator\n",
    "def function():\n",
    "   print(\"hello, decorator\")"
   ]
  },
  {
   "cell_type": "markdown",
   "metadata": {},
   "source": [
    "实际上，装饰器并不是编码必须性，意思就是说，你不使用装饰器完全可以，它的出现，应该是使我们的代码\n",
    "\n",
    "- 更加优雅，代码结构更加清晰\n",
    "- 将实现特定的功能代码封装成装饰器，提高代码复用率，增强代码可读性\n",
    "\n",
    "接下来，我将以实例讲解，如何编写出各种简单及复杂的装饰器"
   ]
  }
 ],
 "metadata": {
  "kernelspec": {
   "display_name": "Python 3",
   "language": "python",
   "name": "python3"
  },
  "language_info": {
   "name": "python",
   "version": "3.11.0 (main, Oct 24 2022, 18:26:48) [MSC v.1933 64 bit (AMD64)]"
  },
  "orig_nbformat": 4,
  "vscode": {
   "interpreter": {
    "hash": "1f24671e30b8e88c34ca4af9f2a6eedcf97ffa80f730a0e65a7307641f7e7282"
   }
  }
 },
 "nbformat": 4,
 "nbformat_minor": 2
}
