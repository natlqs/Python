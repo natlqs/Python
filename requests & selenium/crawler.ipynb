{
 "cells": [
  {
   "cell_type": "markdown",
   "metadata": {},
   "source": [
    "\n",
    "## 4.1 Selenium库进阶知识"
   ]
  },
  {
   "cell_type": "markdown",
   "metadata": {},
   "source": [
    "### 4.1.1. 浏览器窗口最大化"
   ]
  },
  {
   "cell_type": "markdown",
   "metadata": {},
   "source": [
    "``` maximize_window()```函数可将模拟浏览器窗口最大化"
   ]
  },
  {
   "cell_type": "markdown",
   "metadata": {},
   "source": [
    "### 4.1.2. 定位元素并模拟鼠标和键盘操作\n"
   ]
  },
  {
   "cell_type": "markdown",
   "metadata": {},
   "source": [
    "#### (1) XPath法"
   ]
  },
  {
   "cell_type": "markdown",
   "metadata": {},
   "source": [
    "XPath可以理解为网页元素的名字或ID。find_element_by_xpath()函数可根据XPath表达式定位网页元素，其基本语法格式如下：\n",
    "```browser.find_element_by_xpath('XPath表达式')```   \n",
    "利用开发者工具可获取网页元素的XPath表达式。按【F12】键打开开发者工具，❶单击元素选择工具按钮，❷在网页中选中搜索框，❸再在“Elements”选项卡中右击搜索框对应的那一行源代码，❹在弹出的快捷菜单中执行“Copy>Copy XPath”命令，即可把搜索框的XPath表达式复制到剪贴板，在编写代码时就可以粘贴到函数中作为参数。   \n",
    "用上述方法获取的搜索框的XPath表达式是``` “//*[@id=\"kw\"]”```，由此可编写出自动在搜索框里。   \n",
    "如果搜索框里有默认文本，可使用如下代码清空默认文本，再通过send_keys()输入内容。\n",
    "``` browser.find_element_by_xpath('//*[@id=\"kw\"]').clear() ```   \n",
    "用同样的方法获取“百度一下”按钮的XPath表达式为“//*[@id=\"su\"]”，那么要模拟单击该按钮，在之前的代码后面继续输入如下代码即可：\n",
    "``` browser.find_element_by_xpath('//*[@id=\"su\"]').click() ```\n",
    "这一行代码先用browser.find_element_by_xpath('//*[@id=\"su\"]')定位“百度一下”按钮，再通过.click()模拟鼠标单击的操作。\n",
    "最后的运行结果是，它实现了自动打开一个浏览器并访问百度首页，在搜索框里输入“python”并单击“百度一下”按钮进行搜索。"
   ]
  },
  {
   "cell_type": "code",
   "execution_count": 4,
   "metadata": {},
   "outputs": [
    {
     "name": "stderr",
     "output_type": "stream",
     "text": [
      "C:\\Users\\natlq\\AppData\\Local\\Temp\\ipykernel_17756\\393646837.py:8: DeprecationWarning: find_element_by_* commands are deprecated. Please use find_element() instead\n",
      "  browser.find_element_by_xpath('//*[@id=\"kw\"]').send_keys('python')\n",
      "C:\\Users\\natlq\\AppData\\Local\\Temp\\ipykernel_17756\\393646837.py:9: DeprecationWarning: find_element_by_* commands are deprecated. Please use find_element() instead\n",
      "  browser.find_element_by_xpath('//*[@id=\"su\"]').click()\n"
     ]
    }
   ],
   "source": [
    "# 打开浏览器，输入网址，输入搜索词，enter，关闭\n",
    "# selenium Xpath选择器\n",
    "from selenium import webdriver  # 导入Selenium库中的webdriver功能\n",
    "import time\n",
    "browser = webdriver.Edge()  # 声明要模拟的浏览器是edge\n",
    "browser.maximize_window()   # 将模拟浏览器窗口最大化\n",
    "browser.get('https://www.baidu.com/')   # 在模拟浏览器中打开指定网址\n",
    "browser.find_element_by_xpath('//*[@id=\"kw\"]').send_keys('python')\n",
    "browser.find_element_by_xpath('//*[@id=\"su\"]').click()\n",
    "time.sleep(2)\n",
    "browser.quit()  # 关闭模拟浏览器"
   ]
  },
  {
   "cell_type": "markdown",
   "metadata": {},
   "source": [
    "\n",
    "#### (2) CSS选择器法"
   ]
  },
  {
   "cell_type": "markdown",
   "metadata": {},
   "source": [
    "CSS选择器是另一种定位网页元素的手段。find_element_by_css_selector()函数可以根据CSS选择器定位网页元素，其基本语法如下：\n",
    "```\n",
    "browser.find_element_by_css_selector('CSS选择器')\n",
    "```\n",
    "与XPath表达式类似，CSS选择器也可通过开发者工具获取。右击网页元素对应的源代码，在弹出的快捷菜单中执行“Copy>Copy selector”命令即可复制CSS选择器。\n",
    "\n",
    "用上述方法获取搜索框和“百度一下”按钮的CSS选择器分别为“#kw”和“#su”，由此编写出完整代码如下："
   ]
  },
  {
   "cell_type": "code",
   "execution_count": 3,
   "metadata": {},
   "outputs": [
    {
     "name": "stderr",
     "output_type": "stream",
     "text": [
      "C:\\Users\\natlq\\AppData\\Local\\Temp\\ipykernel_17756\\4242393275.py:5: DeprecationWarning: find_element_by_* commands are deprecated. Please use find_element() instead\n",
      "  browser.find_element_by_css_selector('#kw').send_keys('python')\n",
      "C:\\Users\\natlq\\AppData\\Local\\Temp\\ipykernel_17756\\4242393275.py:6: DeprecationWarning: find_element_by_* commands are deprecated. Please use find_element() instead\n",
      "  browser.find_element_by_css_selector('#su').click()\n"
     ]
    }
   ],
   "source": [
    "from selenium import webdriver\n",
    "import time\n",
    "browser = webdriver.Edge()\n",
    "browser.get('https://www.baidu.com')\n",
    "browser.find_element_by_css_selector('#kw').send_keys('python')\n",
    "browser.find_element_by_css_selector('#su').click()\n",
    "time.sleep(2)\n",
    "browser.quit()"
   ]
  },
  {
   "cell_type": "markdown",
   "metadata": {},
   "source": [
    "### 4.1.3. 无界面浏览器模式"
   ]
  },
  {
   "cell_type": "markdown",
   "metadata": {},
   "source": [
    "如果希望运行代码时不弹出模拟浏览器窗口，就要启用无界面浏览器（Chrome Headless）模式，把浏览器转到后台运行而不显示出来。方法也很简单，把browser = webdriver.Chrome()替换成如下代码：\n",
    "```\n",
    "chrome_options = webdriver.ChromeOptions()\n",
    "chrome_options.add_argument('--headless')\n",
    "browser = webdriver.Chrome(options=chrome_options)\n",
    "```   \n",
    "用这个设置来获取百度首页的网页源代码，代码如下："
   ]
  },
  {
   "cell_type": "code",
   "execution_count": null,
   "metadata": {},
   "outputs": [],
   "source": [
    "from selenium import webdriver\n",
    "edge_options = webdriver.EdgeOptions()\n",
    "edge_options.add_argument('--headless')\n",
    "browser = webdriver.Edge(options=edge_options)\n",
    "browser.get('https://www.baidu.com/')\n",
    "data = browser.page_source\n",
    "print(data)"
   ]
  },
  {
   "cell_type": "markdown",
   "metadata": {},
   "source": [
    "###  4.1.4. 其他知识点\n",
    "Selenium库的以下3个知识点，虽然用得不多，但也很重要，将在之后的章节逐步讲解。"
   ]
  },
  {
   "cell_type": "markdown",
   "metadata": {},
   "source": [
    "\n",
    "-  切换子页面（网页中的网页），将在4.5节结合案例详细讲解。\n",
    "- 切换浏览器同级页面，将在4.5节的“补充知识点”中详细讲解。\n",
    "- 控制滚动条滚动，将在《零基础学Python网络爬虫案例实战全流程详解（高级进阶篇）》3.3节的综合案例中详细讲解。\n",
    "\n",
    "```python\n",
    "browser.switch_to.frame('子页面的name属性值')\n",
    "handless = browser.window_handles   # 获取浏览器所有窗口的句柄\n",
    "browser.switch_to.window(handless[0])    # 切换到第一个窗口，即最开始打开的窗口\n",
    "browser.switch_to.window(handles[-1])   # 切换到倒数第一个窗口，即最新打开的窗口\n",
    "```"
   ]
  },
  {
   "cell_type": "markdown",
   "metadata": {},
   "source": [
    "## 4.2 新浪财经股票行情数据爬取"
   ]
  },
  {
   "cell_type": "markdown",
   "metadata": {},
   "source": [
    "### 4.2.1 用Selenium库爬取股票行情数据"
   ]
  },
  {
   "cell_type": "markdown",
   "metadata": {},
   "source": [
    "1. 获取网页源代码"
   ]
  },
  {
   "cell_type": "code",
   "execution_count": null,
   "metadata": {},
   "outputs": [],
   "source": [
    "from selenium import webdriver\n",
    "browser = webdriver.Edge()\n",
    "browser.get('http://finance.sina.com.cn/realstock/company/sh600519/nc.shtml')\n",
    "data = browser.page_source\n",
    "browser.quit()\n",
    "print(data)"
   ]
  },
  {
   "cell_type": "markdown",
   "metadata": {},
   "source": [
    "2.解析网页源代码并提取数据"
   ]
  },
  {
   "cell_type": "markdown",
   "metadata": {},
   "source": [
    "经过观察可以发现，包含股价的网页源代码有如下规律：   \n",
    "```<div id=\"price\" class=\"up/down\">股价</div>``` \n",
    "     \n",
    "```该<div>标签的id属性为“price”，之前讲过，id属性类似于身份证号，一个网页中各个元素的id属性一般不会重复，因此，可以用这个<div>标签作为一个强定位条件。```\n",
    "```\n",
    "此外，该<div>标签的class属性表示股价是上涨还是下跌，上图中的“down”表示下跌。如果是上涨的话，class属性则为“up”，感兴趣的读者可以找一只上涨的股票进行验证。```\n",
    "根据找到的规律，编写出用正则表达式提取股价的代码如下： "
   ]
  },
  {
   "cell_type": "code",
   "execution_count": null,
   "metadata": {},
   "outputs": [],
   "source": [
    "import re\n",
    "p_price = '<div id=\"price\" class=\".*?\">(.*?)</div>'\n",
    "price = re.findall(p_price, data)"
   ]
  },
  {
   "cell_type": "markdown",
   "metadata": {},
   "source": [
    "完整代码如下："
   ]
  },
  {
   "cell_type": "code",
   "execution_count": 7,
   "metadata": {},
   "outputs": [
    {
     "name": "stdout",
     "output_type": "stream",
     "text": [
      "['1849.97']\n"
     ]
    }
   ],
   "source": [
    "from selenium import webdriver\n",
    "import re\n",
    "browser = webdriver.Edge()\n",
    "browser.get('http://finance.sina.com.cn/realstock/company/sh600519/nc.shtml')\n",
    "data = browser.page_source\n",
    "browser.quit()\n",
    "p_price = '<div id=\"price\" class=\".*?\">(.*?)</div>'\n",
    "price = re.findall(p_price, data)\n",
    "print(price)"
   ]
  },
  {
   "cell_type": "markdown",
   "metadata": {},
   "source": [
    "### 4.2.2 用新浪财经API爬取股票行情数据"
   ]
  },
  {
   "cell_type": "markdown",
   "metadata": {},
   "source": [
    "除了用Selenium库爬取网页上的数据，还可以通过新浪财经API（数据接口）快速爬取股票行情实时数据。同样以“贵州茅台”（股票代码600519）为例，访问网址http://hq.sinajs.cn/list=sh600519，即可获得该股票的实时行情数据。先用浏览器访问该网址，获得的内容如下图所示。"
   ]
  },
  {
   "cell_type": "code",
   "execution_count": 2,
   "metadata": {},
   "outputs": [
    {
     "name": "stdout",
     "output_type": "stream",
     "text": [
      "Kinsoku jikou desu!\n"
     ]
    }
   ],
   "source": [
    "import requests\n",
    "url = 'http://hq.sinajs.cn/list=sh600519'\n",
    "res = requests.get(url).text\n",
    "print(res)"
   ]
  },
  {
   "cell_type": "markdown",
   "metadata": {},
   "source": [
    "### 4.2.3 用Tushare库获取股票行情数据"
   ]
  },
  {
   "cell_type": "markdown",
   "metadata": {},
   "source": [
    "前面讲解了如何获取股票行情的实时数据，如果想获取股票行情的历史数据，可以使用Python的第三方库Tushare。用命令“pip install tushare”安装该库，如果安装失败，可尝试从镜像服务器安装。\n"
   ]
  },
  {
   "cell_type": "markdown",
   "metadata": {},
   "source": [
    "下面简单演示一下Tushare库的用法。先获取“贵州茅台”（股票代码600519）的行情历史数据，代码如下："
   ]
  },
  {
   "cell_type": "code",
   "execution_count": 3,
   "metadata": {},
   "outputs": [
    {
     "name": "stdout",
     "output_type": "stream",
     "text": [
      "本接口即将停止更新，请尽快使用Pro版接口：https://tushare.pro/document/2\n"
     ]
    }
   ],
   "source": [
    "import tushare as ts\n",
    "df = ts.get_hist_data('600519', start = '2018-01-01', end = '2022-02-15')   # 返回历史数据DataFrame格式的表格"
   ]
  },
  {
   "cell_type": "markdown",
   "metadata": {},
   "source": [
    "其中，open为开盘价，high为最高价，close为收盘价，low为最低价，volume为成交量，price_change为价格变化（今日收盘价－昨日收盘价），p_change为价格涨跌幅（price_change/昨日收盘价），ma5为5日均线价格，v_ma5为5日均线成交量，turnover为换手率（成交量/总股数）。注意，如果不写start和end参数，直接写ts.get_hist_data('600519')，会默认调取从当天往前3年的数据。"
   ]
  },
  {
   "cell_type": "markdown",
   "metadata": {},
   "source": [
    "## 4.3 东方财富网数据爬取"
   ]
  },
  {
   "cell_type": "markdown",
   "metadata": {},
   "source": [
    "### 4.3.1 上市公司股吧帖子爬取"
   ]
  },
  {
   "cell_type": "markdown",
   "metadata": {},
   "source": [
    "首先用Selenium库请求网页并获取网页源代码，代码如下："
   ]
  },
  {
   "cell_type": "code",
   "execution_count": null,
   "metadata": {},
   "outputs": [],
   "source": [
    "from selenium import webdriver\n",
    "browser = webdriver.Edge()\n",
    "browser.get('https://guba.eastmoney.com/list,600519.html')\n",
    "data = browser.page_source\n",
    "browser.quit()\n",
    "print(data)"
   ]
  },
  {
   "cell_type": "markdown",
   "metadata": {},
   "source": [
    "无界面浏览器模式:"
   ]
  },
  {
   "cell_type": "code",
   "execution_count": null,
   "metadata": {},
   "outputs": [],
   "source": [
    "from selenium import webdriver\n",
    "edge_options = webdriver.EdgeOptions()\n",
    "edge_options.add_argument('--headless')\n",
    "browser = webdriver.Edge(options=edge_options)\n",
    "browser.get('https://guba.eastmoney.com/list,600519.html')\n",
    "data = browser.page_source\n",
    "print(data)"
   ]
  },
  {
   "cell_type": "markdown",
   "metadata": {},
   "source": [
    "打印输出网页源代码data，通过观察，发现包含帖子标题的网页源代码有如下规律：\n",
    "\\<a href=\"帖子网址\" title=\"帖子标题全称\"\\>帖子标题简称\\</a\\>\n",
    "这里只需要提取标题全称，编写出用正则表达式提取标题的代码，完整代码如下："
   ]
  },
  {
   "cell_type": "code",
   "execution_count": 9,
   "metadata": {},
   "outputs": [
    {
     "name": "stdout",
     "output_type": "stream",
     "text": [
      "1.连续6日净买入 贵州茅台获沪股通净买入10.01亿元\n",
      "2.丁雄军虎年大动作：时隔24年后 茅台营销体系迎来大变革！\n",
      "3.茅台董事长：把“美”作为营销核心理念 与消费者形成情感共同体\n",
      "4.巴菲特：优秀的投资者，第一追求的是正确，其次才是赚钱\n",
      "5.理财自媒体“基少成多”\n",
      "6.新能源的灾难，买股票，常识最重要\n",
      "7.茅台马上要变茅坑了，白酒都在打折卖，以前过春节房地产行业要送掉好多茅台，今年都没\n",
      "8.白酒还是估值太高，过早入场将步平安和医药的后尘！\n",
      "9.基金反着买，别墅靠大海\n",
      "10.知名财经自媒体\n",
      "11.注册金融分析师（一级）\n",
      "12.散户宣言：宁不炒股也不接宁王和茅台的盘，拉的越高摔的越惨，散户大笑一声，你也有今\n",
      "13.鲁酒之痛，酒量NO.1的山东为什么跑不出“酒王”？\n",
      "14.如果是基金拼命买贵州茅台、宁德时代、比亚迪等高价高位股，这些股大概已经透支了未来\n",
      "15.白菜价买特大金山～3.4元栖霞建设\n",
      "16.对于元宇宙行业发展后市，彭博研究预计市场规模将在2024年达到8000亿美元。\n",
      "17.林园采访问答干货2022年2月14日\n",
      "18.$贵州茅台(SH600519)$茅台一涨，后面准没好事。\n",
      "19.炒茅台的是不是傻？华北制药十倍大牛股！\n",
      "20.炒作骗局破灭。会跌到2块钱或退市\n",
      "21.要瓦解跌到2块钱或退市吗。现在家家户户公司可以定价比贵州茅台高炒作骗局被揭穿了。\n",
      "22.远离基金重仓股！\n",
      "23.林园采访问答干货2022年2月14日\n",
      "24.收藏！2022年投什么？环保中的高科技！——————————————为何说掘金“\n",
      "25.$贵州茅台(SH600519)$1905.99mt防作反，立即切换，扫盘吃进3.\n",
      "26.A股陷入补跌行情中！指数继续下行，到底该何时出手？\n",
      "27.独立财经评论员\n",
      "28.$贵州茅台(SH600519)$王者就是王者，几年了，没有辜负我！\n",
      "29.$贵州茅台(SH600519)$1905茅台防作反，立即切换，扫盘吃进栖霞建设\n",
      "30.基金放开限额，有钱了，拉了？可怜的基民\n",
      "31.市场大乱修复中，但大伙集体预期还有一条大长腿没出来，创业板在宁王大返4%的配合下\n",
      "32.必看｜黄世霖减持27倍牛股宁德时代 进焦点就是为了把焦点打造成第二个数字宁德\n",
      "33.$贵州茅台(SH600519)$关键时刻还得看我毛哥\n",
      "34.已卖，你们都跑了么\n",
      "35.茅台不涨大盘难涨，茅台A股的希望\n",
      "36.满仓干了\n",
      "37.啥时候涨价啊，去年吹到今年了，还不涨\n",
      "38.调整结束，冲起来\n",
      "39.公布个涨价，来个涨停\n",
      "40.$贵州茅台(SH600519)$拉高出货而已。及时止损出局！\n",
      "41.$贵州茅台(SH600519)$快了快了，快撑不住了，长春高新不是跳下去了吗？贵\n",
      "42.满仓干了\n",
      "43.靠压榨经销商提业绩，本事？\n",
      "44.$贵州茅台(SH600519)$拉茅台死的快，这些大家伙资金占用太多了\n",
      "45.啤酒茅台化？贵比茅台的啤酒真的有人喝吗？\n",
      "46.$贵州茅台(SH600519)$金叉金叉金叉\n",
      "47.拉大盘还得靠茅台\n",
      "48.今天不跑，明天又被套了\n",
      "49.$贵州茅台(SH600519)$机构们还需要抱团取暖，新韭菜看表演就好，千万别出\n",
      "50.白酒稳住，多位白酒明星基金经理已经开始调高申购限额，不要小看这些基民的实力，现在\n",
      "51.$贵州茅台(SH600519)$茅台和片仔癀的组合长期持有，跑赢整个市场，满仓干\n",
      "52.看多贵州茅台\n",
      "53.茅台开始走强了，昨天说了，茅台只算止跌，还没开始走强，今天茅台开始走强了，会带着\n",
      "54.周线放量中阳线，下周A股五大猜想？(周博)\n",
      "55.虎年生肖茅台价格腰斩！1个多月前还8000元 市场遇冷还是黄牛炒作失效？\n",
      "56.今天劵茅大跌14%，明天就看酒茅跌不跌\n",
      "57.$贵州茅台(SH600519)$华创证券的目标价260是认真的吗？\n",
      "58.外资撤离茅台和宁德时代！正转向东方生物！13个交易日买近8亿资金东方生物！东方生\n",
      "59.估计这次要把2216给他先过去\n",
      "60.有图有真相：原来抱团，现在散伙！谜底是：不能满街醉酒者！$贵州茅台(SH6005\n",
      "61.去年赎回基金，今年股票赚了20%，，\n",
      "62.哈哈，十年内别碰！！！！\n",
      "63.高位套现，快跑\n",
      "64.感觉茅坑还是一如继往地冲高抛货砸盘走势，这是万年不变的策略啊\n",
      "65.茅台一拉，全都回家[大哭]\n",
      "66.求大神…..准备入场贵州茅台……多少钱建仓合适？\n",
      "67.这货和五粮液分道扬镳了\n",
      "68.茅台酱香酒升级营销体系；仁怀酒文化体验地已超20个；舍得酒业2022年会成功举行\n",
      "69.$贵州茅台(SH600519)$茅台必须大跌\n",
      "70.$贵州茅台(SH600519)$大茅见红了，这波骚操作要稳拿[得意][火箭]\n",
      "71.【酒ETF512690盘前资讯】\n",
      "72.茅台气数已经，超级资金从去年末陆续从各高位股撤资偷偷布局了未来新秀霸主中石油，京\n",
      "73.$贵州茅台(SH600519)$拉茅台，砸中\n",
      "74.茅台酒这类票按公博总部评级标准，最多打分到Au03分，属于底板好的残次品。\n",
      "75.今天涨一个点，明天跌一个点，来回慢慢跑路，这种出货方式比较好，利于接盘侠成长。\n",
      "76.$贵州茅台(SH600519)$《仁怀市国民经济和社会发展第十四个五年规划和二〇\n",
      "77.业绩卓然，\n",
      "78.摩根士丹利华鑫基金管理有限公司\n",
      "79.$贵州茅台(SH600519)$茅台不跌到500元大盘好不了。\n",
      "80.$贵州茅台(SH600519)$\n",
      "81.茅台吧里唱空的很多，我想，应该是有人想让一些散户出局，或者是做空茅台的。如果是后\n",
      "82.【冷知识】新基金经理都是书呆子？其实上任前已经“身经百战”！\n",
      "83.长城基金管理有限公司\n",
      "84.宁德时代到东方财富，今天会是哪个龙头被砍，猜猜看？创业板这些大票都要轮一遍，昨天\n",
      "85.中锐股份为小茅台贵宴樽的上市公司，在目前股价5.98元内低吸建仓，反转在即，买入\n",
      "86.给我一根杠杆，能撬动整个地球，投资时，时间就是这根杠杆--查尔斯•埃利斯\n",
      "87.下午大盘又暴跌原因是权重股贵州茅台盘中最多跌86元多\n",
      "88.习酒借壳，花落谁家？骏马股手2021-09-0406:30关注本文纯属个人观点，\n",
      "89.财经早餐：关注数字经济机会，锂矿供应“去澳洲化”\n",
      "90.大成基金管理有限公司\n",
      "91.$贵州茅台(SH600519)$就是没有广西自营店\n",
      "92.近2000米悬河是低估银行与基建的相互显示器\n",
      "93.2021年年报预约2022年03月31日披露\n"
     ]
    }
   ],
   "source": [
    "from selenium import webdriver\n",
    "edge_options = webdriver.EdgeOptions()\n",
    "edge_options.add_argument('--headless')\n",
    "browser = webdriver.Edge(options=edge_options)\n",
    "browser.get('https://guba.eastmoney.com/list,600519.html')\n",
    "data = browser.page_source\n",
    "import re\n",
    "p_title = '<a href=\".*?\" title=\"(.*?)\"'\n",
    "title = re.findall(p_title, data)\n",
    "for i in range(len(title)):\n",
    "    print(str(i + 1) + '.' + title[i])"
   ]
  },
  {
   "cell_type": "markdown",
   "metadata": {},
   "source": [
    "### 4.3.2 上市公司新闻爬取"
   ]
  },
  {
   "cell_type": "markdown",
   "metadata": {},
   "source": [
    "#### 4.3.2.1 获取网页源代码"
   ]
  },
  {
   "cell_type": "code",
   "execution_count": null,
   "metadata": {},
   "outputs": [],
   "source": [
    "from selenium import webdriver\n",
    "edge_options = webdriver.EdgeOptions()\n",
    "edge_options.add_argument('--headless')\n",
    "browser = webdriver.Edge(options=edge_options)\n",
    "browser.get('https://so.eastmoney.com/news/s?keyword=格力电器')\n",
    "data = browser.page_source"
   ]
  },
  {
   "cell_type": "markdown",
   "metadata": {},
   "source": [
    "#### 4.3.2.2 用正则表达式提取数据"
   ]
  },
  {
   "cell_type": "markdown",
   "metadata": {},
   "source": [
    "在浏览器中用开发者工具定位或者在Python打印输出的网页源代码中用快捷键【Ctrl+F】搜索，可以较容易地找到包含新闻标题和来源的网页源代码的规律\n",
    "   \n",
    "日期的提取稍微有点难度。先用开发者工具进行分析。"
   ]
  },
  {
   "cell_type": "markdown",
   "metadata": {},
   "source": [
    "提取新闻标题、网址、日期的完整代码如下："
   ]
  },
  {
   "cell_type": "code",
   "execution_count": null,
   "metadata": {},
   "outputs": [],
   "source": [
    "\n",
    "p_title = '<div class=\"news_item_t\"><a href=.*?>(.*?)</a>'\n",
    "p_href = '<div class=\"news_item_t\"><a href=(.*?)>.*?</a>'\n",
    "p_date = '<span class=\"news_item_time\">(.*?)</span>'\n",
    "title = re.findall(p_title, data)\n",
    "href = re.findall(p_href, data)\n",
    "date = re.findall(p_date, data, re.S)"
   ]
  },
  {
   "cell_type": "markdown",
   "metadata": {},
   "source": [
    "需要注意的是，其中提取日期的“(.*?)”可能包括换行，所以在对应的findall()函数中要添加re.S修饰符来自动考虑换行的影响，否则提取的日期数量会不正确。\n",
    "<br>可以利用print()函数检查提取到的内容，或者利用len()函数检查各个列表的元素数量是否一致。"
   ]
  },
  {
   "cell_type": "markdown",
   "metadata": {},
   "source": [
    "#### 4.3.2.3 数据清洗及打印输出"
   ]
  },
  {
   "cell_type": "markdown",
   "metadata": {},
   "source": [
    "数据清洗相对容易。标题里有一些类似<em>的字符串，可以用sub()函数清除；日期需要利用split()函数拆分出来。代码如下："
   ]
  },
  {
   "cell_type": "code",
   "execution_count": null,
   "metadata": {},
   "outputs": [],
   "source": [
    "for i in range(len(title)):\n",
    "    title[i] = re.sub('<.*?>', '', title[i])\n",
    "    date[i] = date[i].split(' ')[0]\n",
    "    print(str(i+1) + '.' + title[i] + ' - ' + date[i])\n",
    "    print(href[i])"
   ]
  },
  {
   "cell_type": "markdown",
   "metadata": {},
   "source": [
    "#### 4.3.2.4 利用自定义函数实现批量爬取多家公司的新闻"
   ]
  },
  {
   "cell_type": "markdown",
   "metadata": {},
   "source": [
    "函数的定义和调用主要是在网址上做文章，把网址```“https://so.eastmoney.com/news/s?keyword=格力电器”```中的```“格力电器”```换成其他上市公司名称即可。具体来说，只需对原来的代码做如下调整："
   ]
  },
  {
   "cell_type": "code",
   "execution_count": null,
   "metadata": {},
   "outputs": [],
   "source": [
    "url = 'https://so.eastmoney.com/news/s?keyword=' + company\n",
    "browser.get(url)"
   ]
  },
  {
   "cell_type": "markdown",
   "metadata": {},
   "source": [
    "再补上异常处理模块，完整代码如下："
   ]
  },
  {
   "cell_type": "code",
   "execution_count": 6,
   "metadata": {},
   "outputs": [
    {
     "name": "stdout",
     "output_type": "stream",
     "text": [
      "1.超55亿元大手笔分红 对股东格外大方的格力电器员工待遇如何？ - 2022-02-15\n",
      "\"http://finance.eastmoney.com/a/202202152276561336.html\" target=\"_blank\"\n",
      "2.格力电器拟派现超55亿 - 2022-02-15\n",
      "\"http://finance.eastmoney.com/a/202202152276065376.html\" target=\"_blank\"\n",
      "3.董小姐发红包 格力电器阔绰派发55亿元 - 2022-02-15\n",
      "\"http://finance.eastmoney.com/a/202202152276062656.html\" target=\"_blank\"\n",
      "4.派发2021年中期现金红包 格力电器一年两分或成常态 - 2022-02-15\n",
      "\"http://finance.eastmoney.com/a/202202152276062314.html\" target=\"_blank\"\n",
      "5.格力电器公布高分红预案 拟派现金股利超55亿元 - 2022-02-15\n",
      "\"http://finance.eastmoney.com/a/202202152276055789.html\" target=\"_blank\"\n",
      "6.新一轮董事会换届前夕 格力电器再派中期“现金红包” “一年两分”或成常态？ - 2022-02-14\n",
      "\"http://finance.eastmoney.com/a/202202142275998128.html\" target=\"_blank\"\n",
      "7.格力情人节前夜发55亿大红包！董明珠连任“板上钉钉”？ - 2022-02-14\n",
      "\"http://finance.eastmoney.com/a/202202142275985231.html\" target=\"_blank\"\n",
      "8.屡次分红股价疲软 董事会换届前格力再发55亿分红大礼包 - 2022-02-14\n",
      "\"http://finance.eastmoney.com/a/202202142275857441.html\" target=\"_blank\"\n",
      "9.格力电器拟分红超55亿元 占当期净利润70% - 2022-02-14\n",
      "\"http://finance.eastmoney.com/a/202202142275677337.html\" target=\"_blank\"\n",
      "10.董小姐情人节大派55亿红包 为连任做铺垫？机构反下调格力电器盈利预期 - 2022-02-14\n",
      "\"http://finance.eastmoney.com/a/202202142275521348.html\" target=\"_blank\"\n",
      "格力电器:该公司东方财富网爬取成功\n",
      "1.支付宝2亿元成立新公司！法定代表人有来头：曾写出支付宝第一行代码 - 2022-02-15\n",
      "\"http://finance.eastmoney.com/a/202202152276970062.html\" target=\"_blank\"\n",
      "2.高瓴最新美股持仓曝光：清仓阿里和B站 理想首次跻身十大持仓 - 2022-02-15\n",
      "\"http://finance.eastmoney.com/a/202202152276770774.html\" target=\"_blank\"\n",
      "3.桥水Q4持仓：大幅增持阿里、京东、拼多多 清仓亚马逊和奈飞 - 2022-02-15\n",
      "\"http://finance.eastmoney.com/a/202202152276059243.html\" target=\"_blank\"\n",
      "4.饿了么：将预估送达时间由“时间点”调整为“时间段” 禁止诱导或强迫骑士转为个体工商户 - 2022-02-14\n",
      "\"http://finance.eastmoney.com/a/202202142275855343.html\" target=\"_blank\"\n",
      "5.一年1877位骑士晋升为站长队长 饿了么发布《蓝骑士发展与保障报告》 - 2022-02-14\n",
      "\"http://finance.eastmoney.com/a/202202142275797815.html\" target=\"_blank\"\n",
      "6.抄底大军撑不住了？这只“国民基金”在支付宝周销售榜上“消失”了 - 2022-02-14\n",
      "\"http://finance.eastmoney.com/a/202202142275571415.html\" target=\"_blank\"\n",
      "7.说爱不怕迟：情人节 老年人在饿了么预订鲜花比去年涨6倍！ - 2022-02-13\n",
      "\"http://finance.eastmoney.com/a/202202132274897913.html\" target=\"_blank\"\n",
      "8.股民炸锅！千亿顶流私募持仓曝光：疯狂抄底！阿里、京东等在列（名单） - 2022-02-12\n",
      "\"http://finance.eastmoney.com/a/202202122274701324.html\" target=\"_blank\"\n",
      "9.阿里巴巴国际站总裁张阔：跨境电商合规化是整个行业大势所趋 - 2022-02-11\n",
      "\"http://finance.eastmoney.com/a/202202112274118697.html\" target=\"_blank\"\n",
      "10.阿里新注册超1200亿美元市值ADS是“憋大招”？ 软银否认减持后 传阿里此举意在引进“更重磅投资者” - 2022-02-10\n",
      "\"http://finance.eastmoney.com/a/202202102272862634.html\" target=\"_blank\"\n",
      "阿里巴巴:该公司东方财富网爬取成功\n",
      "1.港股14日跌1.41% 收报24556.57点 - 2022-02-15\n",
      "\"http://hk.eastmoney.com/a/202202142276992136.html\" target=\"_blank\"\n",
      "2.办公新趋势？这家巨头率先启动混合办公模式 每周1-2天自选办公地点 - 2022-02-15\n",
      "\"http://finance.eastmoney.com/a/202202152276370175.html\" target=\"_blank\"\n",
      "3.翻倍增持腾讯！这家海外巨头大动作 却在减持A股这些标的 啥情况？ - 2022-02-14\n",
      "\"http://finance.eastmoney.com/a/202202142275984638.html\" target=\"_blank\"\n",
      "4.2只股近一个月首次上榜港股通成交活跃榜 - 2022-02-14\n",
      "\"http://finance.eastmoney.com/a/202202142275979216.html\" target=\"_blank\"\n",
      "5.传媒互联网行业：冬奥会开幕热度持续 关注相关产业链机会 - 2022-02-14\n",
      "\"http://stock.eastmoney.com/a/202202142275974626.html\" target=\"_blank\"\n",
      "6.金龙鱼：公司正在开展中央厨房业务 - 2022-02-14\n",
      "\"http://finance.eastmoney.com/a/202202142275935194.html\" target=\"_blank\"\n",
      "7.中国银河维持传媒互联网行业推荐评级：1月中国手游发行商全球吸金22.6亿元 腾讯游戏收入环比回升 - 2022-02-14\n",
      "\"http://finance.eastmoney.com/a/202202142275878156.html\" target=\"_blank\"\n",
      "8.互联网传媒行业周报：《“十四五”中国电视剧发展规划》印发 冰墩墩官方数字藏品开售 - 2022-02-14\n",
      "\"http://finance.eastmoney.com/a/202202142275620925.html\" target=\"_blank\"\n",
      "9.跌出了机会？这一火爆题材开年就跌16% 新基金却大手笔抄底逾3亿 上市就迎开门红 - 2022-02-14\n",
      "\"http://fund.eastmoney.com/a/202202142275605317.html\" target=\"_blank\"\n",
      "10.抗跌靠什么？这三类基金须了解！逆市飘红 更有净值屡创新高 且看它们的操作策略 - 2022-02-14\n",
      "\"http://finance.eastmoney.com/a/202202142274982297.html\" target=\"_blank\"\n",
      "腾讯:该公司东方财富网爬取成功\n",
      "1.桥水Q4持仓：大幅增持阿里、京东、拼多多 清仓亚马逊和奈飞 - 2022-02-15\n",
      "\"http://finance.eastmoney.com/a/202202152276059243.html\" target=\"_blank\"\n",
      "2.腾讯京东联想同时退出小熊U租关联公司股东 - 2022-02-14\n",
      "\"http://finance.eastmoney.com/a/202202142275671590.html\" target=\"_blank\"\n",
      "3.股民炸锅！千亿顶流私募持仓曝光：疯狂抄底！阿里、京东等在列（名单） - 2022-02-12\n",
      "\"http://finance.eastmoney.com/a/202202122274701324.html\" target=\"_blank\"\n",
      "4.京东央视春晚红包互动成绩单：15亿元红包累计互动691亿次 - 2022-02-11\n",
      "\"http://finance.eastmoney.com/a/202202112274313032.html\" target=\"_blank\"\n",
      "5.京东增持中国物流资产股份比例至65.67% - 2022-02-11\n",
      "\"http://finance.eastmoney.com/a/202202112274293039.html\" target=\"_blank\"\n",
      "6.发生了什么？中概股突然暴涨：拼多多狂涨13% 阿里暴涨1500亿！ - 2022-02-09\n",
      "\"http://finance.eastmoney.com/a/202202092270386116.html\" target=\"_blank\"\n",
      "7.刘强东拟捐赠价值150亿股票做慈善 京东科技上月已重启IPO - 2022-02-07\n",
      "\"http://finance.eastmoney.com/a/202202072268574572.html\" target=\"_blank\"\n",
      "8.京东到家：异地订单同比增长1.3倍 重庆、北京收件量位居前列 - 2022-02-07\n",
      "\"http://finance.eastmoney.com/a/202202062268003243.html\" target=\"_blank\"\n",
      "9.刘强东捐赠价值近150亿元股票用于慈善 对京东仍有控制权 - 2022-02-04\n",
      "\"http://finance.eastmoney.com/a/202202042267266870.html\" target=\"_blank\"\n",
      "10.刘强东放大招 捐100多亿股票 做这些事！ - 2022-02-03\n",
      "\"http://finance.eastmoney.com/a/202202032267215380.html\" target=\"_blank\"\n",
      "京东:该公司东方财富网爬取成功\n"
     ]
    }
   ],
   "source": [
    "from selenium import webdriver\n",
    "import re\n",
    "edge_options = webdriver.EdgeOptions()\n",
    "edge_options.add_argument('--headless')\n",
    "browser = webdriver.Edge(options=edge_options)\n",
    "def dongfang(company):\n",
    "    \n",
    "    url = 'https://so.eastmoney.com/news/s?keyword=' + company\n",
    "    browser.get(url)\n",
    "    data = browser.page_source\n",
    "    p_title = '<div class=\"news_item_t\"><a href=.*?>(.*?)</a>'\n",
    "    p_href = '<div class=\"news_item_t\"><a href=(.*?)>.*?</a>'\n",
    "    p_date = '<span class=\"news_item_time\">(.*?)</span>'\n",
    "    title = re.findall(p_title, data)\n",
    "    href = re.findall(p_href, data)\n",
    "    date = re.findall(p_date, data, re.S)\n",
    "    for i in range(len(title)):\n",
    "        title[i] = re.sub('<.*?>', '', title[i])\n",
    "        date[i] = date[i].split(' ')[0]\n",
    "        print(str(i+1) + '.' + title[i] + ' - ' + date[i])\n",
    "        print(href[i])\n",
    "\n",
    "companies = ['格力电器', '阿里巴巴', '腾讯', '京东']\n",
    "for i in companies:\n",
    "    try:\n",
    "        dongfang(i)\n",
    "        print(i + ':该公司东方财富网爬取成功')\n",
    "    except:\n",
    "        print(i + ':该公司东方财富网爬取失败')\n"
   ]
  },
  {
   "cell_type": "markdown",
   "metadata": {},
   "source": [
    "### 4.3.3 上市公司研报PDF文件下载"
   ]
  },
  {
   "cell_type": "markdown",
   "metadata": {},
   "source": [
    "在东方财富网首页的搜索框中输入“格力电器”，在搜索结果中选择“研报”频道，即可看到格力电器相关的研报，搜索结果页面的网址为https://so.eastmoney.com/Yanbao/s?keyword=格力电器。\n",
    "<br>\n",
    "单击第1个研报的链接，打开其详情页面，可以看到页面中并没有直接显示研报内容，而是需要单击“【点击查看PDF原文】”链接来查看PDF文件，如下图所示。\n",
    "<br>\n",
    "然后跳转到如下图所示的页面，地址栏中扩展名为“.pdf”的网址就是PDF文件的网址，可按3.7节讲解的方法下载。如果想实现批量下载，就要获取各个研报的PDF文件网址。"
   ]
  },
  {
   "cell_type": "markdown",
   "metadata": {},
   "source": [
    "4.3.3.1 下载单个页面的PDF文件"
   ]
  },
  {
   "cell_type": "markdown",
   "metadata": {},
   "source": [
    "先从搜索结果中单个页面上的所有研报PDF文件下载入手，主要分为两步：\n",
    "❶爬取搜索结果中单个页面上的研报详情页面网址；\n",
    "❷爬取各个研报详情页面中的PDF文件网址并批量进行下载。   \n",
    "（1）获取单个页面上的研报详情页面网址\n",
    "首先导入相关库，代码如下：   \n",
    "然后通过如下代码访问“格力电器”研报的搜索结果页面：   \n",
    "用开发者工具观察会发现每个研报的信息都在class属性为“list-item”的\\<div\\>标签里，如下图所示，在编写正则表达式时可以用它来进行定位。   \n",
    "打印输出获取的网页源代码data，观察其规律，如下图所示。可以看到网页源代码之间没有换行，这一点与用开发者工具看到的不同，因此，以Python获取的网页源代码为准来编写正则表达式。   \n",
    "包含研报详情页面网址的网页源代码有如下规律：   \n",
    "```<div class=\"list-item\">公司名称和一些网页标签<a href=\"网址\"```    \n",
    "因此，可以通过如下代码提取研报详情页面的网址：   \n",
    "打印输出列表href。   \n",
    "正则表达式的编写其实比较灵活。本案例也可以用如下所示的正则表达式提取研报详情页面的网址：\n"
   ]
  },
  {
   "cell_type": "code",
   "execution_count": null,
   "metadata": {},
   "outputs": [],
   "source": [
    "from selenium import webdriver\n",
    "import re\n",
    "import requests\n",
    "browser = webdriver.Edge()\n",
    "url = 'https://so.eastmoney.com/Yanbao/s?keyword=格力电器'\n",
    "browser.get(url)\n",
    "data = browser.page_source\n",
    "print(data)\n",
    "p_href = '<span class=\"notice_item_t_label\">.*?<a href=\"(.*?)\"'\n",
    "href = re.findall(p_href, data)\n",
    "print(href)\n",
    "browser.quit()"
   ]
  },
  {
   "cell_type": "markdown",
   "metadata": {},
   "source": [
    "获取各个研报详情页面中的PDF文件网址并进行下载"
   ]
  },
  {
   "cell_type": "markdown",
   "metadata": {},
   "source": [
    "用开发者工具可以发现，研报详情页面中“【点击查看PDF原文】”链接对应的网页源代码里就含有PDF文件的网址，如下图所示。因此，获取到各个研报详情页面的网址后，就可以通过Selenium库访问详情页面，从中提取PDF文件的网址，再用Requests库批量下载。\n",
    "首先在研报详情页面的网页源代码中寻找研报标题和PDF文件网址的正则表达式规律，如下所示：   \n",
    "```<h1>研报标题</h1>```   \n",
    "```<a class=\"rightlab\" href=\"PDF文件网址\">【点击查看PDF原文】</a>```   \n",
    "由此可以编写出提取研报标题和PDF文件网址的正则表达式\n",
    "提取到PDF文件亡之后，就可以进行批量下载了，核心代码如下："
   ]
  },
  {
   "cell_type": "code",
   "execution_count": null,
   "metadata": {},
   "outputs": [],
   "source": [
    "from selenium import webdriver\n",
    "import re\n",
    "browser = webdriver.Edge()\n",
    "url = 'https://so.eastmoney.com/Yanbao/s?keyword=格力电器'\n",
    "browser.get(url)\n",
    "data = browser.page_source\n",
    "p_href = '<span class=\"notice_item_t_label\">.*?<a href=\"(.*?)\"'\n",
    "href = re.findall(p_href, data)\n",
    "browser.quit()\n",
    "for i in range(len(href)):\n",
    "    # 1.访问详情页面并获取网页源代码\n",
    "    browser = webdriver.Edge()\n",
    "    browser.get(href[i])\n",
    "    data = browser.page_source\n",
    "    browser.quit()\n",
    "\n",
    "    # 2.提取详情页面中的研报标题和PDF文件网址\n",
    "    p_name = '<h1>(.*?)</h1>'\n",
    "    p_href_pdf='<a style.*?\"href=\"(.*?)\".*?\"查看PDF原文\"</a>'\n",
    "    name = re.findall(p_name, data)\n",
    "    href_pdf = re.findall(p_href_pdf, data)\n",
    "    print(name)\n",
    "    print(href_pdf)\n",
    "\n",
    "    # 3.下载PDF文件\n",
    "    res = requests.get(href_pdf[0])\n",
    "    path = 'pdf\\\\' + name[0] + '.pdf'\n",
    "    file = open(path, 'wb')\n",
    "    file.write(res.content)\n",
    "    file.close()"
   ]
  },
  {
   "cell_type": "markdown",
   "metadata": {},
   "source": [
    "4.3.3.2 下载多个页面上的PDF文件"
   ]
  },
  {
   "cell_type": "markdown",
   "metadata": {},
   "source": [
    "前面实现了下载搜索结果中单个页面上的PDF文件，如果要下载搜索结果中多个页面上的PDF文件，则需要先获取这些页面的网页源代码。常规思路是模拟单击页面上的“下一页”按钮访问不同的页面，获取网页源代码后用字符串拼接的方式进行汇总（参见4.4.2节）。不过本案例有一个讨巧的解决办法，通过翻页并观察网址的变化，可以总结出不同页面的网址规律如下：\n",
    "https://so.eastmoney.com/Yanbao/s?keyword=格力电器&pageindex=页码\n",
    "因此，我们可以通过构造pageindex参数来访问不同的页面，然后用字符串拼接的方式汇总网页源代码。核心代码如下："
   ]
  },
  {
   "cell_type": "code",
   "execution_count": null,
   "metadata": {},
   "outputs": [],
   "source": [
    "browser = webdriver.Edge()\n",
    "\n",
    "data_all = ''\n",
    "for i in range(10):\n",
    "    url = 'http://so.eastmoney.com/Yanbao/s?keyword=格力电器&pageindex=' + str( i + 1)\n",
    "    browser.get(url)\n",
    "    data = browser.page_source\n",
    "    data_all = data_all + data"
   ]
  },
  {
   "cell_type": "markdown",
   "metadata": {},
   "source": [
    "## 4.4 上海证券交易所问询函信息爬取及PDF文件下载"
   ]
  }
 ],
 "metadata": {
  "interpreter": {
   "hash": "4b2b555b887dd72101f83f49af7cb7270cb9cb2c239f001746da5ffd3b5e6d44"
  },
  "kernelspec": {
   "display_name": "Python 3.10.1 64-bit",
   "language": "python",
   "name": "python3"
  },
  "language_info": {
   "codemirror_mode": {
    "name": "ipython",
    "version": 3
   },
   "file_extension": ".py",
   "mimetype": "text/x-python",
   "name": "python",
   "nbconvert_exporter": "python",
   "pygments_lexer": "ipython3",
   "version": "3.10.1"
  },
  "orig_nbformat": 4
 },
 "nbformat": 4,
 "nbformat_minor": 2
}
