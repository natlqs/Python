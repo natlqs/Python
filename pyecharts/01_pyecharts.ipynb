{
 "cells": [
  {
   "cell_type": "markdown",
   "metadata": {},
   "source": [
    "# pyecharts"
   ]
  },
  {
   "cell_type": "markdown",
   "metadata": {},
   "source": [
    "## 概览及5分钟上手"
   ]
  },
  {
   "cell_type": "markdown",
   "metadata": {},
   "source": [
    "#### 查看版本"
   ]
  },
  {
   "cell_type": "code",
   "execution_count": 1,
   "metadata": {},
   "outputs": [
    {
     "name": "stdout",
     "output_type": "stream",
     "text": [
      "1.9.1\n"
     ]
    }
   ],
   "source": [
    "import pyecharts\n",
    "print(pyecharts.__version__)\n"
   ]
  },
  {
   "cell_type": "markdown",
   "metadata": {},
   "source": [
    "### 5分钟上手\n",
    "#### 第一个图表"
   ]
  },
  {
   "cell_type": "code",
   "execution_count": 2,
   "metadata": {},
   "outputs": [
    {
     "data": {
      "text/plain": [
       "'c:\\\\01_Data\\\\CODE\\\\Python\\\\pyecharts\\\\render.html'"
      ]
     },
     "execution_count": 2,
     "metadata": {},
     "output_type": "execute_result"
    }
   ],
   "source": [
    "from pyecharts.charts import Bar\n",
    "bar = Bar()\n",
    "bar.add_xaxis(['衬衫', '羊毛衫', '雪纺衫', '裤子', '高跟鞋', '袜子'])\n",
    "bar.add_yaxis('商家A', [5, 20, 36, 10, 75, 100])\n",
    "bar.render()"
   ]
  },
  {
   "cell_type": "markdown",
   "metadata": {},
   "source": [
    "#### pyecharts 所有方法均支持链式调用"
   ]
  },
  {
   "cell_type": "code",
   "execution_count": 3,
   "metadata": {},
   "outputs": [
    {
     "data": {
      "text/plain": [
       "'c:\\\\01_Data\\\\CODE\\\\Python\\\\pyecharts\\\\render.html'"
      ]
     },
     "execution_count": 3,
     "metadata": {},
     "output_type": "execute_result"
    }
   ],
   "source": [
    "from pyecharts.charts import Bar\n",
    "bar = (\n",
    "    Bar()\n",
    "    .add_xaxis(['衬衫', '羊毛衫', '雪纺衫', '裤子', '高跟鞋', '袜子'])\n",
    "    .add_yaxis('商家A', [5, 20, 36, 10, 75, 100])\n",
    ")"
   ]
  },
  {
   "cell_type": "markdown",
   "metadata": {},
   "source": [
    "#### 使用options配置项，一切皆options"
   ]
  },
  {
   "cell_type": "code",
   "execution_count": 4,
   "metadata": {},
   "outputs": [
    {
     "data": {
      "text/plain": [
       "'c:\\\\01_Data\\\\CODE\\\\Python\\\\pyecharts\\\\render.html'"
      ]
     },
     "execution_count": 4,
     "metadata": {},
     "output_type": "execute_result"
    }
   ],
   "source": [
    "from pyecharts.charts import Bar\n",
    "from pyecharts import options as opts\n",
    "bar = (\n",
    "    Bar()\n",
    "    .add_xaxis(['衬衫', '羊毛衫', '雪纺衫', '裤子', '高跟鞋', '袜子'])\n",
    "    .add_yaxis('商家A', [5, 20, 36, 10, 75, 100])\n",
    "    .set_global_opts(title_opts=opts.TitleOpts(title='主标题', subtitle='副标题'))\n",
    "    # 或者直接使用字典参数\n",
    "    # .set_global_opts(title_opts={'text':'主标题', 'subtex':'副标题'})\n",
    ")\n",
    "bar.render()"
   ]
  },
  {
   "cell_type": "code",
   "execution_count": 9,
   "metadata": {},
   "outputs": [
    {
     "data": {
      "text/plain": [
       "'c:\\\\01_Data\\\\CODE\\\\Python\\\\pyecharts\\\\render.html'"
      ]
     },
     "execution_count": 9,
     "metadata": {},
     "output_type": "execute_result"
    }
   ],
   "source": [
    "from pyecharts.charts import Bar\n",
    "from pyecharts import options as opts\n",
    "from pyecharts.globals import ThemeType\n",
    "\n",
    "bar = (\n",
    "    Bar(init_opts=opts.InitOpts(theme=ThemeType.LIGHT))\n",
    "    .add_xaxis(['衬衫', '羊毛衫', '雪纺衫', '裤子', '高跟鞋', '袜子'])\n",
    "    .add_yaxis('商家A', [5, 20, 36, 10, 75, 100])\n",
    "    .add_yaxis('商家B', [15, 6, 45, 20, 35, 66])\n",
    "    .set_global_opts(title_opts=opts.TitleOpts(title='主标题', subtitle='副标题'))\n",
    "    # 或者直接使用字典参数\n",
    "    # .set_global_opts(title_opts={'text':'主标题', 'subtex':'副标题'})\n",
    ")\n",
    "bar.render()"
   ]
  }
 ],
 "metadata": {
  "interpreter": {
   "hash": "675868e700a09232ff5f9656c2a8569beabdbea23de5bdd2dccbb6bda2f05741"
  },
  "kernelspec": {
   "display_name": "Python 3.9.12 64-bit (windows store)",
   "language": "python",
   "name": "python3"
  },
  "language_info": {
   "codemirror_mode": {
    "name": "ipython",
    "version": 3
   },
   "file_extension": ".py",
   "mimetype": "text/x-python",
   "name": "python",
   "nbconvert_exporter": "python",
   "pygments_lexer": "ipython3",
   "version": "3.9.12"
  },
  "orig_nbformat": 4
 },
 "nbformat": 4,
 "nbformat_minor": 2
}
