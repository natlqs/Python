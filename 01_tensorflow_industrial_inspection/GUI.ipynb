{
 "cells": [
  {
   "cell_type": "code",
   "execution_count": 145,
   "metadata": {},
   "outputs": [],
   "source": [
    "import tkinter as tk\n",
    "from tkinter import filedialog, scrolledtext\n",
    "from PIL import ImageTk, Image"
   ]
  },
  {
   "cell_type": "code",
   "execution_count": null,
   "metadata": {},
   "outputs": [],
   "source": []
  },
  {
   "attachments": {},
   "cell_type": "markdown",
   "metadata": {},
   "source": [
    "### 创建主窗体"
   ]
  },
  {
   "cell_type": "code",
   "execution_count": 146,
   "metadata": {},
   "outputs": [],
   "source": [
    "GUI = tk.Tk()\n",
    "# GUI.withdraw()\n",
    "# GUI = tk.Toplevel()       # 主窗口\n",
    "GUI.title('AI图片分类')     # 窗口标题\n",
    "GUI.geometry('900x700')     # 主窗口的大小\n",
    "GUI.config(bg='orange')"
   ]
  },
  {
   "attachments": {},
   "cell_type": "markdown",
   "metadata": {},
   "source": [
    "### 创建背景图片"
   ]
  },
  {
   "cell_type": "code",
   "execution_count": 147,
   "metadata": {},
   "outputs": [],
   "source": [
    "\n",
    "# canvas = tk.Canvas(GUI, width=900, height=700, bd=0, highlightthickness=0)\n",
    "# imgpath = \"C:\\\\Users\\\\natlq\\\\Pictures\\\\sunflower.jpg\"\n",
    "# img = Image.open(imgpath)\n",
    "# photo = ImageTk.PhotoImage(img)\n",
    "# canvas.create_image(200, 700, image=photo)\n",
    "# canvas.pack()"
   ]
  },
  {
   "attachments": {},
   "cell_type": "markdown",
   "metadata": {},
   "source": [
    "## 函数"
   ]
  },
  {
   "attachments": {},
   "cell_type": "markdown",
   "metadata": {},
   "source": [
    "### 文件选择及文件夹选择"
   ]
  },
  {
   "cell_type": "code",
   "execution_count": 148,
   "metadata": {},
   "outputs": [],
   "source": [
    "def File_Choose():\n",
    "\n",
    "    filename = filedialog.askopenfilename()\n",
    "    filename = filename.replace('/', '\\\\')\n",
    "    return filename\n",
    "\n",
    "\n",
    "def Folder_Choose():\n",
    "    folder_path = filedialog.askdirectory()\n",
    "    folder_path = folder_path.replace('/', '\\\\')\n",
    "    return(folder_path)"
   ]
  },
  {
   "attachments": {},
   "cell_type": "markdown",
   "metadata": {},
   "source": [
    "### 读写文件"
   ]
  },
  {
   "cell_type": "code",
   "execution_count": 149,
   "metadata": {},
   "outputs": [],
   "source": [
    "def write_file(file_name, content):\n",
    "    with open(file_name, 'w') as f:\n",
    "        f.write(str(content))\n"
   ]
  },
  {
   "cell_type": "code",
   "execution_count": 150,
   "metadata": {},
   "outputs": [],
   "source": [
    "def read_file(file_name):\n",
    "    with open(file_name, 'r') as f:\n",
    "        Box_read = f.read()\n",
    "    return Box_read"
   ]
  },
  {
   "attachments": {},
   "cell_type": "markdown",
   "metadata": {},
   "source": [
    "### 获取选择区域坐标及画框"
   ]
  },
  {
   "cell_type": "code",
   "execution_count": 151,
   "metadata": {},
   "outputs": [],
   "source": [
    "def start_point_get(event):\n",
    "    global start_x, start_y # 声明写入全局变量\n",
    "    # global Canvas_Image_Source, Select_Pic_Region_Win\n",
    "    Canvas_Image_Source.delete(\"rect1\")  # 如果已经有“rect1”标记的图形，则删除\n",
    "    # 在canvas 1上绘制一个矩形(rectangle是矩形的意思)\n",
    "    Canvas_Image_Source.create_rectangle(event.x,\n",
    "                             event.y,\n",
    "                             event.x + 1,\n",
    "                             event.y + 1,\n",
    "                             outline=\"green\",\n",
    "                             width=5,\n",
    "                             tag=\"rect1\")\n",
    "    # 在全局变量中存储坐标\n",
    "    start_x, start_y = event.x, event.y\n",
    "\n",
    "# 拖动中的事件- - - - - - - - - - - - - - - - - - - - - - - - - - -\n",
    "def rect_drawing(event):\n",
    "    # 拖动中的鼠标指针出现在区域外时的处理\n",
    "    if event.x < 0:\n",
    "        end_x = 0\n",
    "    else:\n",
    "        end_x = min(img_open.width, event.x)\n",
    "    if event.y < 0:\n",
    "        end_y = 0\n",
    "    else:\n",
    "        end_y = min(img_open.height, event.y)\n",
    "    # 重新绘制“rect1”标签的图像\n",
    "    Canvas_Image_Source.coords(\"rect1\", start_x, start_y, end_x, end_y)\n",
    "\n",
    "# 释放拖动时的事件- - - - - - - - - - - - - - - - - - - - - - - -\n",
    "def release_action(event):\n",
    "    global  canvas2_size, Box\n",
    "    canvas2_size = (400, 300)\n",
    "    Img_Selected_Source =Image.open(Image_Source[0])\n",
    "\n",
    "\n",
    "    # 将“rect1”标签的图像坐标恢复到原来的比例尺并获取\n",
    "    start_x, start_y, end_x, end_y = [\n",
    "        round(n) for n in Canvas_Image_Source.coords(\"rect1\")\n",
    "    ]\n",
    "    ratio_canvas1 = img_ratio(Img_Selected_Source, canvas1_size)\n",
    "\n",
    "\n",
    "    # 将所选区域恢复到实际图片尺寸\n",
    "    Box = (start_x*ratio_canvas1, start_y*ratio_canvas1, end_x*ratio_canvas1, end_y*ratio_canvas1)\n",
    "    Stringvar_Selected_Rectangle_Region.set(str(Box))\n",
    "\n",
    "\n",
    "    # 将所选的区域显示出来\n",
    "    Croped_Selected_Img = Img_Selected_Source.crop(Box)     # 截取Box为左上角和右下角点的方框\n",
    "    ratio_canvas2 = img_ratio(Croped_Selected_Img, canvas2_size)    # 计算将图片缩放到canvas2的比率\n",
    "    Croped_Selected_Img_size_width, Croped_Selected_Img_size_height = Croped_Selected_Img.size      # 获取截取到的图片的宽度和高度\n",
    "    Canvas2_Croped_Selected_Img = Croped_Selected_Img.resize((int(Croped_Selected_Img_size_width/ratio_canvas2),    # resize 按照canvas2的尺寸\n",
    "                                                              int(Croped_Selected_Img_size_height/ratio_canvas2)))   \n",
    "    Opened_Canvas_Croped_Selected_Img = ImageTk.PhotoImage(Canvas2_Croped_Selected_Img)     # 打开图片\n",
    "    Canvas_Image_Selected_Region= tk.Canvas(Select_Pic_Region_Win, bg = 'gray')\n",
    "    Canvas_Image_Selected_Region.place(x=canvas1_size[0]+2, y=0,width = canvas2_size[0], height = canvas2_size[1])\n",
    "    Canvas_Image_Selected_Region.create_image(0, 0, image=Opened_Canvas_Croped_Selected_Img, anchor=tk.NW)  # 显示到canvas2上\n",
    "    Canvas_Image_Selected_Region.image = Opened_Canvas_Croped_Selected_Img\n",
    "\n",
    "\n",
    "# 保存选择的区域到文件\n",
    "def Save_Region_to_File(folderpath):\n",
    "    global Box\n",
    "    file_path_selected_folder = folderpath\n",
    "    filesavename = file_path_selected_folder.split('\\\\')\n",
    "    write_file(filesavename[-1]+'.txt', Box)"
   ]
  },
  {
   "attachments": {},
   "cell_type": "markdown",
   "metadata": {},
   "source": [
    "### 训练模型"
   ]
  },
  {
   "cell_type": "code",
   "execution_count": 152,
   "metadata": {},
   "outputs": [],
   "source": [
    "import matplotlib.pyplot as plt\n",
    "import tensorflow as tf\n",
    "import numpy as np\n",
    "from tensorflow import keras as kr\n",
    "from tensorflow.python.keras import layers\n",
    "import keras.backend as KTF\n",
    "from tensorflow.python.keras import Sequential\n",
    "import pathlib"
   ]
  },
  {
   "cell_type": "code",
   "execution_count": 153,
   "metadata": {},
   "outputs": [],
   "source": [
    "def Train_Model():\n",
    "    data_dir= StringVar_Selected_Source_Folder.get()\n",
    "    data_dir = pathlib.Path(data_dir)\n",
    "    image_count = len(list(data_dir.glob('*/*.jpg')))\n",
    "    print(\"图片总数：\",image_count)\n",
    "    Scrolltext_Start_Train_Result.insert('end', '图片总数'+str(image_count) + '\\n') \n",
    "    batch_size = 32\n",
    "    Train_Img_Selected_Source =Image.open(Image_Source[0])\n",
    "    img_height ,img_width = Train_Img_Selected_Source.size\n",
    "\n",
    "    train_ds = tf.keras.utils.image_dataset_from_directory(\n",
    "        data_dir,\n",
    "        validation_split=0.2,\n",
    "        subset=\"training\",\n",
    "        seed=123,\n",
    "        image_size=(img_height, img_width),\n",
    "        batch_size=batch_size)\n",
    "\n",
    "\n",
    "    val_ds = tf.keras.utils.image_dataset_from_directory(\n",
    "        data_dir,\n",
    "        validation_split=0.2,\n",
    "        subset=\"validation\",\n",
    "        seed=123,\n",
    "        image_size=(img_height, img_width),\n",
    "        batch_size=batch_size)\n",
    "\n",
    "    global class_names\n",
    "    class_names = train_ds.class_names\n",
    "    print(\"一共有以下几种分类：\", class_names)\n",
    "    Scrolltext_Start_Train_Result.insert('end', '一共有以下几种分类：'+str(class_names) + '\\n') \n",
    "\n",
    "\n",
    "    # plt.figure(figsize=(10, 10))\n",
    "    # for images, labels in train_ds.take(1):\n",
    "    #     for i in range(9):\n",
    "    #         ax = plt.subplot(3, 3, i + 1)\n",
    "    #         plt.imshow(images[i].numpy().astype(\"uint8\"))\n",
    "    #         plt.title(class_names[labels[i]])\n",
    "    #         plt.axis(\"off\")\n",
    "\n",
    "\n",
    "    for image_batch, labels_batch in train_ds:\n",
    "        print(image_batch.shape)\n",
    "        print(labels_batch.shape)\n",
    "        break\n",
    "    Scrolltext_Start_Train_Result.see('end')\n",
    "\n",
    "    AUTOTUNE = tf.data.AUTOTUNE\n",
    "    train_ds  = train_ds.cache().shuffle(1000).prefetch(buffer_size = AUTOTUNE)\n",
    "    val_ds = val_ds.cache().prefetch(buffer_size=AUTOTUNE)\n",
    "    normalization_layer = tf.keras.layers.Rescaling(1./255)\n",
    "\n",
    "    normalized_ds = train_ds.map(lambda x, y: (normalization_layer(x), y))\n",
    "    image_batch, labels_batch = next(iter(normalized_ds))\n",
    "    first_image = image_batch[0]\n",
    "    print(np.min(first_image), np.max(first_image))\n",
    "\n",
    "    num_classes = len(class_names)\n",
    "\n",
    "    # model = Sequential([\n",
    "    #     tf.keras.layers.Rescaling(1./255, input_shape = (img_height, img_width, 3)),\n",
    "    #     layers.Conv2D(16, 3, padding='same', activation = 'relu'),\n",
    "    #     layers.MaxPooling2D(),\n",
    "    #     layers.Conv2D(32, 3, padding='same', activation='relu'),\n",
    "    #     layers.MaxPooling2D(),\n",
    "    #     layers.Conv2D(64, 3, padding='same', activation='relu'),\n",
    "    #     layers.MaxPooling2D(),\n",
    "    #     layers.Flatten(),\n",
    "    #     layers.Dense(128, activation='relu'),\n",
    "    #     layers.Dense(num_classes)\n",
    "    # ]) \n",
    "\n",
    "    data_augmentation = Sequential(\n",
    "        [\n",
    "        # tf.keras.layers.RandomFlip(\"horizontal\",\n",
    "                                #    input_shape=(img_height,\n",
    "                                                # img_width,\n",
    "                                                # 3)),\n",
    "        # tf.keras.layers.RandomRotation(0.1),\n",
    "        # tf.keras.layers.RandomZoom(height_factor=(-0.7, -0.7))\n",
    "        # tf.keras.layers.Cropping2D(cropping=((138, (1600-418)),(127, (1200-383))))\n",
    "        # tf.keras.layers.Cropping2D(cropping=((492, (1600-777)),(372, (1000-711))))\n",
    "        tf.keras.layers.Cropping2D(cropping=((444, (1600-792)),(372, (1200-717))))\n",
    "        # tf.keras.layers.Cropping2D(cropping=((int(492/1.6), (int((1600-777)/1.6))),(int(372*1.2), (int((1200-711)*1.2)))))\n",
    "        ]\n",
    "    )\n",
    "\n",
    "    model = Sequential([\n",
    "    data_augmentation,\n",
    "    tf.keras.layers.Rescaling(1./255),\n",
    "    layers.Conv2D(16, 3, padding='same', activation = 'relu'),\n",
    "    layers.MaxPooling2D(),\n",
    "    layers.Conv2D(32, 3, padding='same', activation='relu'),\n",
    "    layers.MaxPooling2D(),\n",
    "    layers.Conv2D(64, 3, padding='same', activation='relu'),\n",
    "    layers.MaxPooling2D(),\n",
    "    layers.Dropout(0.2),\n",
    "    layers.Flatten(),\n",
    "    layers.Dense(128, activation='relu'),\n",
    "    layers.Dense(num_classes, name=\"outputs\")\n",
    "    ])\n",
    "\n",
    "    model.compile(optimizer='adam',\n",
    "              loss=tf.keras.losses.SparseCategoricalCrossentropy(from_logits=True),\n",
    "              metrics=['accuracy'])\n",
    "    \n",
    "    epochs = 5\n",
    "    history = model.fit(\n",
    "        train_ds,\n",
    "        validation_data=val_ds,\n",
    "        epochs=epochs\n",
    "    )\n",
    "\n",
    "    model.summary()\n",
    "\n",
    "\n",
    "    # 保存训练好的模型到文件\n",
    "    converter = tf.lite.TFLiteConverter.from_keras_model(model)\n",
    "    tflite_model = converter.convert()\n",
    "    Model_file_path_selected_folder = StringVar_Selected_Source_Folder.get()\n",
    "    Model_Save_name= Model_file_path_selected_folder.split('\\\\')\n",
    "    Model_Save_name = Model_Save_name[-1] + '.tflite'\n",
    "    with open(Model_Save_name, 'wb') as f:\n",
    "        f.write(tflite_model)\n",
    "    \n",
    "    Scrolltext_Start_Train_Result.insert('end', '模型已训练完成，模型保存在当前程序所在文件夹，文件名：'+ '\\n' +Model_Save_name + '\\n')  \n"
   ]
  },
  {
   "cell_type": "code",
   "execution_count": 154,
   "metadata": {},
   "outputs": [],
   "source": [
    "def Start_Recognition():\n",
    "    TF_Model_File_Path = StringVar_Selected_Model_Name.get()\n",
    "    Target_Folder = StringVar_Selected_Target_Folder.get()\n",
    "    Rectangle_file_name = TF_Model_File_Path.replace('.tflite', '.txt')\n",
    "    Rectangle = read_file(Rectangle_file_name)\n",
    "    print(Rectangle)\n",
    "    start_x, start_y, end_x, end_y= Rectangle\n",
    "    start_x, start_y, end_x, end_y = int(start_x), int(start_y), int(end_x), int(end_y)\n",
    "\n",
    "\n",
    "    classify_lite\n",
    "    Target_DIR = pathlib.Path(Target_Folder)\n",
    "    for i in range(len(list(Target_DIR.glob('*.jpg')))):\n",
    "        image_name= list(Target_DIR.glob('*.jpg'))[i]\n",
    "        Start_Recognition_Selected_Image =Image.open(image_name)\n",
    "        image_arr = np.array(Start_Recognition_Selected_Image)\n",
    "        Cropped_Image = image_arr[start_y:end_y, start_x:end_x]\n",
    "        Cropped_Image_arr = Image.fromarray(Cropped_Image)\n",
    "        img_height ,img_width = Cropped_Image_arr.size\n",
    "        img = tf.keras.utils.array_to_img(Cropped_Image_arr)\n",
    "        img = tf.keras.utils.load_img(img, target_size=(img_height,img_width))\n",
    "        img_array = tf.keras.utils.img_to_array(img)\n",
    "        image_array = np.expand_dims(img_array, axis=0)\n",
    "        predictions_lite = classify_lite(sequential_1_input = image_array)['outputs']\n",
    "        score_lite = tf.nn.softmax(predictions_lite)\n",
    "        result_text =  \"This image most likely belongs to {} with a {:.2f} percent confidence.\".format(class_names[np.argmax(score_lite)], 100* np.max(score_lite))\n",
    "        Scrolltext_Start_Train_Result.insert('end', 'result_text' + '\\n')  "
   ]
  },
  {
   "attachments": {},
   "cell_type": "markdown",
   "metadata": {},
   "source": [
    "### 选择框范围，绑定鼠标事件"
   ]
  },
  {
   "cell_type": "code",
   "execution_count": 155,
   "metadata": {},
   "outputs": [],
   "source": [
    "def Select_Pic_Region_Rectangle(canvas):\n",
    "    canvas.bind(\"<ButtonPress-1>\", start_point_get)\n",
    "    canvas.bind(\"<Button1-Motion>\", rect_drawing)\n",
    "    canvas.bind(\"<ButtonRelease-1>\", release_action)"
   ]
  },
  {
   "attachments": {},
   "cell_type": "markdown",
   "metadata": {},
   "source": [
    "### 计算图片缩放比率"
   ]
  },
  {
   "cell_type": "code",
   "execution_count": 156,
   "metadata": {},
   "outputs": [],
   "source": [
    "def img_ratio(img, canvas_size):\n",
    "    w, h = img.size\n",
    "    w_ratio = w/canvas_size[0]\n",
    "    h_ratio = h/canvas_size[1]\n",
    "    if w_ratio > h_ratio:\n",
    "        ratio = w_ratio\n",
    "    else:\n",
    "        ratio = h_ratio\n",
    "    return ratio"
   ]
  },
  {
   "attachments": {},
   "cell_type": "markdown",
   "metadata": {},
   "source": [
    "### 选择图片"
   ]
  },
  {
   "cell_type": "code",
   "execution_count": 157,
   "metadata": {},
   "outputs": [],
   "source": [
    "def choosepic(image_label):\n",
    "    global img_open, canvas1_size, Image_Source\n",
    "    Image_Source = ['']\n",
    "    path_ = filedialog.askopenfilename()\n",
    "    Image_Source[0] = path_\n",
    "    img_open = Image.open(path_)\n",
    "    w, h = img_open.size\n",
    "    ratio_canvas1 = img_ratio(img_open, canvas1_size)\n",
    "    img_open = img_open.resize((int(w/ratio_canvas1), int(h/ratio_canvas1)))\n",
    "    img = ImageTk.PhotoImage(img_open)\n",
    "    image_label.create_image(0, 0, image=img, anchor=tk.NW)\n",
    "    image_label.image = img"
   ]
  },
  {
   "attachments": {},
   "cell_type": "markdown",
   "metadata": {},
   "source": [
    "### 创建选择图片范围子窗体"
   ]
  },
  {
   "cell_type": "code",
   "execution_count": 158,
   "metadata": {},
   "outputs": [],
   "source": [
    "def Select_Pic_Region():\n",
    "      global canvas1_size , Select_Pic_Region_Win\n",
    "      canvas1_size = (600, 400)\n",
    "      Select_Pic_Region_Win = tk.Toplevel()\n",
    "      Select_Pic_Region_Win.title('选择图片识别区域')\n",
    "      Select_Pic_Region_Win.geometry('1000x600')\n",
    "      Select_Pic_Region_Win.config(bg='orange')\n",
    "      Select_Pic_Region_Win.focus_force()\n",
    "      tk.Button(Select_Pic_Region_Win, text = '打开示例图片',bg='lightyellow', font='黑体 18 bold', command=lambda: choosepic(Canvas_Image_Source)).place(x = 100, y = 430,w = 250, h = 80)\n",
    "      tk.Button(Select_Pic_Region_Win, text = '选择识别区域',bg='lightyellow', font='黑体 18 bold', command=lambda: Select_Pic_Region_Rectangle(Canvas_Image_Source)).place(x = 400, y = 430,w = 250, h = 80)\n",
    "      tk.Button(Select_Pic_Region_Win, text = '保存识别区域',bg='lightyellow', font='黑体 18 bold', command=lambda: Save_Region_to_File(StringVar_Selected_Source_Folder.get())).place(x = 700, y = 430,w = 250, h = 80)\n",
    "      global Canvas_Image_Source\n",
    "      Canvas_Image_Source = tk.Canvas(Select_Pic_Region_Win, bg = 'gray')\n",
    "      Canvas_Image_Source.place(x=0, y=0,width = canvas1_size[0], height = canvas1_size[1])\n"
   ]
  },
  {
   "attachments": {},
   "cell_type": "markdown",
   "metadata": {},
   "source": [
    "#### 创建训练子窗体"
   ]
  },
  {
   "cell_type": "code",
   "execution_count": 159,
   "metadata": {},
   "outputs": [],
   "source": [
    "def Train_Win():\n",
    "      global StringVar_Selected_Source_Folder, Stringvar_Selected_Rectangle_Region,Scrolltext_Start_Train_Result \n",
    "      Train_Win = tk.Toplevel()\n",
    "      Train_Win.title('图片分类训练')\n",
    "      Train_Win.geometry('1000x800')\n",
    "      # Train_Win.attributes(\"-topmost\", True) # 始终在最前面显示tkinter窗口\n",
    "      Train_Win.config(bg='orange')\n",
    "      Train_Win.focus_force()\n",
    "\n",
    "\n",
    "      # 选择源文件夹\n",
    "      StringVar_Selected_Source_Folder = tk.StringVar()\n",
    "      Stringvar_Selected_Rectangle_Region = tk.StringVar()\n",
    "      Frame_Source_Folder_Select = tk.LabelFrame(Train_Win, text='Step1', bg='darkseagreen', padx=10, pady=10)\n",
    "      Frame_Source_Folder_Select.place(x=20, y=15)\n",
    "      tk.Button(Frame_Source_Folder_Select, text=\"请选择源数据文件夹\", font='宋体 18 bold',bg='lightyellow', \n",
    "            command=lambda: StringVar_Selected_Source_Folder.set(Folder_Choose())).pack(side=\"left\", padx=6)\n",
    "      tk.Entry(Frame_Source_Folder_Select, textvariable=StringVar_Selected_Source_Folder, font='宋体 10 bold', width=65\n",
    "                  ).pack(side='left', padx=6)\n",
    "\n",
    "\n",
    "      # 选择识别区域\n",
    "      Frame_Select_Recognize_Region = tk.LabelFrame(Train_Win, text='Step2',bg='darkseagreen',  padx=10, pady=10)\n",
    "      Frame_Select_Recognize_Region.place(x=20, y=100)\n",
    "      tk.Button(Frame_Select_Recognize_Region, text=\"请选择识别区域\", font='宋体 18 bold',bg='lightyellow', \n",
    "            command=Select_Pic_Region).pack(side=\"left\", padx=6)\n",
    "      tk.Entry(Frame_Select_Recognize_Region, textvariable=Stringvar_Selected_Rectangle_Region, font='宋体 10 bold', width=65\n",
    "                        ).pack(side='left', padx=6)\n",
    "\n",
    "      # 开始训练\n",
    "      Frame_Start_Train = tk.LabelFrame(Train_Win, text='Step3',bg='darkseagreen',  padx=10, pady=10)\n",
    "      Frame_Start_Train.place(x=20, y=185)\n",
    "      tk.Button(Frame_Start_Train, text=\"开始训练\", font='宋体 18 bold',bg='lightyellow', \n",
    "            command=Train_Model).pack(side=\"left\", padx=6)\n",
    "      Scrolltext_Start_Train_Result=scrolledtext.ScrolledText(Train_Win,bg='white', font='宋体 18 bold', width=64,height=20, padx=6, pady=6)\n",
    "      Scrolltext_Start_Train_Result.place(x=20, y=285)\n",
    "      Scrolltext_Start_Train_Result.insert('end', '\\n'+ '欢迎使用程序' + '\\n')\n",
    "      Scrolltext_Start_Train_Result.see('end')\n",
    "\n",
    "      # # 保存模型及识别区域\n",
    "      # Frame_Save_Model = tk.LabelFrame(Train_Win, text='Step4',bg='darkseagreen', padx=10, pady=10)\n",
    "      # Frame_Save_Model.place(x=20, y=670)\n",
    "      # tk.Button(Frame_Save_Model, text=\"保存模型及识别区域\", font='宋体 18 bold',bg='lightyellow', \n",
    "      #       ).pack(side=\"left\", padx=6)"
   ]
  },
  {
   "attachments": {},
   "cell_type": "markdown",
   "metadata": {},
   "source": [
    "## 主窗口"
   ]
  },
  {
   "attachments": {},
   "cell_type": "markdown",
   "metadata": {},
   "source": [
    "### Step1："
   ]
  },
  {
   "cell_type": "code",
   "execution_count": 160,
   "metadata": {},
   "outputs": [],
   "source": [
    "Frame_Select_Or_Train_Model = tk.LabelFrame(GUI, text='Step1:', bg='darkseagreen', padx=10, pady=10)\n",
    "Frame_Select_Or_Train_Model.place(x=10, y=15)"
   ]
  },
  {
   "cell_type": "code",
   "execution_count": 161,
   "metadata": {},
   "outputs": [],
   "source": [
    "tk.Label(Frame_Select_Or_Train_Model, text=\"请训练新的模型或直接进入'Step2'选择现有模型:\", font='宋体 18 bold', bg='darkseagreen' \n",
    "          ).pack(side=\"left\", padx=6)\n",
    "tk.Button(Frame_Select_Or_Train_Model, text='训练新的模型', font='宋体 18 bold', bg='lightyellow', \n",
    "          command=lambda: Train_Win()).pack(side='left', padx=6)"
   ]
  },
  {
   "attachments": {},
   "cell_type": "markdown",
   "metadata": {},
   "source": [
    "### Step2:"
   ]
  },
  {
   "cell_type": "code",
   "execution_count": 162,
   "metadata": {},
   "outputs": [],
   "source": [
    "Frame_Display_Selected_Model =tk.LabelFrame(GUI, text='Step2:', bg='darkseagreen', padx=10, pady=10)\n",
    "Frame_Display_Selected_Model.place(x=10, y=100) "
   ]
  },
  {
   "cell_type": "code",
   "execution_count": 163,
   "metadata": {},
   "outputs": [],
   "source": [
    "global StringVar_Selected_Model_Name \n",
    "StringVar_Selected_Model_Name = tk.StringVar()\n",
    "tk.Button(Frame_Display_Selected_Model, text=\"选择现有模型\", font='宋体 18 bold', bg='lightyellow', \n",
    "          command=lambda: StringVar_Selected_Model_Name.set(File_Choose())).pack(side=\"left\", padx=6)\n",
    "tk.Label(Frame_Display_Selected_Model, text=\"选择的模型:\", font='宋体 18 bold', bg='aliceblue', \n",
    "          ).pack(side=\"left\", padx=6)\n",
    "tk.Entry(Frame_Display_Selected_Model, textvariable=StringVar_Selected_Model_Name, font='宋体 10 bold', width=65,\n",
    "         ).pack(side='left', padx=6)"
   ]
  },
  {
   "attachments": {},
   "cell_type": "markdown",
   "metadata": {},
   "source": [
    "### Step3:"
   ]
  },
  {
   "cell_type": "code",
   "execution_count": 164,
   "metadata": {},
   "outputs": [],
   "source": [
    "Frame_Select_Target_Pic_Folder = tk.LabelFrame(GUI, text='Step3:', bg='darkseagreen', padx=10, pady=10)\n",
    "Frame_Select_Target_Pic_Folder.place(x=10, y=185)"
   ]
  },
  {
   "cell_type": "code",
   "execution_count": 165,
   "metadata": {},
   "outputs": [],
   "source": [
    "global StringVar_Selected_Target_Folder\n",
    "StringVar_Selected_Target_Folder = tk.StringVar()\n",
    "tk.Button(Frame_Select_Target_Pic_Folder, text=\"选择待识别图片文件夹\", font='宋体 18 bold', bg='lightyellow', \n",
    "          command=lambda: StringVar_Selected_Target_Folder.set(Folder_Choose())).pack(side=\"left\", padx=6)\n",
    "tk.Label(Frame_Select_Target_Pic_Folder, text=\"选择的文件夹:\", font='宋体 18 bold', bg='aliceblue', \n",
    "          ).pack(side=\"left\", padx=6)\n",
    "tk.Entry(Frame_Select_Target_Pic_Folder, textvariable=StringVar_Selected_Target_Folder, font='宋体 10 bold', width=50\n",
    "                ).pack(side='left', padx=6)"
   ]
  },
  {
   "attachments": {},
   "cell_type": "markdown",
   "metadata": {},
   "source": [
    "### Step4:"
   ]
  },
  {
   "cell_type": "code",
   "execution_count": 166,
   "metadata": {},
   "outputs": [],
   "source": [
    "Frame_Start_Recognize = tk.LabelFrame(GUI, text='Step4:', bg='darkseagreen', padx=10, pady=10)\n",
    "Frame_Start_Recognize.place(x=10, y=270)"
   ]
  },
  {
   "cell_type": "code",
   "execution_count": 167,
   "metadata": {},
   "outputs": [],
   "source": [
    "tk.Button(Frame_Start_Recognize, text=\"开始识别\", font='宋体 18 bold', bg='lightyellow', \n",
    "          command=Start_Recognition).pack(side=\"left\", padx=6)"
   ]
  },
  {
   "attachments": {},
   "cell_type": "markdown",
   "metadata": {},
   "source": [
    "### 程序启动位置"
   ]
  },
  {
   "cell_type": "code",
   "execution_count": 168,
   "metadata": {},
   "outputs": [
    {
     "name": "stdout",
     "output_type": "stream",
     "text": [
      "(381.0, 285.0, 819.0, 720.0)\n"
     ]
    },
    {
     "name": "stderr",
     "output_type": "stream",
     "text": [
      "Exception in Tkinter callback\n",
      "Traceback (most recent call last):\n",
      "  File \"c:\\Users\\natlq\\AppData\\Local\\Programs\\Python\\Python311\\Lib\\tkinter\\__init__.py\", line 1948, in __call__\n",
      "    return self.func(*args)\n",
      "           ^^^^^^^^^^^^^^^^\n",
      "  File \"C:\\Users\\natlq\\AppData\\Local\\Temp\\ipykernel_21040\\2735863820.py\", line 7, in Start_Recognition\n",
      "    start_x, start_y, end_x, end_y= Rectangle\n",
      "    ^^^^^^^^^^^^^^^^^^^^^^^^^^^^^^\n",
      "ValueError: too many values to unpack (expected 4)\n"
     ]
    }
   ],
   "source": [
    "GUI.update()\n",
    "GUI.mainloop()\n"
   ]
  }
 ],
 "metadata": {
  "kernelspec": {
   "display_name": "Python 3",
   "language": "python",
   "name": "python3"
  },
  "language_info": {
   "codemirror_mode": {
    "name": "ipython",
    "version": 3
   },
   "file_extension": ".py",
   "mimetype": "text/x-python",
   "name": "python",
   "nbconvert_exporter": "python",
   "pygments_lexer": "ipython3",
   "version": "3.11.3"
  },
  "orig_nbformat": 4
 },
 "nbformat": 4,
 "nbformat_minor": 2
}
