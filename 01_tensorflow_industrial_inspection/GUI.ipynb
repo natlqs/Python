{
 "cells": [
  {
   "cell_type": "code",
   "execution_count": 153,
   "metadata": {},
   "outputs": [],
   "source": [
    "import tkinter as tk\n",
    "from tkinter import filedialog\n",
    "from tkinter import ttk, scrolledtext\n",
    "from PIL import ImageTk, Image\n",
    "import time\n",
    "import datetime, os"
   ]
  },
  {
   "cell_type": "code",
   "execution_count": 154,
   "metadata": {},
   "outputs": [],
   "source": [
    "Folder = ['']\n",
    "file_path = ['']\n",
    "file_name = ['']\n"
   ]
  },
  {
   "attachments": {},
   "cell_type": "markdown",
   "metadata": {},
   "source": [
    "### 创建主窗体"
   ]
  },
  {
   "cell_type": "code",
   "execution_count": 155,
   "metadata": {},
   "outputs": [],
   "source": [
    "GUI = tk.Tk()\n",
    "# GUI.withdraw()\n",
    "# GUI = tk.Toplevel()       # 主窗口\n",
    "GUI.title('AI图片分类')     # 窗口标题\n",
    "GUI.geometry('900x700')     # 主窗口的大小\n",
    "GUI.config(bg='aliceblue')"
   ]
  },
  {
   "attachments": {},
   "cell_type": "markdown",
   "metadata": {},
   "source": [
    "### 创建背景图片"
   ]
  },
  {
   "cell_type": "code",
   "execution_count": 156,
   "metadata": {},
   "outputs": [],
   "source": [
    "\n",
    "# canvas = tk.Canvas(GUI, width=900, height=700, bd=0, highlightthickness=0)\n",
    "# imgpath = \"C:\\\\Users\\\\natlq\\\\Pictures\\\\sunflower.jpg\"\n",
    "# img = Image.open(imgpath)\n",
    "# photo = ImageTk.PhotoImage(img)\n",
    "# canvas.create_image(200, 700, image=photo)\n",
    "# canvas.pack()"
   ]
  },
  {
   "attachments": {},
   "cell_type": "markdown",
   "metadata": {},
   "source": [
    "### Functions"
   ]
  },
  {
   "cell_type": "code",
   "execution_count": 157,
   "metadata": {},
   "outputs": [],
   "source": [
    "def File_Choose():\n",
    "\n",
    "    filename = filedialog.askopenfilename()\n",
    "    filename = filename.replace('/', '\\\\')\n",
    "    return filename"
   ]
  },
  {
   "cell_type": "code",
   "execution_count": 158,
   "metadata": {},
   "outputs": [],
   "source": [
    "def Folder_Choose():\n",
    "    folder_path = filedialog.askdirectory()\n",
    "    folder_path = folder_path.replace('/', '\\\\')\n",
    "    return(folder_path)"
   ]
  },
  {
   "cell_type": "code",
   "execution_count": 159,
   "metadata": {},
   "outputs": [],
   "source": [
    "def img_ratio(img):\n",
    "    w, h = img.size\n",
    "    w_ratio = w/500\n",
    "    h_ratio = h/400\n",
    "    if w_ratio > h_ratio:\n",
    "        ratio = w_ratio\n",
    "    else:\n",
    "        ratio = h_ratio\n",
    "    return ratio"
   ]
  },
  {
   "cell_type": "code",
   "execution_count": 160,
   "metadata": {},
   "outputs": [],
   "source": [
    "def choosepic(image_lable):\n",
    "    path_ = filedialog.askopenfilename()\n",
    "    img_open = Image.open(path_)\n",
    "    w, h = img_open.size\n",
    "    ratio = img_ratio(img_open)\n",
    "    img_open = img_open.resize((int(w/ratio), int(h/ratio)))\n",
    "    img = ImageTk.PhotoImage(img_open)\n",
    "    image_lable.config(image=img)\n",
    "    image_lable.image = img"
   ]
  },
  {
   "attachments": {},
   "cell_type": "markdown",
   "metadata": {},
   "source": [
    "### 创建选择图片范围子窗体"
   ]
  },
  {
   "cell_type": "code",
   "execution_count": 161,
   "metadata": {},
   "outputs": [],
   "source": [
    "def Select_Pic_Region():\n",
    "      Select_Pic_Region_Win = tk.Toplevel()\n",
    "      Select_Pic_Region_Win.title('选择图片识别区域')\n",
    "      # Select_Pic_Region_Win.attributes(\"-topmost\", True) # 始终在最前面显示tkinter窗口\n",
    "      Select_Pic_Region_Win.geometry('1200x800')\n",
    "      Select_Pic_Region_Win.config(bg='aliceblue')\n",
    "      Select_Pic_Region_Win.focus()\n",
    "      tk.Button(Select_Pic_Region_Win, text = '打开图片', font='黑体 28 bold', command=lambda: choosepic(image_label)).place(x = 100, y = 550,w = 250, h = 80)\n",
    "      tk.Button(Select_Pic_Region_Win, text = '选择区域', font='黑体 28 bold', command=lambda: choosepic(image_label)).place(x = 400, y = 550,w = 250, h = 80)\n",
    "      # file_entry = Entry(select_pic_region, state='readonly', text=path)\n",
    "      # file_entry.pack()\n",
    "      image_label = tk.Label(Select_Pic_Region_Win, bg = 'gray')\n",
    "      image_label.place(x=0, y=0,width = 500, height = 400)\n",
    "      Select_Pic_Region_Win.update()\n"
   ]
  },
  {
   "attachments": {},
   "cell_type": "markdown",
   "metadata": {},
   "source": [
    "#### 创建训练子窗体"
   ]
  },
  {
   "cell_type": "code",
   "execution_count": 162,
   "metadata": {},
   "outputs": [],
   "source": [
    "def Train_Win(_return1):\n",
    "      Train_Win = tk.Toplevel()\n",
    "      Train_Win.title('图片分类学习')\n",
    "      Train_Win.geometry('900x700')\n",
    "      # Train_Win.attributes(\"-topmost\", True) # 始终在最前面显示tkinter窗口\n",
    "      Train_Win.config(bg='aliceblue')\n",
    "      Source_Folder = tk.LabelFrame(Train_Win, text='', padx=10, pady=10)\n",
    "      Source_Folder.place(x=20, y=15)\n",
    "      tk.Button(Source_Folder, text=\"选择源数据文件夹\", font='宋体 28 bold',\n",
    "            command=lambda: Folder_Choose(_return1)).pack(side=\"left\", padx=6)\n",
    "      tk.Button(Source_Folder, text=\"选择识别区域\", font='宋体 28 bold',\n",
    "            command=Select_Pic_Region).pack(side=\"left\", padx=6)\n",
    "      Start_Train = tk.LabelFrame(Train_Win, text='', padx=10, pady=10)\n",
    "      Start_Train.place(x=20, y=115)\n",
    "      tk.Button(Start_Train, text=\"开始训练\", font='宋体 28 bold',\n",
    "            ).pack(side=\"left\", padx=6)\n",
    "      Save_Model = tk.LabelFrame(Train_Win, text='', padx=10, pady=10)\n",
    "      Save_Model.place(x=20, y=215)\n",
    "      tk.Button(Save_Model, text=\"保存模型及识别区域\", font='宋体 28 bold',\n",
    "            ).pack(side=\"left\", padx=6)"
   ]
  },
  {
   "attachments": {},
   "cell_type": "markdown",
   "metadata": {},
   "source": [
    "### Step1："
   ]
  },
  {
   "cell_type": "code",
   "execution_count": 163,
   "metadata": {},
   "outputs": [],
   "source": [
    "Frame_Select_Or_Train_Model = tk.LabelFrame(GUI, text='Step1:', bg='skyblue', padx=10, pady=10)\n",
    "Frame_Select_Or_Train_Model.place(x=10, y=15)"
   ]
  },
  {
   "cell_type": "code",
   "execution_count": 164,
   "metadata": {},
   "outputs": [],
   "source": [
    "tk.Label(Frame_Select_Or_Train_Model, text=\"请训练新的模型或直接进入'Step2'选择现有模型:\", font='宋体 18 bold', bg='aliceblue' \n",
    "          ).pack(side=\"left\", padx=6)\n",
    "tk.Button(Frame_Select_Or_Train_Model, text='训练新的模型', font='宋体 18 bold', bg='lightyellow', \n",
    "          command=lambda: Train_Win(file_path)).pack(side='left', padx=6)"
   ]
  },
  {
   "attachments": {},
   "cell_type": "markdown",
   "metadata": {},
   "source": [
    "### Step2:"
   ]
  },
  {
   "cell_type": "code",
   "execution_count": 165,
   "metadata": {},
   "outputs": [],
   "source": [
    "Frame_Display_Selected_Model =tk.LabelFrame(GUI, text='Step2:', bg='skyblue', padx=10, pady=10)\n",
    "Frame_Display_Selected_Model.place(x=10, y=100) "
   ]
  },
  {
   "cell_type": "code",
   "execution_count": 166,
   "metadata": {},
   "outputs": [],
   "source": [
    "StringVar_Selected_Model_Name = tk.StringVar()\n",
    "tk.Button(Frame_Display_Selected_Model, text=\"选择现有模型\", font='宋体 18 bold', bg='lightyellow', \n",
    "          command=lambda: StringVar_Selected_Model_Name.set(File_Choose())).pack(side=\"left\", padx=6)\n",
    "tk.Label(Frame_Display_Selected_Model, text=\"选择的模型:\", font='宋体 18 bold', bg='aliceblue', \n",
    "          ).pack(side=\"left\", padx=6)\n",
    "tk.Entry(Frame_Display_Selected_Model, textvariable=StringVar_Selected_Model_Name, font='宋体 10 bold', width=65,\n",
    "         ).pack(side='left', padx=6)"
   ]
  },
  {
   "attachments": {},
   "cell_type": "markdown",
   "metadata": {},
   "source": [
    "### Step3:"
   ]
  },
  {
   "cell_type": "code",
   "execution_count": 167,
   "metadata": {},
   "outputs": [],
   "source": [
    "Frame_Select_Target_Pic_Folder = tk.LabelFrame(GUI, text='Step3:', bg='skyblue', padx=10, pady=10)\n",
    "Frame_Select_Target_Pic_Folder.place(x=10, y=185)"
   ]
  },
  {
   "cell_type": "code",
   "execution_count": 168,
   "metadata": {},
   "outputs": [],
   "source": [
    "StringVar_Selected_Target_Folder = tk.StringVar()\n",
    "tk.Button(Frame_Select_Target_Pic_Folder, text=\"选择待识别图片文件夹\", font='宋体 18 bold', bg='lightyellow', \n",
    "          command=lambda: StringVar_Selected_Target_Folder.set(Folder_Choose())).pack(side=\"left\", padx=6)\n",
    "tk.Label(Frame_Select_Target_Pic_Folder, text=\"选择的文件夹:\", font='宋体 18 bold', bg='aliceblue', \n",
    "          ).pack(side=\"left\", padx=6)\n",
    "tk.Entry(Frame_Select_Target_Pic_Folder, textvariable=StringVar_Selected_Target_Folder, font='宋体 10 bold', width=50\n",
    "                ).pack(side='left', padx=6)"
   ]
  },
  {
   "attachments": {},
   "cell_type": "markdown",
   "metadata": {},
   "source": [
    "### Step4:"
   ]
  },
  {
   "cell_type": "code",
   "execution_count": 169,
   "metadata": {},
   "outputs": [],
   "source": [
    "Frame_Start_Recognize = tk.LabelFrame(GUI, text='Step4:', bg='skyblue', padx=10, pady=10)\n",
    "Frame_Start_Recognize.place(x=10, y=270)"
   ]
  },
  {
   "cell_type": "code",
   "execution_count": 170,
   "metadata": {},
   "outputs": [],
   "source": [
    "tk.Button(Frame_Start_Recognize, text=\"开始识别\", font='宋体 18 bold', bg='lightyellow', \n",
    "          command=Select_Pic_Region).pack(side=\"left\", padx=6)"
   ]
  },
  {
   "attachments": {},
   "cell_type": "markdown",
   "metadata": {},
   "source": [
    "### 程序启动位置"
   ]
  },
  {
   "cell_type": "code",
   "execution_count": 171,
   "metadata": {},
   "outputs": [
    {
     "ename": "KeyboardInterrupt",
     "evalue": "",
     "output_type": "error",
     "traceback": [
      "\u001b[1;31m---------------------------------------------------------------------------\u001b[0m",
      "\u001b[1;31mKeyboardInterrupt\u001b[0m                         Traceback (most recent call last)",
      "Cell \u001b[1;32mIn[171], line 2\u001b[0m\n\u001b[0;32m      1\u001b[0m GUI\u001b[39m.\u001b[39mupdate()\n\u001b[1;32m----> 2\u001b[0m GUI\u001b[39m.\u001b[39;49mmainloop()\n",
      "File \u001b[1;32mc:\\Users\\natlq\\AppData\\Local\\Programs\\Python\\Python311\\Lib\\tkinter\\__init__.py:1485\u001b[0m, in \u001b[0;36mMisc.mainloop\u001b[1;34m(self, n)\u001b[0m\n\u001b[0;32m   1483\u001b[0m \u001b[39mdef\u001b[39;00m \u001b[39mmainloop\u001b[39m(\u001b[39mself\u001b[39m, n\u001b[39m=\u001b[39m\u001b[39m0\u001b[39m):\n\u001b[0;32m   1484\u001b[0m \u001b[39m    \u001b[39m\u001b[39m\"\"\"Call the mainloop of Tk.\"\"\"\u001b[39;00m\n\u001b[1;32m-> 1485\u001b[0m     \u001b[39mself\u001b[39m\u001b[39m.\u001b[39mtk\u001b[39m.\u001b[39mmainloop(n)\n",
      "\u001b[1;31mKeyboardInterrupt\u001b[0m: "
     ]
    }
   ],
   "source": [
    "GUI.update()\n",
    "GUI.mainloop()\n"
   ]
  }
 ],
 "metadata": {
  "kernelspec": {
   "display_name": "Python 3",
   "language": "python",
   "name": "python3"
  },
  "language_info": {
   "codemirror_mode": {
    "name": "ipython",
    "version": 3
   },
   "file_extension": ".py",
   "mimetype": "text/x-python",
   "name": "python",
   "nbconvert_exporter": "python",
   "pygments_lexer": "ipython3",
   "version": "3.11.3"
  },
  "orig_nbformat": 4
 },
 "nbformat": 4,
 "nbformat_minor": 2
}
