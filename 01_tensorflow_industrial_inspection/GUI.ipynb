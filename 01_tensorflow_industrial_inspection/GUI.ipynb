{
 "cells": [
  {
   "cell_type": "code",
   "execution_count": 85,
   "metadata": {},
   "outputs": [],
   "source": [
    "import tkinter as tk\n",
    "from tkinter import filedialog\n",
    "from tkinter import ttk, scrolledtext\n",
    "from PIL import ImageTk, Image\n",
    "import time\n",
    "import datetime, os"
   ]
  },
  {
   "cell_type": "code",
   "execution_count": 86,
   "metadata": {},
   "outputs": [],
   "source": [
    "Folder = ['']\n",
    "file_path = ['']\n",
    "file_name = ['']\n"
   ]
  },
  {
   "attachments": {},
   "cell_type": "markdown",
   "metadata": {},
   "source": [
    "### 创建主窗体"
   ]
  },
  {
   "cell_type": "code",
   "execution_count": 87,
   "metadata": {},
   "outputs": [],
   "source": [
    "GUI = tk.Tk()\n",
    "# GUI.withdraw()\n",
    "# GUI = tk.Toplevel()       # 主窗口\n",
    "GUI.title('AI图片分类')     # 窗口标题\n",
    "GUI.geometry('900x700')     # 主窗口的大小\n",
    "GUI.config(bg='aliceblue')"
   ]
  },
  {
   "attachments": {},
   "cell_type": "markdown",
   "metadata": {},
   "source": [
    "### 创建背景图片"
   ]
  },
  {
   "cell_type": "code",
   "execution_count": 88,
   "metadata": {},
   "outputs": [],
   "source": [
    "\n",
    "# canvas = tk.Canvas(GUI, width=900, height=700, bd=0, highlightthickness=0)\n",
    "# imgpath = \"C:\\\\Users\\\\natlq\\\\Pictures\\\\sunflower.jpg\"\n",
    "# img = Image.open(imgpath)\n",
    "# photo = ImageTk.PhotoImage(img)\n",
    "# canvas.create_image(200, 700, image=photo)\n",
    "# canvas.pack()"
   ]
  },
  {
   "attachments": {},
   "cell_type": "markdown",
   "metadata": {},
   "source": [
    "### Functions"
   ]
  },
  {
   "cell_type": "code",
   "execution_count": 89,
   "metadata": {},
   "outputs": [],
   "source": [
    "def File_Choose():\n",
    "\n",
    "    filename = filedialog.askopenfilename()\n",
    "    filename = filename.replace('/', '\\\\')\n",
    "    return filename"
   ]
  },
  {
   "cell_type": "code",
   "execution_count": 90,
   "metadata": {},
   "outputs": [],
   "source": [
    "def Folder_Choose():\n",
    "    folder_path = filedialog.askdirectory()\n",
    "    folder_path = folder_path.replace('/', '\\\\')\n",
    "    return(folder_path)"
   ]
  },
  {
   "cell_type": "code",
   "execution_count": 91,
   "metadata": {},
   "outputs": [],
   "source": [
    "def start_point_get(event):\n",
    "    global start_x, start_y # 声明写入全局变量\n",
    "    global Canvas_Image_Source, Select_Pic_Region_Win\n",
    "    Canvas_Image_Source.delete(\"rect1\")  # 如果已经有“rect1”标记的图形，则删除\n",
    "    # 在canvas 1上绘制一个矩形(rectangle是矩形的意思)\n",
    "    Canvas_Image_Source.create_rectangle(event.x,\n",
    "                             event.y,\n",
    "                             event.x + 1,\n",
    "                             event.y + 1,\n",
    "                             outline=\"green\",\n",
    "                             width=5,\n",
    "                             tag=\"rect1\")\n",
    "    # 在全局变量中存储坐标\n",
    "    start_x, start_y = event.x, event.y\n",
    "\n",
    "# 拖动中的事件- - - - - - - - - - - - - - - - - - - - - - - - - - -\n",
    "def rect_drawing(event):\n",
    "    # 拖动中的鼠标指针出现在区域外时的处理\n",
    "    if event.x < 0:\n",
    "        end_x = 0\n",
    "    else:\n",
    "        end_x = min(img_open.width, event.x)\n",
    "    if event.y < 0:\n",
    "        end_y = 0\n",
    "    else:\n",
    "        end_y = min(img_open.height, event.y)\n",
    "    # 重新绘制“rect1”标签的图像\n",
    "    Canvas_Image_Source.coords(\"rect1\", start_x, start_y, end_x, end_y)\n",
    "\n",
    "# 释放拖动时的事件- - - - - - - - - - - - - - - - - - - - - - - -\n",
    "def release_action(event):\n",
    "    global canvas1_size, canvas2_size, Image_Source\n",
    "    canvas2_size = (400, 300)\n",
    "    Img_Selected_Source =Image.open(Image_Source[0])\n",
    "\n",
    "    # 将“rect1”标签的图像坐标恢复到原来的比例尺并获取\n",
    "    start_x, start_y, end_x, end_y = [\n",
    "        round(n) for n in Canvas_Image_Source.coords(\"rect1\")\n",
    "    ]\n",
    "    ratio_canvas1 = img_ratio(Img_Selected_Source, canvas1_size)\n",
    "    # 将所选区域恢复到实际图片尺寸\n",
    "    Box = (start_x*ratio_canvas1, start_y*ratio_canvas1, end_x*ratio_canvas1, end_y*ratio_canvas1)\n",
    "\n",
    "\n",
    "    Croped_Selected_Img = Img_Selected_Source.crop(Box) \n",
    "    ratio_canvas2 = img_ratio(Croped_Selected_Img, canvas2_size)\n",
    "    Croped_Selected_Img_size_width, Croped_Selected_Img_size_height = Croped_Selected_Img.size\n",
    "    Canvas2_Croped_Selected_Img = Croped_Selected_Img.resize((int(Croped_Selected_Img_size_width/ratio_canvas2), int(Croped_Selected_Img_size_height/ratio_canvas2)))\n",
    "    print(ratio_canvas2, Box, (Croped_Selected_Img_size_width/ratio_canvas2, Croped_Selected_Img_size_height/ratio_canvas2))\n",
    "    Opened_Canvas_Croped_Selected_Img = ImageTk.PhotoImage(Canvas2_Croped_Selected_Img)\n",
    "    Canvas_Image_Selected_Region= tk.Canvas(Select_Pic_Region_Win, bg = 'gray')\n",
    "    Canvas_Image_Selected_Region.place(x=canvas1_size[0]+2, y=0,width = canvas2_size[0], height = canvas2_size[1])\n",
    "    Canvas_Image_Selected_Region.create_image(0, 0, image=Opened_Canvas_Croped_Selected_Img, anchor=tk.NW)\n",
    "    Canvas_Image_Selected_Region.image = Opened_Canvas_Croped_Selected_Img"
   ]
  },
  {
   "cell_type": "code",
   "execution_count": 92,
   "metadata": {},
   "outputs": [],
   "source": [
    "def Select_Pic_Region_Rectangle(canvas):\n",
    "    canvas.bind(\"<ButtonPress-1>\", start_point_get)\n",
    "    canvas.bind(\"<Button1-Motion>\", rect_drawing)\n",
    "    canvas.bind(\"<ButtonRelease-1>\", release_action)"
   ]
  },
  {
   "cell_type": "code",
   "execution_count": 93,
   "metadata": {},
   "outputs": [],
   "source": [
    "def img_ratio(img, canvas_size):\n",
    "    w, h = img.size\n",
    "    w_ratio = w/canvas_size[0]\n",
    "    h_ratio = h/canvas_size[1]\n",
    "    if w_ratio > h_ratio:\n",
    "        ratio = w_ratio\n",
    "    else:\n",
    "        ratio = h_ratio\n",
    "    return ratio"
   ]
  },
  {
   "cell_type": "code",
   "execution_count": 94,
   "metadata": {},
   "outputs": [],
   "source": [
    "def choosepic(image_label):\n",
    "    global img_open, canvas1_size, Image_Source\n",
    "    Image_Source = ['']\n",
    "    path_ = filedialog.askopenfilename()\n",
    "    Image_Source[0] = path_\n",
    "    img_open = Image.open(path_)\n",
    "    w, h = img_open.size\n",
    "    ratio_canvas1 = img_ratio(img_open, canvas1_size)\n",
    "    img_open = img_open.resize((int(w/ratio_canvas1), int(h/ratio_canvas1)))\n",
    "    img = ImageTk.PhotoImage(img_open)\n",
    "    image_label.create_image(0, 0, image=img, anchor=tk.NW)\n",
    "    image_label.image = img"
   ]
  },
  {
   "attachments": {},
   "cell_type": "markdown",
   "metadata": {},
   "source": [
    "### 创建选择图片范围子窗体"
   ]
  },
  {
   "cell_type": "code",
   "execution_count": 95,
   "metadata": {},
   "outputs": [],
   "source": [
    "def Select_Pic_Region():\n",
    "      global canvas1_size , Select_Pic_Region_Win\n",
    "      canvas1_size = (800, 500)\n",
    "      Select_Pic_Region_Win = tk.Toplevel()\n",
    "      Select_Pic_Region_Win.title('选择图片识别区域')\n",
    "      Select_Pic_Region_Win.geometry('1902x1080')\n",
    "      Select_Pic_Region_Win.config(bg='aliceblue')\n",
    "      Select_Pic_Region_Win.focus()\n",
    "      tk.Button(Select_Pic_Region_Win, text = '打开图片', font='黑体 28 bold', command=lambda: choosepic(Canvas_Image_Source)).place(x = 100, y = 830,w = 250, h = 80)\n",
    "      tk.Button(Select_Pic_Region_Win, text = '选择区域', font='黑体 28 bold', command=lambda: Select_Pic_Region_Rectangle(Canvas_Image_Source)).place(x = 400, y = 830,w = 250, h = 80)\n",
    "      tk.Button(Select_Pic_Region_Win, text = '确认', font='黑体 28 bold', command=lambda: Select_Pic_Region_Rectangle(Canvas_Image_Source)).place(x = 700, y = 830,w = 250, h = 80)\n",
    "      global Canvas_Image_Source\n",
    "      Canvas_Image_Source = tk.Canvas(Select_Pic_Region_Win, bg = 'gray')\n",
    "      Canvas_Image_Source.place(x=0, y=0,width = canvas1_size[0], height = canvas1_size[1])\n",
    "      # Select_Pic_Region_Win.update()\n"
   ]
  },
  {
   "attachments": {},
   "cell_type": "markdown",
   "metadata": {},
   "source": [
    "#### 创建训练子窗体"
   ]
  },
  {
   "cell_type": "code",
   "execution_count": 96,
   "metadata": {},
   "outputs": [],
   "source": [
    "def Train_Win(_return1):\n",
    "      Train_Win = tk.Toplevel()\n",
    "      Train_Win.title('图片分类学习')\n",
    "      Train_Win.geometry('900x700')\n",
    "      # Train_Win.attributes(\"-topmost\", True) # 始终在最前面显示tkinter窗口\n",
    "      Train_Win.config(bg='aliceblue')\n",
    "      Source_Folder = tk.LabelFrame(Train_Win, text='', padx=10, pady=10)\n",
    "      Source_Folder.place(x=20, y=15)\n",
    "      tk.Button(Source_Folder, text=\"选择源数据文件夹\", font='宋体 28 bold',\n",
    "            command=lambda: Folder_Choose(_return1)).pack(side=\"left\", padx=6)\n",
    "      tk.Button(Source_Folder, text=\"选择识别区域\", font='宋体 28 bold',\n",
    "            command=Select_Pic_Region).pack(side=\"left\", padx=6)\n",
    "      Start_Train = tk.LabelFrame(Train_Win, text='', padx=10, pady=10)\n",
    "      Start_Train.place(x=20, y=115)\n",
    "      tk.Button(Start_Train, text=\"开始训练\", font='宋体 28 bold',\n",
    "            ).pack(side=\"left\", padx=6)\n",
    "      Save_Model = tk.LabelFrame(Train_Win, text='', padx=10, pady=10)\n",
    "      Save_Model.place(x=20, y=215)\n",
    "      tk.Button(Save_Model, text=\"保存模型及识别区域\", font='宋体 28 bold',\n",
    "            ).pack(side=\"left\", padx=6)"
   ]
  },
  {
   "attachments": {},
   "cell_type": "markdown",
   "metadata": {},
   "source": [
    "### Step1："
   ]
  },
  {
   "cell_type": "code",
   "execution_count": 97,
   "metadata": {},
   "outputs": [],
   "source": [
    "Frame_Select_Or_Train_Model = tk.LabelFrame(GUI, text='Step1:', bg='skyblue', padx=10, pady=10)\n",
    "Frame_Select_Or_Train_Model.place(x=10, y=15)"
   ]
  },
  {
   "cell_type": "code",
   "execution_count": 98,
   "metadata": {},
   "outputs": [],
   "source": [
    "tk.Label(Frame_Select_Or_Train_Model, text=\"请训练新的模型或直接进入'Step2'选择现有模型:\", font='宋体 18 bold', bg='aliceblue' \n",
    "          ).pack(side=\"left\", padx=6)\n",
    "tk.Button(Frame_Select_Or_Train_Model, text='训练新的模型', font='宋体 18 bold', bg='lightyellow', \n",
    "          command=lambda: Train_Win(file_path)).pack(side='left', padx=6)"
   ]
  },
  {
   "attachments": {},
   "cell_type": "markdown",
   "metadata": {},
   "source": [
    "### Step2:"
   ]
  },
  {
   "cell_type": "code",
   "execution_count": 99,
   "metadata": {},
   "outputs": [],
   "source": [
    "Frame_Display_Selected_Model =tk.LabelFrame(GUI, text='Step2:', bg='skyblue', padx=10, pady=10)\n",
    "Frame_Display_Selected_Model.place(x=10, y=100) "
   ]
  },
  {
   "cell_type": "code",
   "execution_count": 100,
   "metadata": {},
   "outputs": [],
   "source": [
    "StringVar_Selected_Model_Name = tk.StringVar()\n",
    "tk.Button(Frame_Display_Selected_Model, text=\"选择现有模型\", font='宋体 18 bold', bg='lightyellow', \n",
    "          command=lambda: StringVar_Selected_Model_Name.set(File_Choose())).pack(side=\"left\", padx=6)\n",
    "tk.Label(Frame_Display_Selected_Model, text=\"选择的模型:\", font='宋体 18 bold', bg='aliceblue', \n",
    "          ).pack(side=\"left\", padx=6)\n",
    "tk.Entry(Frame_Display_Selected_Model, textvariable=StringVar_Selected_Model_Name, font='宋体 10 bold', width=65,\n",
    "         ).pack(side='left', padx=6)"
   ]
  },
  {
   "attachments": {},
   "cell_type": "markdown",
   "metadata": {},
   "source": [
    "### Step3:"
   ]
  },
  {
   "cell_type": "code",
   "execution_count": 101,
   "metadata": {},
   "outputs": [],
   "source": [
    "Frame_Select_Target_Pic_Folder = tk.LabelFrame(GUI, text='Step3:', bg='skyblue', padx=10, pady=10)\n",
    "Frame_Select_Target_Pic_Folder.place(x=10, y=185)"
   ]
  },
  {
   "cell_type": "code",
   "execution_count": 102,
   "metadata": {},
   "outputs": [],
   "source": [
    "StringVar_Selected_Target_Folder = tk.StringVar()\n",
    "tk.Button(Frame_Select_Target_Pic_Folder, text=\"选择待识别图片文件夹\", font='宋体 18 bold', bg='lightyellow', \n",
    "          command=lambda: StringVar_Selected_Target_Folder.set(Folder_Choose())).pack(side=\"left\", padx=6)\n",
    "tk.Label(Frame_Select_Target_Pic_Folder, text=\"选择的文件夹:\", font='宋体 18 bold', bg='aliceblue', \n",
    "          ).pack(side=\"left\", padx=6)\n",
    "tk.Entry(Frame_Select_Target_Pic_Folder, textvariable=StringVar_Selected_Target_Folder, font='宋体 10 bold', width=50\n",
    "                ).pack(side='left', padx=6)"
   ]
  },
  {
   "attachments": {},
   "cell_type": "markdown",
   "metadata": {},
   "source": [
    "### Step4:"
   ]
  },
  {
   "cell_type": "code",
   "execution_count": 103,
   "metadata": {},
   "outputs": [],
   "source": [
    "Frame_Start_Recognize = tk.LabelFrame(GUI, text='Step4:', bg='skyblue', padx=10, pady=10)\n",
    "Frame_Start_Recognize.place(x=10, y=270)"
   ]
  },
  {
   "cell_type": "code",
   "execution_count": 104,
   "metadata": {},
   "outputs": [],
   "source": [
    "tk.Button(Frame_Start_Recognize, text=\"开始识别\", font='宋体 18 bold', bg='lightyellow', \n",
    "          command=Select_Pic_Region).pack(side=\"left\", padx=6)"
   ]
  },
  {
   "attachments": {},
   "cell_type": "markdown",
   "metadata": {},
   "source": [
    "### 程序启动位置"
   ]
  },
  {
   "cell_type": "code",
   "execution_count": 105,
   "metadata": {},
   "outputs": [
    {
     "name": "stdout",
     "output_type": "stream",
     "text": [
      "2.2666666666666666 (410.4, 278.4, 1080.0, 957.5999999999999) (295.5882352941177, 300.0)\n",
      "2.6575 (307.2, 240.0, 1370.3999999999999, 808.8) (399.99999999999994, 214.11100658513638)\n",
      "2.0633333333333335 (333.59999999999997, 408.0, 1017.5999999999999, 1027.2) (331.50242326332796, 300.0)\n",
      "2.7675 (326.4, 194.4, 1432.8, 931.1999999999999) (400.0, 266.3053297199639)\n",
      "3.4725 (177.6, 230.39999999999998, 1567.2, 1173.6) (400.0, 271.8502519798416)\n",
      "2.0633333333333335 (355.2, 376.8, 1161.6, 996.0) (391.1147011308562, 300.0)\n",
      "0.9666666666666667 (482.4, 393.59999999999997, 816.0, 684.0) (345.51724137931035, 300.0)\n",
      "0.38333333333333336 (576.0, 480.0, 720.0, 595.1999999999999) (375.65217391304344, 300.0)\n"
     ]
    }
   ],
   "source": [
    "GUI.update()\n",
    "GUI.mainloop()\n"
   ]
  }
 ],
 "metadata": {
  "kernelspec": {
   "display_name": "Python 3",
   "language": "python",
   "name": "python3"
  },
  "language_info": {
   "codemirror_mode": {
    "name": "ipython",
    "version": 3
   },
   "file_extension": ".py",
   "mimetype": "text/x-python",
   "name": "python",
   "nbconvert_exporter": "python",
   "pygments_lexer": "ipython3",
   "version": "3.11.3"
  },
  "orig_nbformat": 4
 },
 "nbformat": 4,
 "nbformat_minor": 2
}
