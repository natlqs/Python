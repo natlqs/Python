{
 "cells": [
  {
   "cell_type": "code",
   "execution_count": 6,
   "metadata": {},
   "outputs": [],
   "source": [
    "import numpy as np\n",
    "from PIL import ImageTk, Image"
   ]
  },
  {
   "cell_type": "code",
   "execution_count": 7,
   "metadata": {},
   "outputs": [],
   "source": [
    "start_x = 387\n",
    "start_y = 306\n",
    "end_x = 870\n",
    "end_y = 768"
   ]
  },
  {
   "cell_type": "code",
   "execution_count": 17,
   "metadata": {},
   "outputs": [
    {
     "name": "stdout",
     "output_type": "stream",
     "text": [
      "[[[[ 94 118  58]\n",
      "   [ 97 118  59]\n",
      "   [ 97 118  59]\n",
      "   ...\n",
      "   [ 83 104  47]\n",
      "   [ 84 105  48]\n",
      "   [ 84 105  48]]\n",
      "\n",
      "  [[ 97 119  57]\n",
      "   [ 97 119  57]\n",
      "   [ 98 120  58]\n",
      "   ...\n",
      "   [ 83 104  47]\n",
      "   [ 84 105  48]\n",
      "   [ 84 105  48]]\n",
      "\n",
      "  [[ 96 118  54]\n",
      "   [ 96 118  54]\n",
      "   [ 97 119  55]\n",
      "   ...\n",
      "   [ 85 104  48]\n",
      "   [ 84 105  48]\n",
      "   [ 84 105  48]]\n",
      "\n",
      "  ...\n",
      "\n",
      "  [[156 195  89]\n",
      "   [157 194  89]\n",
      "   [157 194  89]\n",
      "   ...\n",
      "   [168 193  99]\n",
      "   [168 193  99]\n",
      "   [167 192  98]]\n",
      "\n",
      "  [[156 195  89]\n",
      "   [156 195  89]\n",
      "   [156 195  89]\n",
      "   ...\n",
      "   [169 195  98]\n",
      "   [168 194  97]\n",
      "   [167 193  96]]\n",
      "\n",
      "  [[154 193  87]\n",
      "   [154 193  87]\n",
      "   [155 194  88]\n",
      "   ...\n",
      "   [170 196  99]\n",
      "   [170 194  98]\n",
      "   [168 192  96]]]]\n"
     ]
    }
   ],
   "source": [
    "# sunflower_path = \"C:\\\\Users\\\\natlq\\\\Downloads\\\\wavespring\\\\NG\\\\254325.jpg\"\n",
    "sunflower_path = \"C:\\\\Users\\\\natlq\\\\Pictures\\\\tulips.jpg\"\n",
    "\n",
    "Start_Recognition_Selected_Image =Image.open(sunflower_path)\n",
    "image_arr = np.array(Start_Recognition_Selected_Image)\n",
    "Cropped_Image_arr = image_arr[start_y:end_y, start_x:end_x]\n",
    "image_array = np.expand_dims(Cropped_Image_arr, axis=0)\n",
    "print(image_array)"
   ]
  }
 ],
 "metadata": {
  "kernelspec": {
   "display_name": "Python 3",
   "language": "python",
   "name": "python3"
  },
  "language_info": {
   "codemirror_mode": {
    "name": "ipython",
    "version": 3
   },
   "file_extension": ".py",
   "mimetype": "text/x-python",
   "name": "python",
   "nbconvert_exporter": "python",
   "pygments_lexer": "ipython3",
   "version": "3.11.3"
  },
  "orig_nbformat": 4
 },
 "nbformat": 4,
 "nbformat_minor": 2
}
