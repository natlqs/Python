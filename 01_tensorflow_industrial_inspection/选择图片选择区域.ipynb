{
 "cells": [
  {
   "cell_type": "code",
   "execution_count": 399,
   "metadata": {},
   "outputs": [],
   "source": [
    "import tkinter as tk\n",
    "from tkinter import filedialog\n",
    "from tkinter import ttk, scrolledtext\n",
    "from PIL import ImageTk, Image\n",
    "import time\n",
    "import datetime, os\n",
    "import matplotlib.pyplot as plt\n"
   ]
  },
  {
   "cell_type": "code",
   "execution_count": 400,
   "metadata": {},
   "outputs": [],
   "source": [
    "def File_Choose():\n",
    "\n",
    "    filename = filedialog.askopenfilename()\n",
    "    filename = filename.replace('/', '\\\\')\n",
    "    return filename"
   ]
  },
  {
   "cell_type": "code",
   "execution_count": 401,
   "metadata": {},
   "outputs": [],
   "source": [
    "def Folder_Choose():\n",
    "    folder_path = filedialog.askdirectory()\n",
    "    folder_path = folder_path.replace('/', '\\\\')\n",
    "    return(folder_path)"
   ]
  },
  {
   "cell_type": "code",
   "execution_count": 402,
   "metadata": {},
   "outputs": [],
   "source": [
    "def start_point_get(event):\n",
    "    global start_x, start_y # 声明写入全局变量\n",
    "    Canvas_Image_Source.delete(\"rect1\")  # 如果已经有“rect1”标记的图形，则删除\n",
    "    # 在canvas 1上绘制一个矩形(rectangle是矩形的意思)\n",
    "    Canvas_Image_Source.create_rectangle(event.x,\n",
    "                             event.y,\n",
    "                             event.x + 1,\n",
    "                             event.y + 1,\n",
    "                             outline=\"green\",\n",
    "                             width=5,\n",
    "                             tag=\"rect1\")\n",
    "    # 在全局变量中存储坐标\n",
    "    start_x, start_y = event.x, event.y\n",
    "\n",
    "# 拖动中的事件- - - - - - - - - - - - - - - - - - - - - - - - - - -\n",
    "def rect_drawing(event):\n",
    "    # 拖动中的鼠标指针出现在区域外时的处理\n",
    "    if event.x < 0:\n",
    "        end_x = 0\n",
    "    else:\n",
    "        end_x = min(img_open.width, event.x)\n",
    "    if event.y < 0:\n",
    "        end_y = 0\n",
    "    else:\n",
    "        end_y = min(img_open.height, event.y)\n",
    "    # 重新绘制“rect1”标签的图像\n",
    "    Canvas_Image_Source.coords(\"rect1\", start_x, start_y, end_x, end_y)\n",
    "\n",
    "# 释放拖动时的事件- - - - - - - - - - - - - - - - - - - - - - - -\n",
    "def release_action(event):\n",
    "    global canvas1_size, canvas2_size, Image_Source\n",
    "    canvas2_size = (400, 300)\n",
    "    Img_Selected_Source =Image.open(Image_Source[0])\n",
    "\n",
    "    # 将“rect1”标签的图像坐标恢复到原来的比例尺并获取\n",
    "    start_x, start_y, end_x, end_y = [\n",
    "        round(n) for n in Canvas_Image_Source.coords(\"rect1\")\n",
    "    ]\n",
    "    ratio_canvas1 = img_ratio(Img_Selected_Source, canvas1_size)\n",
    "    # 将所选区域恢复到实际图片尺寸\n",
    "    Box = (start_x*ratio_canvas1, start_y*ratio_canvas1, end_x*ratio_canvas1, end_y*ratio_canvas1)\n",
    "\n",
    "\n",
    "    Croped_Selected_Img = Img_Selected_Source.crop(Box) \n",
    "    ratio_canvas2 = img_ratio(Croped_Selected_Img, canvas2_size)\n",
    "    Croped_Selected_Img_size_width, Croped_Selected_Img_size_height = Croped_Selected_Img.size\n",
    "    Canvas2_Croped_Selected_Img = Croped_Selected_Img.resize((int(Croped_Selected_Img_size_width/ratio_canvas2), int(Croped_Selected_Img_size_height/ratio_canvas2)))\n",
    "    print(ratio_canvas2, Box, (Croped_Selected_Img_size_width/ratio_canvas2, Croped_Selected_Img_size_height/ratio_canvas2))\n",
    "    Opened_Canvas_Croped_Selected_Img = ImageTk.PhotoImage(Canvas2_Croped_Selected_Img)\n",
    "    Canvas_Image_Selected_Region= tk.Canvas(Select_Pic_Region_Win, bg = 'gray')\n",
    "    Canvas_Image_Selected_Region.place(x=canvas1_size[0]+2, y=0,width = canvas2_size[0], height = canvas2_size[1])\n",
    "    Canvas_Image_Selected_Region.create_image(0, 0, image=Opened_Canvas_Croped_Selected_Img, anchor=tk.NW)\n",
    "    Canvas_Image_Selected_Region.image = Opened_Canvas_Croped_Selected_Img"
   ]
  },
  {
   "cell_type": "code",
   "execution_count": 403,
   "metadata": {},
   "outputs": [],
   "source": [
    "def Select_Pic_Region(canvas):\n",
    "    canvas.bind(\"<ButtonPress-1>\", start_point_get)\n",
    "    canvas.bind(\"<Button1-Motion>\", rect_drawing)\n",
    "    canvas.bind(\"<ButtonRelease-1>\", release_action)"
   ]
  },
  {
   "cell_type": "code",
   "execution_count": 404,
   "metadata": {},
   "outputs": [],
   "source": [
    "def img_ratio(img, canvas_size):\n",
    "    w, h = img.size\n",
    "    w_ratio = w/canvas_size[0]\n",
    "    h_ratio = h/canvas_size[1]\n",
    "    if w_ratio > h_ratio:\n",
    "        ratio = w_ratio\n",
    "    else:\n",
    "        ratio = h_ratio\n",
    "    return ratio"
   ]
  },
  {
   "cell_type": "code",
   "execution_count": 405,
   "metadata": {},
   "outputs": [],
   "source": [
    "def choosepic(image_label):\n",
    "    global img_open, canvas1_size, Image_Source\n",
    "    path_ = filedialog.askopenfilename()\n",
    "    Image_Source[0] = path_\n",
    "    img_open = Image.open(path_)\n",
    "    w, h = img_open.size\n",
    "    ratio_canvas1 = img_ratio(img_open, canvas1_size)\n",
    "    img_open = img_open.resize((int(w/ratio_canvas1), int(h/ratio_canvas1)))\n",
    "    img = ImageTk.PhotoImage(img_open)\n",
    "    image_label.create_image(0, 0, image=img, anchor=tk.NW)\n",
    "    image_label.image = img"
   ]
  },
  {
   "cell_type": "code",
   "execution_count": 406,
   "metadata": {},
   "outputs": [],
   "source": [
    "global canvas1_size \n",
    "canvas1_size = (800, 500)\n",
    "Select_Pic_Region_Win = tk.Toplevel()\n",
    "Select_Pic_Region_Win.title('选择图片识别区域')\n",
    "Select_Pic_Region_Win.geometry('1902x1080')\n",
    "Select_Pic_Region_Win.config(bg='aliceblue')\n",
    "Select_Pic_Region_Win.focus()\n",
    "tk.Button(Select_Pic_Region_Win, text = '打开图片', font='黑体 28 bold', command=lambda: choosepic(Canvas_Image_Source)).place(x = 100, y = 830,w = 250, h = 80)\n",
    "tk.Button(Select_Pic_Region_Win, text = '选择区域', font='黑体 28 bold', command=lambda: Select_Pic_Region(Canvas_Image_Source)).place(x = 400, y = 830,w = 250, h = 80)\n",
    "tk.Button(Select_Pic_Region_Win, text = '确认', font='黑体 28 bold', command=lambda: Select_Pic_Region(Canvas_Image_Source)).place(x = 700, y = 830,w = 250, h = 80)\n",
    "Canvas_Image_Source = tk.Canvas(Select_Pic_Region_Win, bg = 'gray')\n",
    "Canvas_Image_Source.place(x=0, y=0,width = canvas1_size[0], height = canvas1_size[1])\n",
    "Select_Pic_Region_Win.update()"
   ]
  },
  {
   "cell_type": "code",
   "execution_count": 407,
   "metadata": {},
   "outputs": [
    {
     "name": "stdout",
     "output_type": "stream",
     "text": [
      "1.655 (345.59999999999997, 362.4, 1008.0, 765.6) (400.0, 244.10876132930514)\n"
     ]
    }
   ],
   "source": [
    "Select_Pic_Region_Win.update()\n",
    "Select_Pic_Region_Win.mainloop()"
   ]
  }
 ],
 "metadata": {
  "kernelspec": {
   "display_name": "Python 3",
   "language": "python",
   "name": "python3"
  },
  "language_info": {
   "codemirror_mode": {
    "name": "ipython",
    "version": 3
   },
   "file_extension": ".py",
   "mimetype": "text/x-python",
   "name": "python",
   "nbconvert_exporter": "python",
   "pygments_lexer": "ipython3",
   "version": "3.11.3"
  },
  "orig_nbformat": 4
 },
 "nbformat": 4,
 "nbformat_minor": 2
}
