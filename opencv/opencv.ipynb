{
 "cells": [
  {
   "cell_type": "markdown",
   "metadata": {},
   "source": [
    "## OpenCV  "
   ]
  },
  {
   "cell_type": "markdown",
   "metadata": {},
   "source": [
    "### 1-1 安装OpenCV"
   ]
  },
  {
   "cell_type": "markdown",
   "metadata": {},
   "source": [
    "### 1-2 读取和显示图像"
   ]
  },
  {
   "cell_type": "markdown",
   "metadata": {},
   "source": [
    "#### 建立OpenCV图像窗口"
   ]
  },
  {
   "cell_type": "markdown",
   "metadata": {},
   "source": [
    "可以使用namedWindow()建立未来要显示图像的窗口\n",
    "cv2.namedWindow(窗口名称, [**窗口旗标参数**])   \n",
    "\n",
    "**窗口旗标参数flag**可能值如下：\n",
    "- WINDOW_NORMAL: 如果设定，用户可以自行调整窗口大小\n",
    "- WINDOW_AUTOSIZE: 系统将依图像调整窗口大小，用户无法调整窗口大小，这是预设。\n",
    "- WINDOW_OPENGL: 将以OPENGL支持方式打开窗口。   \n",
    "    实例： 可以使用cv2.namedWindow(\"Face\")建立标题为Face的窗口\n"
   ]
  },
  {
   "cell_type": "code",
   "execution_count": 1,
   "metadata": {},
   "outputs": [],
   "source": [
    "import cv2\n",
    "\n",
    "cv2.namedWindow(\"Face\")"
   ]
  },
  {
   "cell_type": "markdown",
   "metadata": {},
   "source": [
    "#### 读取图像"
   ]
  },
  {
   "cell_type": "markdown",
   "metadata": {},
   "source": [
    "可以使用cv2.imread( )读取图像，读完后将图像放在图像对象内，OpenCV支持大部分图像格式，例如，*.jpg、*jpeg、*.png、*.bmp、*.tiff等。\n",
    "\n",
    "     image = cv2.imread(图像文件, 图像旗标)  # image是图像对象可以自行命名\n",
    "图像旗标参数的可能值如下：   \n",
    "cv2.IMREAD_COLOR：这是默认，以彩色图像读取，值是1。   \n",
    "cv2.IMREAD_GRAYSCALE：以灰色图像读取，值是0。   \n",
    "cv2.IMREAD_UNCHANGED：以彩色读取包含alpha值的图像，值是-1。   \n",
    "**实例**：下列分别以彩色和黑白读取图像picture.jpg。\n",
    "\n",
    "     img = cv2.imread(‘picture.jpg', 1)  # **彩色图像**读取\n",
    "     img = cv2.imread(‘picture.jpg', 0)  # **灰色图像**读取"
   ]
  },
  {
   "cell_type": "markdown",
   "metadata": {},
   "source": [
    "#### 使用OpenCV窗口显示图像"
   ]
  },
  {
   "cell_type": "markdown",
   "metadata": {},
   "source": [
    "可以使用cv2.imshow()将前一节读取的图像对象显示在OpenCV窗口内，此方法的使用格式如下：   \n",
    "    \n",
    "    cv2.imshow(窗口名称，图像对象)"
   ]
  },
  {
   "cell_type": "markdown",
   "metadata": {},
   "source": [
    "#### 关闭OpenCV窗口"
   ]
  },
  {
   "cell_type": "markdown",
   "metadata": {},
   "source": [
    "将图像显示在OpenCV窗口后，若是想删除窗口可以使用下列方法。\n",
    "\n",
    "     cv2.destroyWindow(窗口名称)  # 删除单一所指定的窗口\n",
    "     cv2.destroyAllWindows( )     # 删除所有OpenCV的图像窗口"
   ]
  },
  {
   "cell_type": "markdown",
   "metadata": {},
   "source": [
    "#### 时间等待"
   ]
  },
  {
   "cell_type": "markdown",
   "metadata": {},
   "source": [
    "可以使用cv2.waitKey(n)运行时间等待，n单位是毫秒，若是n=0，代表无限期等待。若是设为cv2.waitKey(1000)相当于time.sleep(1)，有等待1秒的效果。其实这是一个键盘绑定函数，在34-4-4小节将会做另一种应用的解说。   \n",
    "\n",
    " **例**:  以彩色和黑白显示图像的应用，其中彩色的OpenCV窗口无法调整窗口大小，黑白的OpenCV窗口则可以调整窗口大小。"
   ]
  },
  {
   "cell_type": "code",
   "execution_count": 3,
   "metadata": {},
   "outputs": [],
   "source": [
    "# display img in window \n",
    "import cv2\n",
    "cv2.namedWindow('mypicture1')       # 使用预设大小\n",
    "cv2.namedWindow('mypicture2', cv2.WINDOW_NORMAL)       # 可以重设大小\n",
    "img1 = cv2.imread('E:\\VMcommunicate\\CODE\\python\\opencv\\OIP-C.jpg')  # 彩色读取\n",
    "img2 = cv2.imread('E:\\VMcommunicate\\CODE\\python\\opencv\\OIP-C.jpg', 0)  #    灰色读取 \n",
    "cv2.imshow('mypicture1', img1)      # 显示img1\n",
    "cv2.imshow('mypicture2', img2)      # 显示img2\n",
    "cv2.waitKey(3000)                   # 等待3秒\n",
    "cv2.destroyWindow('mypicture1')         # 删除Mypicture1\n",
    "cv2.waitKey(3000)                   # 等待3秒\n",
    "cv2.destroyAllWindows()             # 删除所有窗口"
   ]
  },
  {
   "cell_type": "markdown",
   "metadata": {},
   "source": [
    "#### 存储图像"
   ]
  },
  {
   "cell_type": "markdown",
   "metadata": {},
   "source": [
    "可以使用cv2.imwrite( )存储图像，它的使用格式如下：\n",
    "\n",
    "     cv2.imwrite(文件路径, 图像对象)\n",
    "程序实例ch34_2.py：打开图像，使用OpenCV窗口存储，然后存入out34_2.jpg。\n"
   ]
  },
  {
   "cell_type": "code",
   "execution_count": null,
   "metadata": {},
   "outputs": [],
   "source": [
    "# opencv save img\n",
    "import cv2\n",
    "cv2.namedWindow('mypicture1')       # 使用预设大小\n",
    "img1 = cv2.imread('E:\\VMcommunicate\\CODE\\python\\opencv\\OIP-C.jpg')  # 彩色读取\n",
    "cv2.imshow('mypicture1', img1)          # 在窗口显示读取到的图片\n",
    "cv2.imwrite('E:\\VMcommunicate\\CODE\\python\\opencv\\out1.jpg', img1)       # 将img对象保存到指定文件\n",
    "cv2.waitKey(3000)           # 等待3s\n",
    "cv2.destroyAllWindows()     # 关闭所有窗口"
   ]
  },
  {
   "cell_type": "markdown",
   "metadata": {},
   "source": [
    "### OpenCV的绘图功能"
   ]
  },
  {
   "cell_type": "markdown",
   "metadata": {},
   "source": [
    "OpenCV也像大多数的图像模块一样可以执行绘图，当然这不是学习OpenCV的目的，因为有其他好用的绘图模块可以使用。   \n",
    "**直线**   \n",
    "\n",
    "     cv2.line(绘图对象,(x1,y1),(x2,y2),颜色,宽度)      \n",
    "\n",
    "绘图对象可想成是画布，(x1,y1)是线条的起点，(x2,y2)是线条的终点，画布左上角是(0,0)，往右x轴增加，往下y轴增加，单位为**像素**。颜色是3个RGB值(Blue, Green, Red)，介于0～255间，预设是黑色。线条宽度预设是1。   \n",
    "**实例**：下列是从x1=50, y1=100,绘一条线至x2=300, y2=350，蓝色，线宽是2。\n",
    "\n",
    "     cv2.line(img, (50,100), (300,350), (255,0,0), 2)   \n",
    "**矩形**\n",
    "\n",
    "     cv2.rectangle(绘图对象,(x1,y1),(x2,y2),颜色,宽度)\n",
    " (x1,y1)是矩形左上角坐标，(x2,y2)是矩形右下角坐标，颜色使用与线条相同，线宽是矩形宽，如果线宽是负值代表实心矩形。   \n",
    "     **实例**：下列是建立一个绿色线条，宽度是3，左上角是x1=50,y1=100，右下角是x2=300,y2=350的矩形。\n",
    "\n",
    "     cv2.rectangle(img, (50,100), (300,350), (0,255,0), 3)   \n",
    "**圆形**\n",
    "\n",
    "     cv2.circle(绘图对象,(x,y),radius,颜色,宽度)   \n",
    "(x,y)是圆中心，radius是圆半径。实例：下列是在(100,100)为圆中心，绘半径50，红色的圆，宽度为1。\n",
    "\n",
    "     cv2.circle(img,(100,100),50,(0,0,255),2)   \\\n",
    "**输出文字**\n",
    "\n",
    "     cv2.putText(绘图对象, 文字, 位置, 字体, 字体大小, 颜色, 文字宽度)\n",
    "其中字体格式有下列选项：\n",
    "FONT_HERSHEY_SIMPLEX：sans-serif字体正常大小。   \n",
    "FONT_HERSHEY_PLAIN：sans-serif字体较小字体。   \n",
    "FONT_HERSHEY_COMPLEX：serif字体正常大小。   \n",
    "FONT_ITALIC：italic字体。   \n",
    "上述位置是指第一个字的左下角坐标。     \n",
    "\n",
    "实例：在绘图对象输出线条、矩形与文字应用。"
   ]
  },
  {
   "cell_type": "code",
   "execution_count": 4,
   "metadata": {},
   "outputs": [],
   "source": [
    "# opencv img paint\n",
    "import cv2\n",
    "cv2.namedWindow('mypicture')       # 使用预设大小\n",
    "img = cv2.imread('E:\\VMcommunicate\\CODE\\python\\opencv\\OIP-C.jpg')  # 彩色读取\n",
    "cv2.line(img, (10, 10), (220, 10),(255, 0, 0), 2)        # 输出线条\n",
    "cv2.rectangle(img, (10, 50), (220, 90), (0, 0, 255), 2)      # 输出矩形\n",
    "cv2.putText(img, \"I like OpenCV\", (30, 35), \n",
    "            cv2.FONT_ITALIC,1,  (0, 0, 255),3)\n",
    "cv2.imshow('mypicture', img)      # 显示img\n",
    "cv2.waitKey(30000)                   # 等待3秒\n",
    "cv2.destroyAllWindows()             # 删除所有窗口"
   ]
  },
  {
   "cell_type": "markdown",
   "metadata": {},
   "source": [
    "### 人脸识别"
   ]
  },
  {
   "cell_type": "markdown",
   "metadata": {},
   "source": [
    "人脸识别是计算器技术的一种，这个技术可以测出人脸在图像中的位置，同时也可以找出多个人脸，在检测过程中基本上会忽略背景或其他物体，例如，身体、建筑物或树木等。当然在检测过程中，很重要的是与图像数据库互相匹配比对，所用的技术是哈尔(Harr)特征，OpenCV已经将许多已经训练测试过的面部、表情、笑脸等特征分类文件存储在   \n",
    "**~opencv\\sources\\data\\harrcascades**    文件夹内。未来我们可以加载上述文件，再利用OpenCV所提供的API应用方法，即可执行人脸检测识别。"
   ]
  },
  {
   "cell_type": "markdown",
   "metadata": {},
   "source": [
    "#### 脸部识别"
   ]
  },
  {
   "cell_type": "markdown",
   "metadata": {},
   "source": [
    "设计人脸识别系统第一步是可以让程序使用OpenCV将图像文件的人脸标记出来，下列是常用的人脸识别特征文件，我们可以使用CascadeClassifier( )类别执行脸部识别。   \n",
    "    \n",
    "    face_cascade = cv2.CascadeClassifier(‘~haarcascade_frontalface_default.xml')   \n",
    "~是指文件路径，face_cascade是识别对象，当然你可以自行取名。接着需要使用识别对象启动detectMultiScale( )方法，语法如下：   \n",
    "\n",
    "    faces = face_cascade.detectMultiScale(img, 参数1, 参数2, …)   \n",
    "上述参数意义如下：   \n",
    "scaleFactor：如果没有指定一般是1.1，主要是指在特征比对中，图像比例的缩小倍数。   \n",
    "minNeighbors：每个区块的特征皆会比对，设定多少个特征数达到才算比对成功，默认值是3。   \n",
    "minSize：最小识别区块。   \n",
    "maxSize：最大识别区块。   \n",
    "笔者研究许多文件发现，最常见的是设定前3个参数，例如，下列表示图像对象是img，scaleFactor是1.3，minNeighbors是5。   \n",
    "\n",
    "    faces = face_cascade.detectMultiScale(img, 1.3, 5)\n",
    "上述执行成功后的返回值是faces列表，列表的元素是元组(tuple)，每个元组内有4组数字分别代表脸部左上角的x轴坐标、y轴坐标、脸部的宽w和脸部的高h。有了这些数据就可以在图像中标出人脸，或是将人脸存储。我们可以用len(faces)获得找到几张脸。   \n",
    "**实例**： 使用第4行所载明的人脸特征文件，标示图像中的人脸，并用蓝色框框着人脸，以及在图像右下方标注所发现的人脸数量。下列程序可以应用在发现很多人脸的场合，主要是程序第17和18行，笔者将返回的列表（元素是元组），依次绘制矩形将脸部框起。"
   ]
  },
  {
   "cell_type": "code",
   "execution_count": null,
   "metadata": {},
   "outputs": [],
   "source": [
    "# face recognition\n",
    "import imp\n",
    "import cv2\n",
    "import tkinter as tk\n",
    "from tkinter import filedialog\n",
    "\n",
    "root = tk.Tk()\n",
    "root.withdraw()\n",
    "\n",
    "pic_path = r\"C:\\Users\\natlq\\AppData\\Local\\Programs\\Python\\Python310\\Lib\\site-packages\\cv2\\data\\haarcascade_frontalface_default.xml\"\n",
    "face_cascade = cv2.CascadeClassifier(pic_path)      # 建立识别文件对象\n",
    "img_path = filedialog.askopenfilename()     # 弹窗获取文件路径\n",
    "img = cv2.imread(img_path)      # 读取图像文件建立图像文件对象\n",
    "faces = face_cascade.detectMultiScale(img, scaleFactor=1.1,\n",
    "        minNeighbors = 3, minSize=(20, 20))\n",
    "# 标注右下角底色是黄色\n",
    "cv2.rectangle(img, (img.shape[1]-140, img.shape[0]-20),\n",
    "            (img.shape[1], img.shape[0]), (0, 255, 255), -1)\n",
    "# 标注找到多少人脸\n",
    "cv2.putText(img, 'finding' + str(len(faces)) + 'faces',\n",
    "            (img.shape[1]-135, img.shape[0]-5),\n",
    "            cv2.FONT_HERSHEY_COMPLEX, 0.5, (255, 0, 0), 1)\n",
    "# 将人脸框起来，有于有可能找到好几个脸所以用循环绘出来\n",
    "for(x, y, w, h) in faces:\n",
    "    cv2.rectangle(img, (x, y), (x+w, y+h), (255, 0, 0), 2)\n",
    "cv2.namedWindow('face', cv2.WINDOW_NORMAL)      # 建立图像对象\n",
    "cv2.imshow('face', img)     # 显示图像\n",
    "cv2.waitKey(30000)\n",
    "cv2.destroyAllWindows()"
   ]
  },
  {
   "cell_type": "markdown",
   "metadata": {},
   "source": [
    "#### 将脸部存档"
   ]
  },
  {
   "cell_type": "markdown",
   "metadata": {},
   "source": [
    "我们已经成功识别脸部了，下一步是将脸部存储，就像我们进入海关，要享受便利的人脸识别通关，首先海关人员会先为我们拍照，然后将我们的脸形存档，未来我们每次出入海关都会拍照，主要是将我们的脸形与计算机所存的脸形文件进行比对。\n",
    "要完成本节工作，我们可以使用27章的Pillow模块，这个模块有下列方法可以使用。   \n",
    "使用Image.open( )打开文件，可参考27-3-1小节。   \n",
    "使用crop( )依据人脸识别矩形框裁切图片，可参考27-5-1小节。   \n",
    "使用resize( )更改图像大小，可参考27-4-1小节。   \n",
    "使用save( )存储图像，可参考27-3-5小节。"
   ]
  },
  {
   "cell_type": "markdown",
   "metadata": {},
   "source": [
    "**实例:** 将所识别的人脸分别存入face1.jpg, ..., face5.jpg"
   ]
  },
  {
   "cell_type": "code",
   "execution_count": null,
   "metadata": {},
   "outputs": [],
   "source": [
    "\n",
    "# face recognition and face save\n",
    "import cv2\n",
    "from PIL import Image as pilImage\n",
    "import tkinter as tk\n",
    "from tkinter import Image, filedialog\n",
    "\n",
    "root = tk.Tk()\n",
    "root.withdraw()\n",
    "\n",
    "pic_path = r\"C:\\Users\\natlq\\AppData\\Local\\Programs\\Python\\Python310\\Lib\\site-packages\\cv2\\data\\haarcascade_frontalface_default.xml\"\n",
    "face_cascade = cv2.CascadeClassifier(pic_path)      # 建立识别文件对象\n",
    "img_path = filedialog.askopenfilename()\n",
    "img = cv2.imread(img_path)      # 读取图像文件建立图像文件对象\n",
    "faces = face_cascade.detectMultiScale(img, scaleFactor=1.1, minNeighbors = 3, minSize=(20, 20))\n",
    "# 标注右下角底色是黄色\n",
    "cv2.rectangle(img, (img.shape[1]-140, img.shape[0]-20),\n",
    "            (img.shape[1], img.shape[0]), (0, 255, 255), -1)\n",
    "# 标注找到多少人脸\n",
    "cv2.putText(img, 'finding' + str(len(faces)) + 'faces',\n",
    "            (img.shape[1]-135, img.shape[0]-5),\n",
    "            cv2.FONT_HERSHEY_COMPLEX, 0.5, (255, 0, 0), 1)\n",
    "# 将人脸框起来，有于有可能找到好几个脸所以用循环绘出来\n",
    "num = 1\n",
    "for(x, y, w, h) in faces:\n",
    "    cv2.rectangle(img, (x, y), (x+w, y+h), (255, 0, 0), 2)\n",
    "    filename0 = '.\\\\python\\\\opencv\\\\Picture\\\\FaceResult\\\\face' + str(num) + '.jpg'           # 建立文件名\n",
    "    image = pilImage.open(img_path)                    # PIL模块开启\n",
    "    imageCrop = image.crop((x, y, x+w, y + h))      # 裁剪\n",
    "    imageResize = imageCrop.resize((150, 150), pilImage.ANTIALIAS) # 高质量重制大小\n",
    "    imageResize.save(filename0)      # 存储大小\n",
    "    num += 1            # 文件编号\n",
    "cv2.namedWindow('face', cv2.WINDOW_NORMAL)      # 建立图像对象\n",
    "cv2.imshow('face', img)     # 显示图像\n",
    "cv2.waitKey(30000)\n",
    "cv2.destroyAllWindows()\n",
    "\n"
   ]
  },
  {
   "cell_type": "markdown",
   "metadata": {},
   "source": [
    "#### 读取摄像头所拍的画面"
   ]
  },
  {
   "cell_type": "markdown",
   "metadata": {},
   "source": [
    "OpenCV有提供功能可以让我们读取一般影片，也可以读取摄像头所拍画面，当然可以提取所拍画面的脸形。控制摄像头的语法如下：\n",
    "\n",
    "     cap = VideoCapture(n)  # 笔记本电脑上内置摄像头，n是0\n",
    "上述cap是摄像头对象，可自行取名。可以由cap.isOpened( )判断摄像头是否打开，如果打开则返回True，否则返回False。当摄像头打开时，可以使用下列方法读取摄像头所拍的图像。\n",
    "\n",
    "     ret, img = cap.read( )\n",
    "ret是布尔值，如果是True则表示拍摄成功，如果是False则表示拍摄失败。img是摄像头所拍的图像对象。拍摄结束可以使用cap.release( )关闭摄像头。   \n",
    "\n",
    "34-2-5小节有介绍cv2.waitKey( )，这个方法除了可以作为一般等待，也可以等待用户的按键，如下所示：\n",
    "\n",
    "     key = cv2.waitKey(n)  # n是等待时间，key是用户的按键\n",
    "当用户有按键发生时所按的键会传给key，这个key是一个ASCII码值。程序实例ch34_8.py：将摄像头所拍摄的图像存储至photo.jpg，可参考第8～11行，同时将这个图像做识别处理，框出脸形，同时将所框的脸形存入faceout.jpg。"
   ]
  },
  {
   "cell_type": "code",
   "execution_count": null,
   "metadata": {},
   "outputs": [],
   "source": [
    "\n",
    "# 将摄像头拍摄的图像存储至photo.jpg，同时将这个图像做识别处理，框出脸型，同时\n",
    "# 将所框脸型存入faceout.jpg\n",
    "\n",
    "import cv2\n",
    "from PIL import Image\n",
    "\n",
    "\n",
    "picpath = r\"C:\\Users\\Natlqs1234\\AppData\\Local\\Packages\\PythonSoftwareFoundation.Python.3.9_qbz5n2kfra8p0\\LocalCache\\local-packages\\Python39\\site-packages\\cv2\\data\\haarcascade_frontalface_default.xml\"\n",
    "face_cascade = cv2.CascadeClassifier(picpath)       # 建立识别文件对象\n",
    "cv2.namedWindow('Photo')\n",
    "cap = cv2.VideoCapture(0)       # 开启摄像头\n",
    "while(cap.isOpened()):       #如果摄像头打开就开启循环\n",
    "    ret, img = cap.read()       # 读取图像\n",
    "    cv2.imshow('Photo', img)        # 在OpenCv窗口显示图像\n",
    "    if ret == True:         # 如果读取图像成功\n",
    "        key = cv2.waitKey(200)          # 0.2秒检查一次\n",
    "        if key == ord('a') or key == ord('A'):       # 如果按A或a\n",
    "            cv2.imwrite('.\\\\python\\\\opencv\\\\Picture\\\\photo.jpg', img)       # 将图像写入photo.jpg\n",
    "            break\n",
    "cap.release()           # 关闭摄像头\n",
    "\n",
    "faces = face_cascade.detectMultiScale(img, scaleFactor=1.1, minNeighbors=3, minSize=(20, 20))\n",
    "print(faces)\n",
    "\n",
    "# 标注右下角底色是黄色\n",
    "cv2.rectangle(img, (img.shape[1]-140, img.shape[0]-20),\n",
    "                (img.shape[1], img.shape[0]), (0, 255, 255), -1)\n",
    "                \n",
    "# 标注找到多少人脸\n",
    "cv2.putText(img, \"Find\" + str(len(faces)) + \" face\", \n",
    "            (img.shape[1]-140, img.shape[0]-5),\n",
    "            cv2.FONT_HERSHEY_COMPLEX, 0.5, (255, 0, 0), 1)\n",
    "            \n",
    "# 将人脸框起来\n",
    "for (x, y, w, h) in faces:\n",
    "    cv2.rectangle(img, (x, y), (x+y, w+h), (255, 0, 0), 2)       # 蓝色框住人脸\n",
    "    myimg = Image.open(\".\\\\python\\\\opencv\\\\Picture\\\\photo.jpg\")   # PIL模块开启\n",
    "    imgCrop = myimg.crop((x, y, x+w, y+h))      # 裁切\n",
    "    imgResize = imgCrop.resize((150, 150), Image.ANTIALIAS)\n",
    "    imgResize.save('.\\\\python\\\\opencv\\\\Picture\\\\FaceResult\\\\faceout.jpg')     # 存储文件\n",
    "\n",
    "cv2.namedWindow(\"FaceRecognition\", cv2.WINDOW_NORMAL)\n",
    "cv2.imshow(\"FaceRecognition\", img)\n",
    "cv2.waitKey(20000)\n"
   ]
  },
  {
   "cell_type": "markdown",
   "metadata": {},
   "source": [
    "#### 脸型对比"
   ]
  },
  {
   "cell_type": "markdown",
   "metadata": {},
   "source": [
    "其实脸形比对的算法也是相对复杂，对我们而言只要使用前人所开法的算法即可。此节笔者使用的是histogram( )方法，它的基本观念是取出2个脸形的颜色(RGB)分布的直方图，对2个颜色做RMS(root-mean-square)，如果2个图一样所得的RMS为0，RMS结果值越大代表图差异越大。   \n",
    "程序实例ch34_9.py：计算2张相同图的RMS值，这个程序需要导入许多模块。   "
   ]
  },
  {
   "cell_type": "code",
   "execution_count": null,
   "metadata": {},
   "outputs": [],
   "source": [
    "# \n",
    "from functools import reduce\n",
    "from PIL import Image\n",
    "import math, operator\n",
    "\n",
    "h1 = Image.open('face1.jpg').histogram()\n",
    "h2 = Image.open('face1.jpg').histogram()\n",
    "\n",
    "RMS = math.sqrt(reduce(operator.add, list(map(lambda a, b: (a-b)**2, h1, h2)))/len(h1))\n",
    "\n",
    "print('RMS = ', RMS)"
   ]
  }
 ],
 "metadata": {
  "interpreter": {
   "hash": "4daa0326aea42554d308cebd9c6877fd687b24b2fd4f3f4f49fb4bfbb16d0ec9"
  },
  "kernelspec": {
   "display_name": "Python 3.9.5 64-bit",
   "language": "python",
   "name": "python3"
  },
  "language_info": {
   "codemirror_mode": {
    "name": "ipython",
    "version": 3
   },
   "file_extension": ".py",
   "mimetype": "text/x-python",
   "name": "python",
   "nbconvert_exporter": "python",
   "pygments_lexer": "ipython3",
   "version": "3.9.10"
  },
  "orig_nbformat": 4
 },
 "nbformat": 4,
 "nbformat_minor": 2
}
